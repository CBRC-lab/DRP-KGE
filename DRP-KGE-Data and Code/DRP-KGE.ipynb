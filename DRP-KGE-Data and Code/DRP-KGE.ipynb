{
  "cells": [
    {
      "cell_type": "markdown",
      "metadata": {
        "id": "OZEjehlD9jb3"
      },
      "source": [
        "#Importing packages\n"
      ]
    },
    {
      "cell_type": "code",
      "execution_count": 1,
      "metadata": {
        "colab": {
          "base_uri": "https://localhost:8080/"
        },
        "id": "2lBQqqGHVprr",
        "outputId": "db67f91d-cf95-4ff1-e17d-bb1051dd7bea"
      },
      "outputs": [
        {
          "name": "stdout",
          "output_type": "stream",
          "text": [
            "Looking in indexes: https://pypi.org/simple, https://us-python.pkg.dev/colab-wheels/public/simple/\n",
            "Requirement already satisfied: nltk in /usr/local/lib/python3.8/dist-packages (3.7)\n",
            "Requirement already satisfied: joblib in /usr/local/lib/python3.8/dist-packages (from nltk) (1.2.0)\n",
            "Requirement already satisfied: regex>=2021.8.3 in /usr/local/lib/python3.8/dist-packages (from nltk) (2022.6.2)\n",
            "Requirement already satisfied: tqdm in /usr/local/lib/python3.8/dist-packages (from nltk) (4.64.1)\n",
            "Requirement already satisfied: click in /usr/local/lib/python3.8/dist-packages (from nltk) (7.1.2)\n",
            "Looking in indexes: https://pypi.org/simple, https://us-python.pkg.dev/colab-wheels/public/simple/\n",
            "Requirement already satisfied: gensim in /usr/local/lib/python3.8/dist-packages (3.6.0)\n",
            "Requirement already satisfied: numpy>=1.11.3 in /usr/local/lib/python3.8/dist-packages (from gensim) (1.21.6)\n",
            "Requirement already satisfied: smart-open>=1.2.1 in /usr/local/lib/python3.8/dist-packages (from gensim) (6.3.0)\n",
            "Requirement already satisfied: scipy>=0.18.1 in /usr/local/lib/python3.8/dist-packages (from gensim) (1.7.3)\n",
            "Requirement already satisfied: six>=1.5.0 in /usr/local/lib/python3.8/dist-packages (from gensim) (1.15.0)\n",
            "Traceback (most recent call last):\n",
            "  File \"/usr/local/lib/python3.8/dist-packages/pip/_internal/cli/base_command.py\", line 167, in exc_logging_wrapper\n",
            "    status = run_func(*args)\n",
            "  File \"/usr/local/lib/python3.8/dist-packages/pip/_internal/cli/req_command.py\", line 199, in wrapper\n",
            "    return func(self, options, args)\n",
            "  File \"/usr/local/lib/python3.8/dist-packages/pip/_internal/commands/install.py\", line 285, in run\n",
            "    session = self.get_default_session(options)\n",
            "  File \"/usr/local/lib/python3.8/dist-packages/pip/_internal/cli/req_command.py\", line 75, in get_default_session\n",
            "    self._session = self.enter_context(self._build_session(options))\n",
            "  File \"/usr/local/lib/python3.8/dist-packages/pip/_internal/cli/req_command.py\", line 89, in _build_session\n",
            "    session = PipSession(\n",
            "  File \"/usr/local/lib/python3.8/dist-packages/pip/_internal/network/session.py\", line 282, in __init__\n",
            "    self.headers[\"User-Agent\"] = user_agent()\n",
            "  File \"/usr/local/lib/python3.8/dist-packages/pip/_internal/network/session.py\", line 157, in user_agent\n",
            "    setuptools_dist = get_default_environment().get_distribution(\"setuptools\")\n",
            "  File \"/usr/local/lib/python3.8/dist-packages/pip/_internal/metadata/__init__.py\", line 24, in get_default_environment\n",
            "    from .pkg_resources import Environment\n",
            "  File \"/usr/local/lib/python3.8/dist-packages/pip/_internal/metadata/pkg_resources.py\", line 9, in <module>\n",
            "    from pip._vendor import pkg_resources\n",
            "  File \"/usr/local/lib/python3.8/dist-packages/pip/_vendor/pkg_resources/__init__.py\", line 3252, in <module>\n",
            "    def _initialize_master_working_set():\n",
            "  File \"/usr/local/lib/python3.8/dist-packages/pip/_vendor/pkg_resources/__init__.py\", line 3235, in _call_aside\n",
            "    f(*args, **kwargs)\n",
            "  File \"/usr/local/lib/python3.8/dist-packages/pip/_vendor/pkg_resources/__init__.py\", line 3277, in _initialize_master_working_set\n",
            "    tuple(\n",
            "  File \"/usr/local/lib/python3.8/dist-packages/pip/_vendor/pkg_resources/__init__.py\", line 3278, in <genexpr>\n",
            "    dist.activate(replace=False)\n",
            "  File \"/usr/local/lib/python3.8/dist-packages/pip/_vendor/pkg_resources/__init__.py\", line 2782, in activate\n",
            "    fixup_namespace_packages(self.location)\n",
            "  File \"/usr/local/lib/python3.8/dist-packages/pip/_vendor/pkg_resources/__init__.py\", line 2295, in fixup_namespace_packages\n",
            "    subpath = _handle_ns(package, path_item)\n",
            "  File \"/usr/local/lib/python3.8/dist-packages/pip/_vendor/pkg_resources/__init__.py\", line 2201, in _handle_ns\n",
            "    loader = importer.find_module(packageName)\n",
            "  File \"<frozen importlib._bootstrap_external>\", line 546, in _find_module_shim\n",
            "  File \"<frozen importlib._bootstrap_external>\", line 1488, in find_loader\n",
            "  File \"<frozen importlib._bootstrap_external>\", line 1534, in find_spec\n",
            "  File \"<frozen importlib._bootstrap_external>\", line 123, in _path_join\n",
            "  File \"<frozen importlib._bootstrap_external>\", line 123, in <listcomp>\n",
            "KeyboardInterrupt\n",
            "\n",
            "During handling of the above exception, another exception occurred:\n",
            "\n",
            "Traceback (most recent call last):\n",
            "  File \"/usr/local/bin/pip3\", line 8, in <module>\n",
            "    sys.exit(main())\n",
            "  File \"/usr/local/lib/python3.8/dist-packages/pip/_internal/cli/main.py\", line 70, in main\n",
            "    return command.main(cmd_args)\n",
            "  File \"/usr/local/lib/python3.8/dist-packages/pip/_internal/cli/base_command.py\", line 101, in main\n",
            "    return self._main(args)\n",
            "  File \"/usr/local/lib/python3.8/dist-packages/pip/_internal/cli/base_command.py\", line 221, in _main\n",
            "    return run(options, args)\n",
            "  File \"/usr/local/lib/python3.8/dist-packages/pip/_internal/cli/base_command.py\", line 204, in exc_logging_wrapper\n",
            "    logger.critical(\"Operation cancelled by user\")\n",
            "  File \"/usr/lib/python3.8/logging/__init__.py\", line 1492, in critical\n",
            "    if self.isEnabledFor(CRITICAL):\n",
            "  File \"/usr/lib/python3.8/logging/__init__.py\", line 1689, in isEnabledFor\n",
            "    def isEnabledFor(self, level):\n",
            "KeyboardInterrupt\n",
            "^C\n"
          ]
        },
        {
          "name": "stderr",
          "output_type": "stream",
          "text": [
            "[nltk_data] Downloading package punkt to /root/nltk_data...\n",
            "[nltk_data]   Unzipping tokenizers/punkt.zip.\n",
            "/usr/local/lib/python3.8/dist-packages/torch/cuda/__init__.py:497: UserWarning: Can't initialize NVML\n",
            "  warnings.warn(\"Can't initialize NVML\")\n"
          ]
        }
      ],
      "source": [
        "! pip install nltk\n",
        "! pip install gensim\n",
        "! pip install imbalanced-learn\n",
        "\n",
        "import pandas as pd\n",
        "import numpy as np\n",
        "\n",
        "import gensim\n",
        "from gensim.models import Word2Vec\n",
        "import nltk\n",
        "nltk.download('punkt')\n",
        "from nltk.tokenize import sent_tokenize, word_tokenize\n",
        "import warnings\n",
        "from collections import defaultdict  # For word frequency\n",
        "import spacy  # For preprocessing\n",
        "warnings.filterwarnings(action = 'ignore')\n",
        "  \n",
        "\n",
        "import random\n",
        "from sklearn.metrics import roc_auc_score, roc_curve, precision_score, auc, precision_recall_curve, plot_roc_curve, classification_report, average_precision_score, matthews_corrcoef\n",
        "from sklearn import svm\n",
        "from sklearn.tree import DecisionTreeClassifier\n",
        "from sklearn.ensemble import RandomForestClassifier\n",
        "from sklearn.metrics.pairwise import cosine_similarity\n",
        "from sklearn.model_selection import train_test_split\n",
        "from sklearn.linear_model import LogisticRegression\n",
        "from sklearn.tree import DecisionTreeClassifier\n",
        "from sklearn.ensemble import RandomForestClassifier\n",
        "import matplotlib.pyplot as plt\n",
        "from sklearn.model_selection import StratifiedKFold, LeaveOneOut\n",
        "import matplotlib.pyplot as plt\n",
        "import seaborn as sns\n",
        "from sklearn.model_selection import KFold\n",
        "import copy\n",
        "\n",
        "from imblearn.over_sampling import SMOTE, RandomOverSampler\n",
        "from imblearn.under_sampling import RandomUnderSampler\n"
      ]
    },
    {
      "cell_type": "markdown",
      "metadata": {
        "id": "E4DPQo6ciHJF"
      },
      "source": [
        "# Data loading -> Drug-Disease associatio keep out based on repeating experiments"
      ]
    },
    {
      "cell_type": "markdown",
      "metadata": {
        "id": "E1K3aImv-zpt"
      },
      "source": [
        "The associations are based RepoDB database and collected from golden standard database of our prior study, DRP-VEM."
      ]
    },
    {
      "cell_type": "code",
      "execution_count": 3,
      "metadata": {
        "id": "CHIpDlp6WXO5"
      },
      "outputs": [],
      "source": [
        "ass = pd.read_csv(\"my_repodb.txt\") \n",
        "ass.set_index(\"Unnamed: 0\", inplace=True)\n",
        "disgenet = pd.read_csv(\"Gen-Dis-association-Disgenet-2022.csv\")\n",
        "\n",
        "# making the drug and disease lists\n",
        "my_disease_list = list(set(ass.ind_id))\n",
        "my_drug_list = list(set(ass.drug_id))\n",
        "drugs=list(set(ass.drug_id))\n",
        "disgenet = disgenet.loc[disgenet['diseaseId'].isin(my_disease_list)]\n",
        "my_disease_list = list(set(disgenet.diseaseId))\n",
        "ass = ass.loc[ass['ind_id'].isin(my_disease_list)]\n",
        "my_drug_list = list(set(ass.drug_id))\n",
        "\n",
        "# making the list of known drug-disease associations \n",
        "\n",
        "A=[]\n",
        "for ix, row in ass.iterrows():\n",
        "  text = str(row.drug_id)+\" has_indicated \"+str(row.ind_id)+\". \"\n",
        "  A.append(text)\n",
        "\n",
        "associations = []\n",
        "for a in A:\n",
        "  associations.append(a)\n",
        "\n",
        "\n"
      ]
    },
    {
      "cell_type": "code",
      "execution_count": 4,
      "metadata": {
        "colab": {
          "base_uri": "https://localhost:8080/",
          "height": 105
        },
        "id": "h0-IC2UisxlI",
        "outputId": "045fc3b4-4abd-4f90-96aa-1b7eae136c98"
      },
      "outputs": [
        {
          "data": {
            "text/plain": [
              "Text(0.5, 1.0, 'Type')"
            ]
          },
          "execution_count": 4,
          "metadata": {},
          "output_type": "execute_result"
        },
        {
          "data": {
            "image/png": "[encoded data removed]",
            "text/plain": [
              "<Figure size 720x720 with 1 Axes>"
            ]
          },
          "metadata": {
            "needs_background": "light"
          },
          "output_type": "display_data"
        }
      ],
      "source": [
        "# The frequency of drug-id and indication id\n",
        "\n",
        "sns.countplot(ass['ind_id'])\n",
        "fig = plt.gcf()\n",
        "fig.set_size_inches(10, 10)\n",
        "plt.title('Type')"
      ]
    },
    {
      "cell_type": "code",
      "execution_count": 5,
      "metadata": {
        "id": "hbn2fUcAJyim"
      },
      "outputs": [],
      "source": [
        "freq = ass.groupby(['ind_id'])['drug_id'].agg('count').reset_index()\n",
        "freq = freq.sort_values(by='drug_id', ascending=False)\n"
      ]
    },
    {
      "cell_type": "code",
      "execution_count": 6,
      "metadata": {
        "id": "lveVLqkSg1N3"
      },
      "outputs": [],
      "source": [
        "has = pd.read_csv(\"my_repodb.txt\") # Positive data: Known Drug-Disease associations\n",
        "has.set_index(\"Unnamed: 0\", inplace=True)\n",
        "has = has.drop(['drug_name', 'ind_name','NCT','status', 'phase',\n",
        "       'DetailedStatus'], axis=1)\n",
        "has = has.loc[has['ind_id'].isin(my_disease_list)]\n",
        "\n",
        "\n",
        "hasnt = pd.read_csv(\"my_only_negatives.txt\") # Negative data: Unknown Drug-Disease associations when disease is adverse drug reaction\n",
        "hasnt.set_index(\"Unnamed: 0\", inplace=True)\n",
        "hasnt = hasnt.rename(columns={\"Not_indicated_for\":\"ind_id\", \"Drug_id\": \"drug_id\"})\n",
        "hasnt = hasnt.loc[hasnt['ind_id'].isin(my_disease_list)]\n"
      ]
    },
    {
      "cell_type": "code",
      "execution_count": 7,
      "metadata": {
        "colab": {
          "base_uri": "https://localhost:8080/"
        },
        "id": "49Ts6SkknKOi",
        "outputId": "70800a1c-fa1d-4264-dc04-caf88896376e"
      },
      "outputs": [
        {
          "name": "stdout",
          "output_type": "stream",
          "text": [
            "The number of all known drug disease associations in our dataset:  (748, 2)\n",
            "Number of unique disease in Pos:  141\n",
            "Number of uniques drugs in Pos:  410\n"
          ]
        }
      ],
      "source": [
        "# Positive : Known drug-disease associations\n",
        "print(\"The number of all known drug disease associations in our dataset: \",(has.shape))\n",
        "print(\"Number of unique disease in Pos: \",len(list(set(has.ind_id))) )\n",
        "print(\"Number of uniques drugs in Pos: \", len(list(set(has.drug_id))) )"
      ]
    },
    {
      "cell_type": "code",
      "execution_count": 8,
      "metadata": {
        "colab": {
          "base_uri": "https://localhost:8080/"
        },
        "id": "GZXvtRqpmzZA",
        "outputId": "648b79ab-c4dd-4b44-fe55-70ce3ce5d971"
      },
      "outputs": [
        {
          "name": "stdout",
          "output_type": "stream",
          "text": [
            "The number of unknown drug disease associations in our dataset:  (1966, 2)\n",
            "Number of unique disease in Neg:  88\n",
            "Number of uniques drugs in Neg:  361\n"
          ]
        }
      ],
      "source": [
        "# Negatives : Unknown drug-disease associations provided the disease is adverse drug reactoins\n",
        "\n",
        "print(\"The number of unknown drug disease associations in our dataset: \",(hasnt.shape))\n",
        "print(\"Number of unique disease in Neg: \",len(list(set(hasnt.ind_id))) )\n",
        "print(\"Number of uniques drugs in Neg: \", len(list(set(hasnt.drug_id))) )"
      ]
    },
    {
      "cell_type": "markdown",
      "metadata": {
        "id": "u0-W14GnITTO"
      },
      "source": [
        "The information of diseases are collected using [DisGeNet](https://www.disgenet.org)"
      ]
    },
    {
      "cell_type": "code",
      "execution_count": 9,
      "metadata": {
        "id": "CBpV3s6Ep9sX"
      },
      "outputs": [],
      "source": [
        "\n",
        "# making the relation of diseases: has_geneid, has_class, has_semantic, has_type\n",
        "\n",
        "C=[]\n",
        "num1=0\n",
        "num2=0\n",
        "num3=0\n",
        "num4=0\n",
        "for idx, row in disgenet.iterrows():\n",
        "      semtype = \"_\".join(row.diseaseSemanticType.split())\n",
        "      clas = row.diseaseClass.split(\";\")\n",
        "      text1 =str(row.diseaseId)+\" has_geneid \"+str(row.geneSymbol)+\". \"\n",
        "      num1+=1\n",
        "      text2 =str(row.diseaseId)+\" has_type \"+str(row.diseaseType)+\". \"\n",
        "      num2+=1\n",
        "      text3 =str(row.diseaseId)+\" has_semantic \"+str(semtype)+\". \"\n",
        "      num3+=1\n",
        "      C.append(text1)\n",
        "      C.append(text2)\n",
        "      C.append(text3)\n",
        "      num4+=len(clas)\n",
        "      for cl in clas:\n",
        "        text =str(row.diseaseId)+\" has_class \"+str(cl)+\". \"\n",
        "        C.append(text)\n",
        "\n",
        "Disease=\"\"\n",
        "for c in C:\n",
        "  Disease= Disease+c\n"
      ]
    },
    {
      "cell_type": "markdown",
      "metadata": {
        "id": "p7mdjCe2RWKp"
      },
      "source": [
        "making the drug relations: has_sideeffect, has_target, has_domain, has_atccode, has_chemicalstructure"
      ]
    },
    {
      "cell_type": "code",
      "execution_count": 10,
      "metadata": {
        "id": "t7dgE79vZq2Q"
      },
      "outputs": [],
      "source": [
        "# has_target relation. data is collected using DrugBank\n",
        "T=[]\n",
        "target= pd.read_csv(\"my_target.txt\")\n",
        "target.set_index(\"Unnamed: 0\", inplace=True)\n",
        "# target_name = target.columns\n",
        "for idx, row in target.iterrows():\n",
        "  for c in target.columns:\n",
        "    if row[c] ==1 :\n",
        "      text =str(idx)+\" has_target \"+str(c)+\". \"\n",
        "      T.append(text)\n",
        "target=\"\"\n",
        "for c in T:\n",
        "  target= target+c"
      ]
    },
    {
      "cell_type": "code",
      "execution_count": 12,
      "metadata": {
        "id": "uChMRBszaTLw"
      },
      "outputs": [],
      "source": [
        "# has_domain relation. data is collected using UniProt\n",
        "D=[]\n",
        "dom= pd.read_csv(\"my_domain.txt\")\n",
        "dom.set_index(\"Unnamed: 0\", inplace=True)\n",
        "for idx, row in dom.iterrows():\n",
        "  for c in dom.columns:\n",
        "    if row[c] ==1 :\n",
        "      text =str(idx)+\" has_domain \"+str(c)+\". \"\n",
        "      D.append(text)\n",
        "\n",
        "domain=\"\"\n",
        "for c in D:\n",
        "  domain= domain+c\n"
      ]
    },
    {
      "cell_type": "code",
      "execution_count": 13,
      "metadata": {
        "id": "0EGF5zFsSkTE"
      },
      "outputs": [],
      "source": [
        "# has_chemical relation. data is collected using Pubchem\n",
        "C=[]\n",
        "finger= pd.read_csv(\"my_finger.txt\")\n",
        "finger.set_index(\"Unnamed: 0\", inplace=True)\n",
        "for idx, row in finger.iterrows():\n",
        "  for c in finger.columns:\n",
        "    if row[c] ==1 :\n",
        "      text =str(idx)+\" has_chemical S\"+str(c)+\". \"\n",
        "      C.append(text)\n",
        "chemical=\"\"\n",
        "for c in C:\n",
        "  chemical= chemical+c"
      ]
    },
    {
      "cell_type": "code",
      "execution_count": 14,
      "metadata": {
        "id": "7ZSOlKfUOBJA"
      },
      "outputs": [],
      "source": [
        "# has_atc_code relation. data is collected using Sider4.1\n",
        "\n",
        "ATC=[]\n",
        "atc= pd.read_csv(\"my_ATC.txt\")\n",
        "atc.set_index(\"Unnamed: 0\", inplace=True)\n",
        "for idx, row in atc.iterrows():\n",
        "  for c in atc.columns:\n",
        "    if row[c] == 1 and (len(c)==4 or len(c)==1 or len(c)==3 or len(c)==5): # we consider first 4 level of ATC code\n",
        "      text =str(idx)+\" has_atc_code \"+str(c)+\". \"\n",
        "      ATC.append(text)\n",
        "atccode=\"\"\n",
        "for c in ATC:\n",
        "  atccode= atccode+c"
      ]
    },
    {
      "cell_type": "code",
      "execution_count": 15,
      "metadata": {
        "id": "usc_IO_5YdZh"
      },
      "outputs": [],
      "source": [
        "# has_sideeffect relation. Date is collected using Sider4.1\n",
        "S=[]\n",
        "side= pd.read_csv(\"my_sideeffect.txt\")\n",
        "side.set_index(\"Unnamed: 0\", inplace=True)\n",
        "for idx, row in side.iterrows():\n",
        "  for c in side.columns:\n",
        "    if row[c] ==1 :\n",
        "      text =str(idx)+\" has_sideeffect \"+str(c)+\". \"\n",
        "      S.append(text)"
      ]
    },
    {
      "cell_type": "markdown",
      "metadata": {
        "id": "kRXTA448ULst"
      },
      "source": [
        "Extracting drug-disease associations\n",
        "\n",
        "Positive data: Known drug-disease associations\n",
        "\n",
        "Negative data: a subset of unknown drug-disease associations that disease is an adverse drug reaction and common with our side effects\n",
        "\n",
        "More over I did it 10 times for getting the results of 10-experiments."
      ]
    },
    {
      "cell_type": "code",
      "execution_count": 16,
      "metadata": {
        "id": "ZtriJmeR2mZw"
      },
      "outputs": [],
      "source": [
        "A_test=[]\n",
        "i=0\n",
        "# randomly chose 10% (74) of positive data for test set\n",
        "# then extract those pairs from the documnet of associations that word2vec learns\n",
        "while(i!=74):\n",
        "  a1 = (random.sample(A, 1))\n",
        "  a = a1[0].split(\" \")\n",
        "  a2=a[2].split(\".\")\n",
        "  A_test.append(a1[0])\n",
        "  A.remove(a1[0]) # removing the drug-disease pairs that we aim to check their associations by the model\n",
        "  i+=1\n",
        "\n",
        "ass=\"\" # making the new associations for training the models\n",
        "for c in A:\n",
        "  ass= ass+c"
      ]
    },
    {
      "cell_type": "code",
      "execution_count": 17,
      "metadata": {
        "colab": {
          "base_uri": "https://localhost:8080/"
        },
        "id": "SNBl2eMK2mZ1",
        "outputId": "4c126ec6-bafa-4af1-a7d7-d2332b586e33"
      },
      "outputs": [
        {
          "name": "stdout",
          "output_type": "stream",
          "text": [
            "The number of  known drug disease associations without positive test set: (674, 2)\n"
          ]
        }
      ],
      "source": [
        "\n",
        "I=[]\n",
        "for idx, row in has.iterrows():\n",
        "  text=str(row.drug_id)+\" has_indicated \"+str(row.ind_id)+\". \"\n",
        "  if text in A_test: # Extracting test associations from positive data\n",
        "    I.append(idx)\n",
        "has = has.drop(index=I, axis=0)\n",
        "print(\"The number of  known drug disease associations without positive test set:\",has.shape)"
      ]
    },
    {
      "cell_type": "code",
      "execution_count": 18,
      "metadata": {
        "colab": {
          "base_uri": "https://localhost:8080/"
        },
        "id": "fjOm6_gAR9Qp",
        "outputId": "d36ebb89-a0b5-4570-cfdc-42b9015f2449"
      },
      "outputs": [
        {
          "name": "stdout",
          "output_type": "stream",
          "text": [
            "The number of unknown drug disease associations in our dataset:  (1966, 2)\n",
            "The number of unknown drug disease associations without negative test set:  (1888, 2)\n"
          ]
        }
      ],
      "source": [
        "print(\"The number of unknown drug disease associations in our dataset: \",(hasnt.shape))\n",
        "\n",
        "I=[]\n",
        "u=0\n",
        "hasnt_test_idx=random.sample(range(0,hasnt.shape[0]), 78)\n",
        "for idx, row in hasnt.iterrows():\n",
        "  if idx in hasnt_test_idx:\n",
        "    I.append(row)\n",
        "    x = str(row.drug_id)+\" has_sideeffect \"+str(row.ind_id)+\". \"  # we extract those has_sideeffect relations from drug which are in negative test set and we consider them as adverse drug reactions\n",
        "    if(x in S):\n",
        "      S.remove(x)\n",
        "      u = u+1\n",
        "hasnt = hasnt.drop(index=hasnt_test_idx, axis=0)\n",
        "print(\"The number of unknown drug disease associations without negative test set: \",(hasnt.shape))\n",
        "\n",
        "side=\"\"\n",
        "for c in S:\n",
        "  side= side+c\n",
        "I=pd.DataFrame(I)"
      ]
    },
    {
      "cell_type": "markdown",
      "metadata": {
        "id": "Vkx6IPHxtWty"
      },
      "source": [
        "# Data loading -> Keep disease out experiments"
      ]
    },
    {
      "cell_type": "markdown",
      "metadata": {
        "id": "WEmfZGHatWt8"
      },
      "source": [
        "Here, every time I divide my disease lists to 10 part. and every time I use 9 parts as train and 1 part as test"
      ]
    },
    {
      "cell_type": "code",
      "execution_count": null,
      "metadata": {
        "id": "fTFv9Om0tWuC"
      },
      "outputs": [],
      "source": [
        "T=[]\n",
        "dic_dis={}\n",
        "i=0\n",
        "for d in my_disease_list:\n",
        "  dic_dis[i]=d\n",
        "  i+=1"
      ]
    },
    {
      "cell_type": "code",
      "execution_count": null,
      "metadata": {
        "id": "bsvnPIg6vdWJ"
      },
      "outputs": [],
      "source": [
        "def list_of_disease_test(T):\n",
        "  i=0\n",
        "  new_test=[]\n",
        "  while i!=14:\n",
        "    num = random.randint(0, 140)\n",
        "    if num in T:\n",
        "      continue\n",
        "    else:\n",
        "      T.append(num)\n",
        "      new_test.append(num)\n",
        "      i+=1\n",
        "  return new_test\n",
        "  "
      ]
    },
    {
      "cell_type": "code",
      "execution_count": null,
      "metadata": {
        "id": "jSm3Nsjmv5W2"
      },
      "outputs": [],
      "source": [
        "test1 = list_of_disease_test(T)\n",
        "train1 = dic_dis.keys()-test1\n",
        "\n",
        "test2 = list_of_disease_test(T)\n",
        "train2 = dic_dis.keys()-test2\n",
        "\n",
        "test3 = list_of_disease_test(T)\n",
        "train3 = dic_dis.keys()-test3\n",
        "\n",
        "test4 = list_of_disease_test(T)\n",
        "train4 = dic_dis.keys()-test4\n",
        "\n",
        "test5 = list_of_disease_test(T)\n",
        "train5 = dic_dis.keys()-test5\n",
        "\n",
        "test6 = list_of_disease_test(T)\n",
        "train6 = dic_dis.keys()-test6\n",
        "\n",
        "test7 = list_of_disease_test(T)\n",
        "train7 = dic_dis.keys()-test7\n",
        "\n",
        "test8 = list_of_disease_test(T)\n",
        "train8 = dic_dis.keys()-test8\n",
        "\n",
        "test9 = list_of_disease_test(T)\n",
        "train9 = dic_dis.keys()-test9\n",
        "\n",
        "test10 = list_of_disease_test(T)\n",
        "train10 = dic_dis.keys()-test10"
      ]
    },
    {
      "cell_type": "code",
      "execution_count": null,
      "metadata": {
        "id": "7hAJkhxFtWt9"
      },
      "outputs": [],
      "source": [
        "ass = pd.read_csv(\"my_repodb.txt\") \n",
        "ass.set_index(\"Unnamed: 0\", inplace=True)\n",
        "disgenet = pd.read_csv(\"Gen-Dis-association-Disgenet-2022.csv\")\n",
        "\n",
        "# making the drug and disease lists\n",
        "my_disease_list = list(set(ass.ind_id))\n",
        "my_drug_list = list(set(ass.drug_id))\n",
        "drugs=list(set(ass.drug_id))\n",
        "disgenet = disgenet.loc[disgenet['diseaseId'].isin(my_disease_list)]\n",
        "my_disease_list = list(set(disgenet.diseaseId))\n",
        "ass = ass.loc[ass['ind_id'].isin(my_disease_list)]\n",
        "my_drug_list = list(set(ass.drug_id))\n",
        "\n",
        "# making the list of known drug-disease associations \n",
        "\n",
        "A=[]\n",
        "for ix, row in ass.iterrows():\n",
        "  text = str(row.drug_id)+\" has_indicated \"+str(row.ind_id)+\". \"\n",
        "  A.append(text)\n",
        "\n",
        "associations = []\n",
        "for a in A:\n",
        "  associations.append(a)\n",
        "\n",
        "\n"
      ]
    },
    {
      "cell_type": "code",
      "execution_count": null,
      "metadata": {
        "id": "0o27rBletWuA"
      },
      "outputs": [],
      "source": [
        "has = pd.read_csv(\"my_repodb.txt\") # Positive data: Known Drug-Disease associations\n",
        "has.set_index(\"Unnamed: 0\", inplace=True)\n",
        "has = has.drop(['drug_name', 'ind_name','NCT','status', 'phase',\n",
        "       'DetailedStatus'], axis=1)\n",
        "has = has.loc[has['ind_id'].isin(my_disease_list)]\n",
        "\n",
        "\n",
        "hasnt = pd.read_csv(\"my_only_negatives.txt\") # Negative data: Unknown Drug-Disease associations when disease is adverse drug reaction\n",
        "hasnt.set_index(\"Unnamed: 0\", inplace=True)\n",
        "hasnt = hasnt.rename(columns={\"Not_indicated_for\":\"ind_id\", \"Drug_id\": \"drug_id\"})\n",
        "hasnt = hasnt.loc[hasnt['ind_id'].isin(my_disease_list)]\n"
      ]
    },
    {
      "cell_type": "code",
      "execution_count": null,
      "metadata": {
        "colab": {
          "base_uri": "https://localhost:8080/"
        },
        "id": "DwfLdFOrtWuB",
        "outputId": "ef5dbe2a-5712-42f8-a1f6-99c068614097"
      },
      "outputs": [
        {
          "name": "stdout",
          "output_type": "stream",
          "text": [
            "The number of all known drug disease associations in our dataset:  (748, 2)\n",
            "Number of unique disease in Pos:  141\n",
            "Number of uniques drugs in Pos:  410\n"
          ]
        }
      ],
      "source": [
        "# Positive : Known drug-disease associations\n",
        "print(\"The number of all known drug disease associations in our dataset: \",(has.shape))\n",
        "print(\"Number of unique disease in Pos: \",len(list(set(has.ind_id))) )\n",
        "print(\"Number of uniques drugs in Pos: \", len(list(set(has.drug_id))) )"
      ]
    },
    {
      "cell_type": "code",
      "execution_count": null,
      "metadata": {
        "colab": {
          "base_uri": "https://localhost:8080/"
        },
        "id": "HcWqqsS8tWuB",
        "outputId": "464e8d63-1260-4d11-a77f-fbeac0baefab"
      },
      "outputs": [
        {
          "name": "stdout",
          "output_type": "stream",
          "text": [
            "The number of unknown drug disease associations in our dataset:  (1966, 2)\n",
            "Number of unique disease in Neg:  88\n",
            "Number of uniques drugs in Neg:  361\n"
          ]
        }
      ],
      "source": [
        "# Negatives : Unknown drug-disease associations provided the disease is adverse drug reactoins\n",
        "\n",
        "print(\"The number of unknown drug disease associations in our dataset: \",(hasnt.shape))\n",
        "print(\"Number of unique disease in Neg: \",len(list(set(hasnt.ind_id))) )\n",
        "print(\"Number of uniques drugs in Neg: \", len(list(set(hasnt.drug_id))) )"
      ]
    },
    {
      "cell_type": "code",
      "execution_count": null,
      "metadata": {
        "id": "a2_Ws0RG1Fnk"
      },
      "outputs": [],
      "source": [
        "test_dis = []\n",
        "train_dis =[]\n",
        "for i in dic_dis.keys():\n",
        "  if i in test9:\n",
        "    test_dis.append(dic_dis[i])\n",
        "  else:\n",
        "      train_dis.append(dic_dis[i])"
      ]
    },
    {
      "cell_type": "markdown",
      "metadata": {
        "id": "nYTjb3OctWuD"
      },
      "source": [
        "The information of diseases are collected using [DisGeNet](https://www.disgenet.org)"
      ]
    },
    {
      "cell_type": "code",
      "execution_count": null,
      "metadata": {
        "id": "Px_a8WPNtWuD"
      },
      "outputs": [],
      "source": [
        "# making the relation of diseases: has_geneid, has_class, has_semantic, has_type\n",
        "\n",
        "C=[]\n",
        "num1=0\n",
        "num2=0\n",
        "num3=0\n",
        "num4=0\n",
        "for idx, row in disgenet.iterrows():\n",
        "      semtype = \"_\".join(row.diseaseSemanticType.split())\n",
        "      clas = row.diseaseClass.split(\";\")\n",
        "      text1 =str(row.diseaseId)+\" has_geneid \"+str(row.geneSymbol)+\". \"\n",
        "      num1+=1\n",
        "      text2 =str(row.diseaseId)+\" has_type \"+str(row.diseaseType)+\". \"\n",
        "      num2+=1\n",
        "      text3 =str(row.diseaseId)+\" has_semantic \"+str(semtype)+\". \"\n",
        "      num3+=1\n",
        "      C.append(text1)\n",
        "      C.append(text2)\n",
        "      C.append(text3)\n",
        "      num4+=len(clas)\n",
        "      for cl in clas:\n",
        "        text =str(row.diseaseId)+\" has_class \"+str(cl)+\". \"\n",
        "        C.append(text)\n",
        "\n",
        "Disease=\"\"\n",
        "for c in C:\n",
        "  Disease= Disease+c\n"
      ]
    },
    {
      "cell_type": "markdown",
      "metadata": {
        "id": "CARCbnnCtWuE"
      },
      "source": [
        "making the drug relations: has_sideeffect, has_target, has_domain, has_atccode, has_chemicalstructure"
      ]
    },
    {
      "cell_type": "code",
      "execution_count": null,
      "metadata": {
        "id": "_D_Vt2x4tWuE"
      },
      "outputs": [],
      "source": [
        "# has_target relation. data is collected using DrugBank\n",
        "T=[]\n",
        "target= pd.read_csv(\"my_target.txt\")\n",
        "target.set_index(\"Unnamed: 0\", inplace=True)\n",
        "for idx, row in target.iterrows():\n",
        "  for c in target.columns:\n",
        "    if row[c] ==1 :\n",
        "      text =str(idx)+\" has_target \"+str(c)+\". \"\n",
        "      T.append(text)\n",
        "target=\"\"\n",
        "for c in T:\n",
        "  target= target+c"
      ]
    },
    {
      "cell_type": "code",
      "execution_count": null,
      "metadata": {
        "id": "pviUIAlbtWuF"
      },
      "outputs": [],
      "source": [
        "# has_domain relation. data is collected using UniProt\n",
        "D=[]\n",
        "dom= pd.read_csv(\"my_domain.txt\")\n",
        "dom.set_index(\"Unnamed: 0\", inplace=True)\n",
        "for idx, row in dom.iterrows():\n",
        "  for c in dom.columns:\n",
        "    if row[c] ==1 :\n",
        "      text =str(idx)+\" has_domain \"+str(c)+\". \"\n",
        "      D.append(text)\n",
        "\n",
        "domain=\"\"\n",
        "for c in D:\n",
        "  domain= domain+c\n"
      ]
    },
    {
      "cell_type": "code",
      "execution_count": null,
      "metadata": {
        "id": "ZE9_lwrGtWuF"
      },
      "outputs": [],
      "source": [
        "# has_chemical relation. data is collected using Pubchem\n",
        "C=[]\n",
        "finger= pd.read_csv(\"my_finger.txt\")\n",
        "finger.set_index(\"Unnamed: 0\", inplace=True)\n",
        "for idx, row in finger.iterrows():\n",
        "  for c in finger.columns:\n",
        "    if row[c] ==1 :\n",
        "      text =str(idx)+\" has_chemical S\"+str(c)+\". \"\n",
        "      C.append(text)\n",
        "chemical=\"\"\n",
        "for c in C:\n",
        "  chemical= chemical+c"
      ]
    },
    {
      "cell_type": "code",
      "execution_count": null,
      "metadata": {
        "id": "G18Kh1ustWuF"
      },
      "outputs": [],
      "source": [
        "# has_atc_code relation. data is collected using Sider4.1\n",
        "\n",
        "ATC=[]\n",
        "atc= pd.read_csv(\"my_ATC.txt\")\n",
        "atc.set_index(\"Unnamed: 0\", inplace=True)\n",
        "for idx, row in atc.iterrows():\n",
        "  for c in atc.columns:\n",
        "    if row[c] == 1 and (len(c)==4 or len(c)==1 or len(c)==3 or len(c)==5): # we consider first 4 level of ATC code\n",
        "      text =str(idx)+\" has_atc_code \"+str(c)+\". \"\n",
        "      ATC.append(text)\n",
        "atccode=\"\"\n",
        "for c in ATC:\n",
        "  atccode= atccode+c"
      ]
    },
    {
      "cell_type": "code",
      "execution_count": null,
      "metadata": {
        "colab": {
          "background_save": true
        },
        "id": "DgDQva9dtWuG"
      },
      "outputs": [],
      "source": [
        "# has_sideeffect relation. Date is collected using Sider4.1\n",
        "S=[]\n",
        "side= pd.read_csv(\"my_sideeffect.txt\")\n",
        "side.set_index(\"Unnamed: 0\", inplace=True)\n",
        "for idx, row in side.iterrows():\n",
        "  for c in side.columns:\n",
        "    if row[c] ==1 :\n",
        "      text =str(idx)+\" has_sideeffect \"+str(c)+\". \"\n",
        "      S.append(text)"
      ]
    },
    {
      "cell_type": "markdown",
      "metadata": {
        "id": "FxqNvT22tWuG"
      },
      "source": [
        "Extracting drug-disease associations\n",
        "\n",
        "Positive data: Known drug-disease associations\n",
        "\n",
        "Negative data: a subset of unknown drug-disease associations that disease is an adverse drug reaction and common with our side effects\n",
        "\n",
        "More over I did it 10 times for getting the results of 10-fold cross validation based on positive data"
      ]
    },
    {
      "cell_type": "code",
      "execution_count": null,
      "metadata": {
        "colab": {
          "background_save": true,
          "base_uri": "https://localhost:8080/"
        },
        "id": "M-Phhct7tWuI",
        "outputId": "6d0514a1-71a8-4f98-866e-86c343fc33d3"
      },
      "outputs": [
        {
          "name": "stdout",
          "output_type": "stream",
          "text": [
            "748\n",
            "707 41\n"
          ]
        }
      ],
      "source": [
        "A_test=[]\n",
        "i=0\n",
        "print(len(A))\n",
        "# randomly chose 10% (74) of positive data for test set\n",
        "# then extract those pairs from the documnet of associations that word2vec learns\n",
        "for idx, row in has.iterrows():\n",
        "  text = str(row.drug_id)+\" has_indicated \"+str(row.ind_id)+\". \"\n",
        "  if row.ind_id in test_dis:\n",
        "    A.remove(text)\n",
        "    A_test.append(text)\n",
        "print(len(A), len(A_test))\n",
        "ass=\"\" # making the new associations for training the models\n",
        "for c in A:\n",
        "  ass= ass+c"
      ]
    },
    {
      "cell_type": "code",
      "execution_count": null,
      "metadata": {
        "colab": {
          "background_save": true,
          "base_uri": "https://localhost:8080/"
        },
        "id": "VS9ThUPjtWuI",
        "outputId": "0fe427ee-0475-45d6-a8c0-272328cf66a7"
      },
      "outputs": [
        {
          "name": "stdout",
          "output_type": "stream",
          "text": [
            "The number of  known drug disease associations without positive test set: (707, 2)\n"
          ]
        }
      ],
      "source": [
        "has = has.loc[has['ind_id'].isin(train_dis)]\n",
        "print(\"The number of  known drug disease associations without positive test set:\",has.shape)"
      ]
    },
    {
      "cell_type": "code",
      "execution_count": null,
      "metadata": {
        "colab": {
          "background_save": true,
          "base_uri": "https://localhost:8080/"
        },
        "id": "WBB9-pOmtWuJ",
        "outputId": "1650b255-f87c-42ee-fc50-b9ea2cacc70d"
      },
      "outputs": [
        {
          "name": "stdout",
          "output_type": "stream",
          "text": [
            "The number of unknown drug disease associations in our dataset:  (1966, 2) 64121\n",
            "The number of  known drug disease associations without positive test set: (1932, 2) 64087\n"
          ]
        }
      ],
      "source": [
        "print(\"The number of unknown drug disease associations in our dataset: \",(hasnt.shape), len(S))\n",
        "\n",
        "I=[]\n",
        "for idx, row in hasnt.iterrows():\n",
        "  text = str(row.drug_id)+\" has_sideeffect \"+str(row.ind_id)+\". \"\n",
        "  if row.ind_id in test_dis:\n",
        "    S.remove(text)\n",
        "    I.append(row)\n",
        "\n",
        "side=\"\"\n",
        "for c in S:\n",
        "  side= side+c\n",
        "I=pd.DataFrame(I)\n",
        "hasnt = hasnt.loc[hasnt['ind_id'].isin(train_dis)]\n",
        "print(\"The number of  known drug disease associations without positive test set:\",hasnt.shape, len(S))"
      ]
    },
    {
      "cell_type": "markdown",
      "metadata": {
        "id": "OMH8JGZ0RfLi"
      },
      "source": [
        "# Data loading -> Keep Drugs out experiments"
      ]
    },
    {
      "cell_type": "markdown",
      "metadata": {
        "id": "Ig3unwbaRfLk"
      },
      "source": [
        "Here, every time I divide my disease lists to 10 part. and every time I use 9 parts as train and 1 part as test"
      ]
    },
    {
      "cell_type": "code",
      "execution_count": null,
      "metadata": {
        "id": "iQ_0SgfKRfLl"
      },
      "outputs": [],
      "source": [
        "T=[]\n",
        "dic_drug={}\n",
        "i=0\n",
        "for d in my_drug_list:\n",
        "  dic_drug[i]=d\n",
        "  i+=1"
      ]
    },
    {
      "cell_type": "code",
      "execution_count": null,
      "metadata": {
        "id": "a649yEXcRfLl"
      },
      "outputs": [],
      "source": [
        "def list_of_drug_test(T):\n",
        "  i=0\n",
        "  new_test=[]\n",
        "  while i!=41:\n",
        "    num = random.randint(0, 410)\n",
        "    if num in T:\n",
        "      continue\n",
        "    else:\n",
        "      T.append(num)\n",
        "      new_test.append(num)\n",
        "      i+=1\n",
        "  return new_test\n",
        "  "
      ]
    },
    {
      "cell_type": "code",
      "execution_count": null,
      "metadata": {
        "id": "tGP6b9L_RfLm"
      },
      "outputs": [],
      "source": [
        "test1 = list_of_drug_test(T)\n",
        "\n",
        "test2 = list_of_drug_test(T)\n",
        "\n",
        "test3 = list_of_drug_test(T)\n",
        "\n",
        "test4 = list_of_drug_test(T)\n",
        "\n",
        "test5 = list_of_drug_test(T)\n",
        "\n",
        "test6 = list_of_drug_test(T)\n",
        "\n",
        "test7 = list_of_drug_test(T)\n",
        "\n",
        "test8 = list_of_drug_test(T)\n",
        "\n",
        "test9 = list_of_drug_test(T)\n",
        "\n",
        "test10 = list_of_drug_test(T)\n"
      ]
    },
    {
      "cell_type": "code",
      "execution_count": null,
      "metadata": {
        "id": "il0WJSwoRfLm"
      },
      "outputs": [],
      "source": [
        "ass = pd.read_csv(\"my_repodb.txt\") \n",
        "ass.set_index(\"Unnamed: 0\", inplace=True)\n",
        "disgenet = pd.read_csv(\"Gen-Dis-association-Disgenet-2022.csv\")\n",
        "\n",
        "# making the drug and disease lists\n",
        "my_disease_list = list(set(ass.ind_id))\n",
        "my_drug_list = list(set(ass.drug_id))\n",
        "drugs=list(set(ass.drug_id))\n",
        "disgenet = disgenet.loc[disgenet['diseaseId'].isin(my_disease_list)]\n",
        "my_disease_list = list(set(disgenet.diseaseId))\n",
        "ass = ass.loc[ass['ind_id'].isin(my_disease_list)]\n",
        "my_drug_list = list(set(ass.drug_id))\n",
        "\n",
        "# making the list of known drug-disease associations \n",
        "\n",
        "A=[]\n",
        "for ix, row in ass.iterrows():\n",
        "  text = str(row.drug_id)+\" has_indicated \"+str(row.ind_id)+\". \"\n",
        "  A.append(text)\n",
        "\n",
        "associations = []\n",
        "for a in A:\n",
        "  associations.append(a)\n",
        "\n",
        "\n"
      ]
    },
    {
      "cell_type": "code",
      "execution_count": null,
      "metadata": {
        "id": "X92mGGC2RfLn"
      },
      "outputs": [],
      "source": [
        "has = pd.read_csv(\"my_repodb.txt\") # Positive data: Known Drug-Disease associations\n",
        "has.set_index(\"Unnamed: 0\", inplace=True)\n",
        "has = has.drop(['drug_name', 'ind_name','NCT','status', 'phase',\n",
        "       'DetailedStatus'], axis=1)\n",
        "has = has.loc[has['ind_id'].isin(my_disease_list)]\n",
        "\n",
        "\n",
        "hasnt = pd.read_csv(\"my_only_negatives.txt\") # Negative data: Unknown Drug-Disease associations when disease is adverse drug reaction\n",
        "hasnt.set_index(\"Unnamed: 0\", inplace=True)\n",
        "hasnt = hasnt.rename(columns={\"Not_indicated_for\":\"ind_id\", \"Drug_id\": \"drug_id\"})\n",
        "hasnt = hasnt.loc[hasnt['ind_id'].isin(my_disease_list)]\n"
      ]
    },
    {
      "cell_type": "code",
      "execution_count": null,
      "metadata": {
        "colab": {
          "base_uri": "https://localhost:8080/"
        },
        "id": "LOoie8cJRfLn",
        "outputId": "24d3fd0a-16aa-4207-8f2a-e98618fb72d9"
      },
      "outputs": [
        {
          "name": "stdout",
          "output_type": "stream",
          "text": [
            "The number of all known drug disease associations in our dataset:  (748, 2)\n",
            "Number of unique disease in Pos:  141\n",
            "Number of uniques drugs in Pos:  410\n"
          ]
        }
      ],
      "source": [
        "# Positive : Known drug-disease associations\n",
        "print(\"The number of all known drug disease associations in our dataset: \",(has.shape))\n",
        "print(\"Number of unique disease in Pos: \",len(list(set(has.ind_id))) )\n",
        "print(\"Number of uniques drugs in Pos: \", len(list(set(has.drug_id))) )"
      ]
    },
    {
      "cell_type": "code",
      "execution_count": null,
      "metadata": {
        "colab": {
          "base_uri": "https://localhost:8080/"
        },
        "id": "dflnlWffRfLo",
        "outputId": "60a11c23-c3ed-4031-f309-c402108628c5"
      },
      "outputs": [
        {
          "name": "stdout",
          "output_type": "stream",
          "text": [
            "The number of unknown drug disease associations in our dataset:  (1966, 2)\n",
            "Number of unique disease in Neg:  88\n",
            "Number of uniques drugs in Neg:  361\n"
          ]
        }
      ],
      "source": [
        "# Negatives : Unknown drug-disease associations provided the disease is adverse drug reactoins\n",
        "\n",
        "print(\"The number of unknown drug disease associations in our dataset: \",(hasnt.shape))\n",
        "print(\"Number of unique disease in Neg: \",len(list(set(hasnt.ind_id))) )\n",
        "print(\"Number of uniques drugs in Neg: \", len(list(set(hasnt.drug_id))) )"
      ]
    },
    {
      "cell_type": "code",
      "execution_count": null,
      "metadata": {
        "id": "jUS3APosRfLp"
      },
      "outputs": [],
      "source": [
        "test_drug = []\n",
        "train_drug =[]\n",
        "for i in dic_drug.keys():\n",
        "  if i in test1:\n",
        "    test_drug.append(dic_drug[i])\n",
        "  else:\n",
        "      train_drug.append(dic_drug[i])"
      ]
    },
    {
      "cell_type": "markdown",
      "metadata": {
        "id": "NP1RdYABRfLq"
      },
      "source": [
        "The information of diseases are collected using [DisGeNet](https://www.disgenet.org)"
      ]
    },
    {
      "cell_type": "code",
      "execution_count": null,
      "metadata": {
        "id": "TbNJV0KbRfLr"
      },
      "outputs": [],
      "source": [
        "# making the relation of diseases: has_geneid, has_class, has_semantic, has_type\n",
        "\n",
        "C=[]\n",
        "num1=0\n",
        "num2=0\n",
        "num3=0\n",
        "num4=0\n",
        "for idx, row in disgenet.iterrows():\n",
        "      semtype = \"_\".join(row.diseaseSemanticType.split())\n",
        "      clas = row.diseaseClass.split(\";\")\n",
        "      text1 =str(row.diseaseId)+\" has_geneid \"+str(row.geneSymbol)+\". \"\n",
        "      num1+=1\n",
        "      text2 =str(row.diseaseId)+\" has_type \"+str(row.diseaseType)+\". \"\n",
        "      num2+=1\n",
        "      text3 =str(row.diseaseId)+\" has_semantic \"+str(semtype)+\". \"\n",
        "      num3+=1\n",
        "      C.append(text1)\n",
        "      C.append(text2)\n",
        "      C.append(text3)\n",
        "      num4+=len(clas)\n",
        "      for cl in clas:\n",
        "        text =str(row.diseaseId)+\" has_class \"+str(cl)+\". \"\n",
        "        C.append(text)\n",
        "\n",
        "Disease=\"\"\n",
        "for c in C:\n",
        "  Disease= Disease+c\n"
      ]
    },
    {
      "cell_type": "markdown",
      "metadata": {
        "id": "xVylw9pqRfLr"
      },
      "source": [
        "making the drug relations: has_sideeffect, has_target, has_domain, has_atccode, has_chemicalstructure"
      ]
    },
    {
      "cell_type": "code",
      "execution_count": null,
      "metadata": {
        "id": "msg4-4yURfLr"
      },
      "outputs": [],
      "source": [
        "# has_target relation. data is collected using DrugBank\n",
        "T=[]\n",
        "target= pd.read_csv(\"my_target.txt\")\n",
        "target.set_index(\"Unnamed: 0\", inplace=True)\n",
        "for idx, row in target.iterrows():\n",
        "  for c in target.columns:\n",
        "    if row[c] ==1 :\n",
        "      text =str(idx)+\" has_target \"+str(c)+\". \"\n",
        "      T.append(text)\n",
        "target=\"\"\n",
        "for c in T:\n",
        "  target= target+c"
      ]
    },
    {
      "cell_type": "code",
      "execution_count": null,
      "metadata": {
        "id": "aEFv9PWhRfLs"
      },
      "outputs": [],
      "source": [
        "# has_domain relation. data is collected using UniProt\n",
        "D=[]\n",
        "dom= pd.read_csv(\"my_domain.txt\")\n",
        "dom.set_index(\"Unnamed: 0\", inplace=True)\n",
        "for idx, row in dom.iterrows():\n",
        "  for c in dom.columns:\n",
        "    if row[c] ==1 :\n",
        "      text =str(idx)+\" has_domain \"+str(c)+\". \"\n",
        "      D.append(text)\n",
        "\n",
        "domain=\"\"\n",
        "for c in D:\n",
        "  domain= domain+c\n"
      ]
    },
    {
      "cell_type": "code",
      "execution_count": null,
      "metadata": {
        "id": "U4KWzyCoRfLs"
      },
      "outputs": [],
      "source": [
        "# has_chemical relation. data is collected using Pubchem\n",
        "C=[]\n",
        "finger= pd.read_csv(\"my_finger.txt\")\n",
        "finger.set_index(\"Unnamed: 0\", inplace=True)\n",
        "for idx, row in finger.iterrows():\n",
        "  for c in finger.columns:\n",
        "    if row[c] ==1 :\n",
        "      text =str(idx)+\" has_chemical S\"+str(c)+\". \"\n",
        "      C.append(text)\n",
        "chemical=\"\"\n",
        "for c in C:\n",
        "  chemical= chemical+c"
      ]
    },
    {
      "cell_type": "code",
      "execution_count": null,
      "metadata": {
        "id": "4hGvjj-4RfLs"
      },
      "outputs": [],
      "source": [
        "# has_atc_code relation. data is collected using Sider4.1\n",
        "\n",
        "ATC=[]\n",
        "atc= pd.read_csv(\"my_ATC.txt\")\n",
        "atc.set_index(\"Unnamed: 0\", inplace=True)\n",
        "for idx, row in atc.iterrows():\n",
        "  for c in atc.columns:\n",
        "    if row[c] == 1 and (len(c)==4 or len(c)==1 or len(c)==3 or len(c)==5): # we consider first 4 level of ATC code\n",
        "      text =str(idx)+\" has_atc_code \"+str(c)+\". \"\n",
        "      ATC.append(text)\n",
        "atccode=\"\"\n",
        "for c in ATC:\n",
        "  atccode= atccode+c"
      ]
    },
    {
      "cell_type": "code",
      "execution_count": null,
      "metadata": {
        "colab": {
          "background_save": true
        },
        "id": "Mv5ZVYxeRfLs"
      },
      "outputs": [],
      "source": [
        "# has_sideeffect relation. Date is collected using Sider4.1\n",
        "S=[]\n",
        "side= pd.read_csv(\"my_sideeffect.txt\")\n",
        "side.set_index(\"Unnamed: 0\", inplace=True)\n",
        "for idx, row in side.iterrows():\n",
        "  for c in side.columns:\n",
        "    if row[c] ==1 :\n",
        "      text =str(idx)+\" has_sideeffect \"+str(c)+\". \"\n",
        "      S.append(text)"
      ]
    },
    {
      "cell_type": "markdown",
      "metadata": {
        "id": "-DBFI-QWRfLs"
      },
      "source": [
        "Extracting drug-disease associations\n",
        "\n",
        "Positive data: Known drug-disease associations\n",
        "\n",
        "Negative data: a subset of unknown drug-disease associations that disease is an adverse drug reaction and common with our side effects\n",
        "\n",
        "More over I did it 10 times for getting the results of 10-fold cross validation based on positive data"
      ]
    },
    {
      "cell_type": "code",
      "execution_count": null,
      "metadata": {
        "colab": {
          "background_save": true,
          "base_uri": "https://localhost:8080/"
        },
        "id": "qV3Nrp59RfLs",
        "outputId": "6d0514a1-71a8-4f98-866e-86c343fc33d3"
      },
      "outputs": [
        {
          "name": "stdout",
          "output_type": "stream",
          "text": [
            "748\n",
            "707 41\n"
          ]
        }
      ],
      "source": [
        "A_test=[]\n",
        "i=0\n",
        "print(len(A))\n",
        "\n",
        "for idx, row in has.iterrows():\n",
        "  text = str(row.drug_id)+\" has_indicated \"+str(row.ind_id)+\". \"\n",
        "  if row.drug_id in test_drug:\n",
        "    A.remove(text)\n",
        "    A_test.append(text)\n",
        "print(len(A), len(A_test))\n",
        "ass=\"\" # making the new associations for training the models\n",
        "for c in A:\n",
        "  ass= ass+c"
      ]
    },
    {
      "cell_type": "code",
      "execution_count": null,
      "metadata": {
        "colab": {
          "background_save": true,
          "base_uri": "https://localhost:8080/"
        },
        "id": "5xxiyjzMRfLt",
        "outputId": "039165b1-8045-49d9-f4e9-4ab1c9edf757"
      },
      "outputs": [
        {
          "name": "stdout",
          "output_type": "stream",
          "text": [
            "The number of  known drug disease associations without positive test set: (669, 2)\n"
          ]
        }
      ],
      "source": [
        "has = has.loc[has['drug_id'].isin(train_drug)]\n",
        "print(\"The number of  known drug disease associations without positive test set:\",has.shape)"
      ]
    },
    {
      "cell_type": "code",
      "execution_count": null,
      "metadata": {
        "colab": {
          "background_save": true,
          "base_uri": "https://localhost:8080/"
        },
        "id": "iHZ-dsuORfLt",
        "outputId": "1650b255-f87c-42ee-fc50-b9ea2cacc70d"
      },
      "outputs": [
        {
          "name": "stdout",
          "output_type": "stream",
          "text": [
            "The number of unknown drug disease associations in our dataset:  (1966, 2) 64121\n",
            "The number of  known drug disease associations without positive test set: (1932, 2) 64087\n"
          ]
        }
      ],
      "source": [
        "print(\"The number of unknown drug disease associations in our dataset: \",(hasnt.shape), len(S))\n",
        "\n",
        "I=[]\n",
        "for idx, row in hasnt.iterrows():\n",
        "  text = str(row.drug_id)+\" has_sideeffect \"+str(row.ind_id)+\". \"\n",
        "  if row.drug_id in test_drug:\n",
        "    S.remove(text)\n",
        "    I.append(row)\n",
        "\n",
        "side=\"\"\n",
        "for c in S:\n",
        "  side= side+c\n",
        "I=pd.DataFrame(I)\n",
        "hasnt = hasnt.loc[hasnt['drug_id'].isin(train_drug)]\n",
        "print(\"The number of  known drug disease associations without positive test set:\",hasnt.shape, len(S))"
      ]
    },
    {
      "cell_type": "markdown",
      "metadata": {
        "id": "BVm5hdaR-BhZ"
      },
      "source": [
        "# Data loading -> 10 fold cross-validation -> Stratified"
      ]
    },
    {
      "cell_type": "markdown",
      "metadata": {
        "id": "KJDKDnx8-Bha"
      },
      "source": [
        "Here, every time I divide my disease lists to 10 part. and every time I use 9 parts as train and 1 part as test"
      ]
    },
    {
      "cell_type": "code",
      "execution_count": null,
      "metadata": {
        "id": "l8dviM5P-6XT"
      },
      "outputs": [],
      "source": [
        "ass = pd.read_csv(\"my_repodb.txt\") \n",
        "ass.set_index(\"Unnamed: 0\", inplace=True)\n",
        "disgenet = pd.read_csv(\"Gen-Dis-association-Disgenet-2022.csv\")\n",
        "\n",
        "# making the drug and disease lists\n",
        "my_disease_list = list(set(ass.ind_id))\n",
        "my_drug_list = list(set(ass.drug_id))\n",
        "drugs=list(set(ass.drug_id))\n",
        "disgenet = disgenet.loc[disgenet['diseaseId'].isin(my_disease_list)]\n",
        "my_disease_list = list(set(disgenet.diseaseId))\n",
        "ass = ass.loc[ass['ind_id'].isin(my_disease_list)]\n",
        "my_drug_list = list(set(ass.drug_id))\n",
        "\n",
        "has = pd.read_csv(\"my_repodb.txt\") # Positive data: Known Drug-Disease associations\n",
        "has.set_index(\"Unnamed: 0\", inplace=True)\n",
        "has = has.drop(['drug_name', 'ind_name','NCT','status', 'phase',\n",
        "       'DetailedStatus'], axis=1)\n",
        "has = has.loc[has['ind_id'].isin(my_disease_list)]\n",
        "\n",
        "\n",
        "hasnt = pd.read_csv(\"my_only_negatives.txt\") # Negative data: Unknown Drug-Disease associations when disease is adverse drug reaction\n",
        "hasnt.set_index(\"Unnamed: 0\", inplace=True)\n",
        "hasnt = hasnt.rename(columns={\"Not_indicated_for\":\"ind_id\", \"Drug_id\": \"drug_id\"})\n",
        "hasnt = hasnt.loc[hasnt['ind_id'].isin(my_disease_list)]\n",
        "\n",
        "\n",
        "pos_index = has.index\n",
        "neg_index = hasnt.index\n",
        "T_pos = []  # To keep the selected indexes of positive pairs and prevnt their selection in the next test set\n",
        "T_neg = []"
      ]
    },
    {
      "cell_type": "code",
      "execution_count": null,
      "metadata": {
        "id": "GN3BZBQC-Bha"
      },
      "outputs": [],
      "source": [
        "def list_of_pos_test(T_pos):\n",
        "  i=0\n",
        "  new_test=[]\n",
        "  while i!=74:\n",
        "    num = random.randint(0, len(pos_index)-1)\n",
        "    if pos_index[num] in T_pos:\n",
        "      continue\n",
        "    else:\n",
        "      T_pos.append(pos_index[num])\n",
        "      new_test.append(pos_index[num])\n",
        "      i+=1\n",
        "  return new_test\n",
        "  "
      ]
    },
    {
      "cell_type": "code",
      "execution_count": null,
      "metadata": {
        "id": "3vNIrPge-N61"
      },
      "outputs": [],
      "source": [
        "def list_of_neg_test(T_neg):\n",
        "  i=0\n",
        "  new_test=[]\n",
        "  while i!=196:\n",
        "    num = random.randint(0, len(neg_index)-1)\n",
        "    if neg_index[num] in T_neg:\n",
        "      continue\n",
        "    else:\n",
        "      T_neg.append(neg_index[num])\n",
        "      new_test.append(neg_index[num])\n",
        "      i+=1\n",
        "  return new_test"
      ]
    },
    {
      "cell_type": "code",
      "execution_count": null,
      "metadata": {
        "id": "mvo6knp_-Bhb"
      },
      "outputs": [],
      "source": [
        "# In this step, we divide our positive and negative pairs to 10 fold\n",
        "# Caution: This step should repeat only one time\n",
        "\n",
        "testP1 = list_of_pos_test(T_pos)\n",
        "testN1 = list_of_neg_test(T_neg)\n",
        "\n",
        "testP2 = list_of_pos_test(T_pos)\n",
        "testN2 = list_of_neg_test(T_neg)\n",
        "\n",
        "testP3 = list_of_pos_test(T_pos)\n",
        "testN3 = list_of_neg_test(T_neg)\n",
        "\n",
        "testP4 = list_of_pos_test(T_pos)\n",
        "testN4 = list_of_neg_test(T_neg)\n",
        "\n",
        "testP5 = list_of_pos_test(T_pos)\n",
        "testN5 = list_of_neg_test(T_neg)\n",
        "\n",
        "testP6 = list_of_pos_test(T_pos)\n",
        "testN6 = list_of_neg_test(T_neg)\n",
        "\n",
        "testP7 = list_of_pos_test(T_pos)\n",
        "testN7 = list_of_neg_test(T_neg)\n",
        "\n",
        "testP8 = list_of_pos_test(T_pos)\n",
        "testN8 = list_of_neg_test(T_neg)\n",
        "\n",
        "testP9 = list_of_pos_test(T_pos)\n",
        "testN9 = list_of_neg_test(T_neg)\n",
        "\n",
        "testP10 = list_of_pos_test(T_pos)\n",
        "testN10 = list_of_neg_test(T_neg)\n"
      ]
    },
    {
      "cell_type": "code",
      "execution_count": null,
      "metadata": {
        "id": "tVydwhh7-Bhb"
      },
      "outputs": [],
      "source": [
        "ass = pd.read_csv(\"my_repodb.txt\") \n",
        "ass.set_index(\"Unnamed: 0\", inplace=True)\n",
        "disgenet = pd.read_csv(\"Gen-Dis-association-Disgenet-2022.csv\")\n",
        "\n",
        "# making the drug and disease lists\n",
        "my_disease_list = list(set(ass.ind_id))\n",
        "my_drug_list = list(set(ass.drug_id))\n",
        "drugs=list(set(ass.drug_id))\n",
        "disgenet = disgenet.loc[disgenet['diseaseId'].isin(my_disease_list)]\n",
        "my_disease_list = list(set(disgenet.diseaseId))\n",
        "ass = ass.loc[ass['ind_id'].isin(my_disease_list)]\n",
        "my_drug_list = list(set(ass.drug_id))\n",
        "\n",
        "# making the list of known drug-disease associations \n",
        "\n",
        "A=[]\n",
        "for ix, row in ass.iterrows():\n",
        "  text = str(row.drug_id)+\" has_indicated \"+str(row.ind_id)+\". \"\n",
        "  A.append(text)\n",
        "\n",
        "associations = []\n",
        "for a in A:\n",
        "  associations.append(a)\n",
        "\n",
        "\n"
      ]
    },
    {
      "cell_type": "code",
      "execution_count": null,
      "metadata": {
        "id": "nxvYdxg3-Bhb"
      },
      "outputs": [],
      "source": [
        "has = pd.read_csv(\"my_repodb.txt\") # Positive data: Known Drug-Disease associations\n",
        "has.set_index(\"Unnamed: 0\", inplace=True)\n",
        "has = has.drop(['drug_name', 'ind_name','NCT','status', 'phase',\n",
        "       'DetailedStatus'], axis=1)\n",
        "has = has.loc[has['ind_id'].isin(my_disease_list)]\n",
        "\n",
        "\n",
        "hasnt = pd.read_csv(\"my_only_negatives.txt\") # Negative data: Unknown Drug-Disease associations when disease is adverse drug reaction\n",
        "hasnt.set_index(\"Unnamed: 0\", inplace=True)\n",
        "hasnt = hasnt.rename(columns={\"Not_indicated_for\":\"ind_id\", \"Drug_id\": \"drug_id\"})\n",
        "hasnt = hasnt.loc[hasnt['ind_id'].isin(my_disease_list)]\n"
      ]
    },
    {
      "cell_type": "code",
      "execution_count": null,
      "metadata": {
        "colab": {
          "base_uri": "https://localhost:8080/"
        },
        "id": "kj5q-P4P-Bhb",
        "outputId": "24d3fd0a-16aa-4207-8f2a-e98618fb72d9"
      },
      "outputs": [
        {
          "name": "stdout",
          "output_type": "stream",
          "text": [
            "The number of all known drug disease associations in our dataset:  (748, 2)\n",
            "Number of unique disease in Pos:  141\n",
            "Number of uniques drugs in Pos:  410\n"
          ]
        }
      ],
      "source": [
        "# Positive : Known drug-disease associations\n",
        "print(\"The number of all known drug disease associations in our dataset: \",(has.shape))\n",
        "print(\"Number of unique disease in Pos: \",len(list(set(has.ind_id))) )\n",
        "print(\"Number of uniques drugs in Pos: \", len(list(set(has.drug_id))) )"
      ]
    },
    {
      "cell_type": "code",
      "execution_count": null,
      "metadata": {
        "colab": {
          "base_uri": "https://localhost:8080/"
        },
        "id": "JYlVnMhp-Bhc",
        "outputId": "60a11c23-c3ed-4031-f309-c402108628c5"
      },
      "outputs": [
        {
          "name": "stdout",
          "output_type": "stream",
          "text": [
            "The number of unknown drug disease associations in our dataset:  (1966, 2)\n",
            "Number of unique disease in Neg:  88\n",
            "Number of uniques drugs in Neg:  361\n"
          ]
        }
      ],
      "source": [
        "# Negatives : Unknown drug-disease associations provided the disease is adverse drug reactoins\n",
        "\n",
        "print(\"The number of unknown drug disease associations in our dataset: \",(hasnt.shape))\n",
        "print(\"Number of unique disease in Neg: \",len(list(set(hasnt.ind_id))) )\n",
        "print(\"Number of uniques drugs in Neg: \", len(list(set(hasnt.drug_id))) )"
      ]
    },
    {
      "cell_type": "markdown",
      "metadata": {
        "id": "z3fKj8cq-Bhc"
      },
      "source": [
        "The information of diseases are collected using [DisGeNet](https://www.disgenet.org)"
      ]
    },
    {
      "cell_type": "code",
      "execution_count": null,
      "metadata": {
        "id": "hOtEpS82-Bhd"
      },
      "outputs": [],
      "source": [
        "# making the relation of diseases: has_geneid, has_class, has_semantic, has_type\n",
        "\n",
        "C=[]\n",
        "num1=0\n",
        "num2=0\n",
        "num3=0\n",
        "num4=0\n",
        "for idx, row in disgenet.iterrows():\n",
        "      semtype = \"_\".join(row.diseaseSemanticType.split())\n",
        "      clas = row.diseaseClass.split(\";\")\n",
        "      text1 =str(row.diseaseId)+\" has_geneid \"+str(row.geneSymbol)+\". \"\n",
        "      num1+=1\n",
        "      text2 =str(row.diseaseId)+\" has_type \"+str(row.diseaseType)+\". \"\n",
        "      num2+=1\n",
        "      text3 =str(row.diseaseId)+\" has_semantic \"+str(semtype)+\". \"\n",
        "      num3+=1\n",
        "      C.append(text1)\n",
        "      C.append(text2)\n",
        "      C.append(text3)\n",
        "      num4+=len(clas)\n",
        "      for cl in clas:\n",
        "        text =str(row.diseaseId)+\" has_class \"+str(cl)+\". \"\n",
        "        C.append(text)\n",
        "\n",
        "Disease=\"\"\n",
        "for c in C:\n",
        "  Disease= Disease+c\n"
      ]
    },
    {
      "cell_type": "markdown",
      "metadata": {
        "id": "mCFgCAx5-Bhd"
      },
      "source": [
        "making the drug relations: has_sideeffect, has_target, has_domain, has_atccode, has_chemicalstructure"
      ]
    },
    {
      "cell_type": "code",
      "execution_count": null,
      "metadata": {
        "id": "h7pCqffV-Bhd"
      },
      "outputs": [],
      "source": [
        "# has_target relation. data is collected using DrugBank\n",
        "T=[]\n",
        "target= pd.read_csv(\"my_target.txt\")\n",
        "target.set_index(\"Unnamed: 0\", inplace=True)\n",
        "for idx, row in target.iterrows():\n",
        "  for c in target.columns:\n",
        "    if row[c] ==1 :\n",
        "      text =str(idx)+\" has_target \"+str(c)+\". \"\n",
        "      T.append(text)\n",
        "target=\"\"\n",
        "for c in T:\n",
        "  target= target+c"
      ]
    },
    {
      "cell_type": "code",
      "execution_count": null,
      "metadata": {
        "id": "Um_4Rvvm-Bhd"
      },
      "outputs": [],
      "source": [
        "# has_domain relation. data is collected using UniProt\n",
        "D=[]\n",
        "dom= pd.read_csv(\"my_domain.txt\")\n",
        "dom.set_index(\"Unnamed: 0\", inplace=True)\n",
        "for idx, row in dom.iterrows():\n",
        "  for c in dom.columns:\n",
        "    if row[c] ==1 :\n",
        "      text =str(idx)+\" has_domain \"+str(c)+\". \"\n",
        "      D.append(text)\n",
        "\n",
        "domain=\"\"\n",
        "for c in D:\n",
        "  domain= domain+c\n"
      ]
    },
    {
      "cell_type": "code",
      "execution_count": null,
      "metadata": {
        "id": "vM9iMw6j-Bhd"
      },
      "outputs": [],
      "source": [
        "# has_chemical relation. data is collected using Pubchem\n",
        "C=[]\n",
        "finger= pd.read_csv(\"my_finger.txt\")\n",
        "finger.set_index(\"Unnamed: 0\", inplace=True)\n",
        "for idx, row in finger.iterrows():\n",
        "  for c in finger.columns:\n",
        "    if row[c] ==1 :\n",
        "      text =str(idx)+\" has_chemical S\"+str(c)+\". \"\n",
        "      C.append(text)\n",
        "chemical=\"\"\n",
        "for c in C:\n",
        "  chemical= chemical+c"
      ]
    },
    {
      "cell_type": "code",
      "execution_count": null,
      "metadata": {
        "id": "U2kMlDfU-Bhe"
      },
      "outputs": [],
      "source": [
        "# has_atc_code relation. data is collected using Sider4.1\n",
        "\n",
        "ATC=[]\n",
        "atc= pd.read_csv(\"my_ATC.txt\")\n",
        "atc.set_index(\"Unnamed: 0\", inplace=True)\n",
        "for idx, row in atc.iterrows():\n",
        "  for c in atc.columns:\n",
        "    if row[c] == 1 and (len(c)==4 or len(c)==1 or len(c)==3 or len(c)==5): # we consider first 4 level of ATC code\n",
        "      text =str(idx)+\" has_atc_code \"+str(c)+\". \"\n",
        "      ATC.append(text)\n",
        "atccode=\"\"\n",
        "for c in ATC:\n",
        "  atccode= atccode+c"
      ]
    },
    {
      "cell_type": "code",
      "execution_count": null,
      "metadata": {
        "colab": {
          "background_save": true
        },
        "id": "z8eWXWxN-Bhe"
      },
      "outputs": [],
      "source": [
        "# has_sideeffect relation. Date is collected using Sider4.1\n",
        "S=[]\n",
        "side= pd.read_csv(\"my_sideeffect.txt\")\n",
        "side.set_index(\"Unnamed: 0\", inplace=True)\n",
        "for idx, row in side.iterrows():\n",
        "  for c in side.columns:\n",
        "    if row[c] ==1 :\n",
        "      text =str(idx)+\" has_sideeffect \"+str(c)+\". \"\n",
        "      S.append(text)"
      ]
    },
    {
      "cell_type": "markdown",
      "metadata": {
        "id": "qtOe5DtF-Bhe"
      },
      "source": [
        "Extracting drug-disease associations\n",
        "\n",
        "Positive data: Known drug-disease associations\n",
        "\n",
        "Negative data: a subset of unknown drug-disease associations that disease is an adverse drug reaction and common with our side effects\n",
        "\n",
        "More over I did it 10 times for getting the results of 10-fold cross validation based on positive data"
      ]
    },
    {
      "cell_type": "code",
      "execution_count": null,
      "metadata": {
        "colab": {
          "background_save": true,
          "base_uri": "https://localhost:8080/"
        },
        "id": "yrF1pfjx-Bhe",
        "outputId": "6d0514a1-71a8-4f98-866e-86c343fc33d3"
      },
      "outputs": [
        {
          "name": "stdout",
          "output_type": "stream",
          "text": [
            "748\n",
            "707 41\n"
          ]
        }
      ],
      "source": [
        "# to make the positive test set, every time we only change the name of testPi, 1<=i<=10\n",
        "\n",
        "A_test=[]\n",
        "i=0\n",
        "print(len(A))\n",
        "\n",
        "for idx, row in has.iterrows():\n",
        "  text = str(row.drug_id)+\" has_indicated \"+str(row.ind_id)+\". \"\n",
        "  if idx in testP1:   # HERE we change the number of i for  i<=i<=10\n",
        "    A.remove(text)\n",
        "    A_test.append(text)\n",
        "print(len(A), len(A_test))\n",
        "ass=\"\" # making the new associations for training the models\n",
        "for c in A:\n",
        "  ass= ass+c\n",
        "\n",
        "has = has.drop(testP1)  # HERE we change the number of i for 1<=i<=10\n",
        "print(\"The number of  known drug disease associations without positive test set:\",has.shape)"
      ]
    },
    {
      "cell_type": "code",
      "execution_count": null,
      "metadata": {
        "colab": {
          "background_save": true,
          "base_uri": "https://localhost:8080/"
        },
        "id": "3tJumCWd-Bhf",
        "outputId": "1650b255-f87c-42ee-fc50-b9ea2cacc70d"
      },
      "outputs": [
        {
          "name": "stdout",
          "output_type": "stream",
          "text": [
            "The number of unknown drug disease associations in our dataset:  (1966, 2) 64121\n",
            "The number of  known drug disease associations without positive test set: (1932, 2) 64087\n"
          ]
        }
      ],
      "source": [
        "# The negative training and test set based on testNi for 1<=i<=10\n",
        "\n",
        "print(\"The number of unknown drug disease associations in our dataset: \",(hasnt.shape), len(S))\n",
        "\n",
        "I=[]\n",
        "for idx, row in hasnt.iterrows():\n",
        "  text = str(row.drug_id)+\" has_sideeffect \"+str(row.ind_id)+\". \"\n",
        "  if idx in testN1:   # HERE we change the number of i for 1<=i<=10\n",
        "    S.remove(text)\n",
        "    I.append(row)\n",
        "\n",
        "side=\"\"\n",
        "for c in S:\n",
        "  side= side+c\n",
        "I=pd.DataFrame(I)\n",
        "hasnt = hasnt.drop(testN1)   # HERE we change the number of i for 1<=i<=10\n",
        "print(\"The number of  known drug disease associations without positive test set:\",hasnt.shape, len(S))"
      ]
    },
    {
      "cell_type": "markdown",
      "metadata": {
        "id": "2VbrpqNw6cDq"
      },
      "source": [
        "# Data loading -> 10 fold cross-validation -> BALANCED"
      ]
    },
    {
      "cell_type": "markdown",
      "metadata": {
        "id": "fIVwOnmc6cDv"
      },
      "source": [
        "Here, every time I divide my disease lists to 10 part. and every time I use 9 parts as train and 1 part as test"
      ]
    },
    {
      "cell_type": "code",
      "execution_count": null,
      "metadata": {
        "id": "eXW0bf7_6cDw"
      },
      "outputs": [],
      "source": [
        "ass = pd.read_csv(\"my_repodb.txt\") \n",
        "ass.set_index(\"Unnamed: 0\", inplace=True)\n",
        "disgenet = pd.read_csv(\"Gen-Dis-association-Disgenet-2022.csv\")\n",
        "\n",
        "# making the drug and disease lists\n",
        "my_disease_list = list(set(ass.ind_id))\n",
        "my_drug_list = list(set(ass.drug_id))\n",
        "drugs=list(set(ass.drug_id))\n",
        "disgenet = disgenet.loc[disgenet['diseaseId'].isin(my_disease_list)]\n",
        "my_disease_list = list(set(disgenet.diseaseId))\n",
        "ass = ass.loc[ass['ind_id'].isin(my_disease_list)]\n",
        "my_drug_list = list(set(ass.drug_id))\n",
        "\n",
        "has = pd.read_csv(\"my_repodb.txt\") # Positive data: Known Drug-Disease associations\n",
        "has.set_index(\"Unnamed: 0\", inplace=True)\n",
        "has = has.drop(['drug_name', 'ind_name','NCT','status', 'phase',\n",
        "       'DetailedStatus'], axis=1)\n",
        "has = has.loc[has['ind_id'].isin(my_disease_list)]\n",
        "\n",
        "\n",
        "hasnt = pd.read_csv(\"my_only_negatives.txt\") # Negative data: Unknown Drug-Disease associations when disease is adverse drug reaction\n",
        "hasnt.set_index(\"Unnamed: 0\", inplace=True)\n",
        "hasnt = hasnt.rename(columns={\"Not_indicated_for\":\"ind_id\", \"Drug_id\": \"drug_id\"})\n",
        "hasnt = hasnt.loc[hasnt['ind_id'].isin(my_disease_list)]\n",
        "\n",
        "\n",
        "pos_index = has.index\n",
        "neg_index = hasnt.index\n",
        "T_pos = []  # To keep the selected indexes of positive pairs and prevnt their selection in the next test set\n",
        "T_neg = []"
      ]
    },
    {
      "cell_type": "code",
      "execution_count": null,
      "metadata": {
        "id": "zrhBwQvO6cDx"
      },
      "outputs": [],
      "source": [
        "def list_of_pos_test(T_pos):\n",
        "  i=0\n",
        "  new_test=[]\n",
        "  while i!=74:\n",
        "    num = random.randint(0, len(pos_index)-1)\n",
        "    if pos_index[num] in T_pos:\n",
        "      continue\n",
        "    else:\n",
        "      T_pos.append(pos_index[num])\n",
        "      new_test.append(pos_index[num])\n",
        "      i+=1\n",
        "  return new_test\n",
        "  "
      ]
    },
    {
      "cell_type": "code",
      "execution_count": null,
      "metadata": {
        "id": "946ZZPqh6cDy"
      },
      "outputs": [],
      "source": [
        "def list_of_neg_test(T_neg):\n",
        "  i=0\n",
        "  new_test=[]\n",
        "  while i!=74:\n",
        "    num = random.randint(0, len(neg_index)-1)\n",
        "    if neg_index[num] in T_neg:\n",
        "      continue\n",
        "    else:\n",
        "      T_neg.append(neg_index[num])\n",
        "      new_test.append(neg_index[num])\n",
        "      i+=1\n",
        "  return new_test"
      ]
    },
    {
      "cell_type": "code",
      "execution_count": null,
      "metadata": {
        "id": "bjKK40fH6cDz"
      },
      "outputs": [],
      "source": [
        "# In this step, we divide our positive and negative pairs to 10 fold\n",
        "# Caution: This step should repeat only one time\n",
        "\n",
        "testP1 = list_of_pos_test(T_pos)\n",
        "testN1 = list_of_neg_test(T_neg)\n",
        "\n",
        "testP2 = list_of_pos_test(T_pos)\n",
        "testN2 = list_of_neg_test(T_neg)\n",
        "\n",
        "testP3 = list_of_pos_test(T_pos)\n",
        "testN3 = list_of_neg_test(T_neg)\n",
        "\n",
        "testP4 = list_of_pos_test(T_pos)\n",
        "testN4 = list_of_neg_test(T_neg)\n",
        "\n",
        "testP5 = list_of_pos_test(T_pos)\n",
        "testN5 = list_of_neg_test(T_neg)\n",
        "\n",
        "testP6 = list_of_pos_test(T_pos)\n",
        "testN6 = list_of_neg_test(T_neg)\n",
        "\n",
        "testP7 = list_of_pos_test(T_pos)\n",
        "testN7 = list_of_neg_test(T_neg)\n",
        "\n",
        "testP8 = list_of_pos_test(T_pos)\n",
        "testN8 = list_of_neg_test(T_neg)\n",
        "\n",
        "testP9 = list_of_pos_test(T_pos)\n",
        "testN9 = list_of_neg_test(T_neg)\n",
        "\n",
        "testP10 = list_of_pos_test(T_pos)\n",
        "testN10 = list_of_neg_test(T_neg)\n"
      ]
    },
    {
      "cell_type": "code",
      "execution_count": null,
      "metadata": {
        "id": "E68_y7Y_6cDz"
      },
      "outputs": [],
      "source": [
        "ass = pd.read_csv(\"my_repodb.txt\") \n",
        "ass.set_index(\"Unnamed: 0\", inplace=True)\n",
        "disgenet = pd.read_csv(\"Gen-Dis-association-Disgenet-2022.csv\")\n",
        "\n",
        "# making the drug and disease lists\n",
        "my_disease_list = list(set(ass.ind_id))\n",
        "my_drug_list = list(set(ass.drug_id))\n",
        "drugs=list(set(ass.drug_id))\n",
        "disgenet = disgenet.loc[disgenet['diseaseId'].isin(my_disease_list)]\n",
        "my_disease_list = list(set(disgenet.diseaseId))\n",
        "ass = ass.loc[ass['ind_id'].isin(my_disease_list)]\n",
        "my_drug_list = list(set(ass.drug_id))\n",
        "\n",
        "# making the list of known drug-disease associations \n",
        "\n",
        "A=[]\n",
        "for ix, row in ass.iterrows():\n",
        "  text = str(row.drug_id)+\" has_indicated \"+str(row.ind_id)+\". \"\n",
        "  A.append(text)\n",
        "\n",
        "associations = []\n",
        "for a in A:\n",
        "  associations.append(a)\n",
        "\n",
        "\n"
      ]
    },
    {
      "cell_type": "code",
      "execution_count": null,
      "metadata": {
        "id": "EjGTKGCo6cD0"
      },
      "outputs": [],
      "source": [
        "has = pd.read_csv(\"my_repodb.txt\") # Positive data: Known Drug-Disease associations\n",
        "has.set_index(\"Unnamed: 0\", inplace=True)\n",
        "has = has.drop(['drug_name', 'ind_name','NCT','status', 'phase',\n",
        "       'DetailedStatus'], axis=1)\n",
        "has = has.loc[has['ind_id'].isin(my_disease_list)]\n",
        "\n",
        "\n",
        "hasnt = pd.read_csv(\"my_only_negatives.txt\") # Negative data: Unknown Drug-Disease associations when disease is adverse drug reaction\n",
        "hasnt.set_index(\"Unnamed: 0\", inplace=True)\n",
        "hasnt = hasnt.rename(columns={\"Not_indicated_for\":\"ind_id\", \"Drug_id\": \"drug_id\"})\n",
        "hasnt = hasnt.loc[hasnt['ind_id'].isin(my_disease_list)]\n"
      ]
    },
    {
      "cell_type": "code",
      "execution_count": null,
      "metadata": {
        "colab": {
          "base_uri": "https://localhost:8080/"
        },
        "id": "wHQvTJ9L6cD0",
        "outputId": "851202d9-d79c-4299-9c1f-9f4c7c9b6524"
      },
      "outputs": [
        {
          "name": "stdout",
          "output_type": "stream",
          "text": [
            "The number of all known drug disease associations in our dataset:  (748, 2)\n",
            "Number of unique disease in Pos:  141\n",
            "Number of uniques drugs in Pos:  410\n"
          ]
        }
      ],
      "source": [
        "# Positive : Known drug-disease associations\n",
        "print(\"The number of all known drug disease associations in our dataset: \",(has.shape))\n",
        "print(\"Number of unique disease in Pos: \",len(list(set(has.ind_id))) )\n",
        "print(\"Number of uniques drugs in Pos: \", len(list(set(has.drug_id))) )"
      ]
    },
    {
      "cell_type": "code",
      "execution_count": null,
      "metadata": {
        "colab": {
          "base_uri": "https://localhost:8080/"
        },
        "id": "QUY-XnrU6cD1",
        "outputId": "11f18fba-d6dc-42cd-e26d-82186d9ffd16"
      },
      "outputs": [
        {
          "name": "stdout",
          "output_type": "stream",
          "text": [
            "The number of unknown drug disease associations in our dataset:  (1966, 2)\n",
            "Number of unique disease in Neg:  88\n",
            "Number of uniques drugs in Neg:  361\n"
          ]
        }
      ],
      "source": [
        "# Negatives : Unknown drug-disease associations provided the disease is adverse drug reactoins\n",
        "\n",
        "print(\"The number of unknown drug disease associations in our dataset: \",(hasnt.shape))\n",
        "print(\"Number of unique disease in Neg: \",len(list(set(hasnt.ind_id))) )\n",
        "print(\"Number of uniques drugs in Neg: \", len(list(set(hasnt.drug_id))) )"
      ]
    },
    {
      "cell_type": "markdown",
      "metadata": {
        "id": "oQFJxJFu6cD2"
      },
      "source": [
        "The information of diseases are collected using [DisGeNet](https://www.disgenet.org)"
      ]
    },
    {
      "cell_type": "code",
      "execution_count": null,
      "metadata": {
        "id": "ufSbzatz6cD2"
      },
      "outputs": [],
      "source": [
        "# making the relation of diseases: has_geneid, has_class, has_semantic, has_type\n",
        "\n",
        "C=[]\n",
        "num1=0\n",
        "num2=0\n",
        "num3=0\n",
        "num4=0\n",
        "for idx, row in disgenet.iterrows():\n",
        "      semtype = \"_\".join(row.diseaseSemanticType.split())\n",
        "      clas = row.diseaseClass.split(\";\")\n",
        "      text1 =str(row.diseaseId)+\" has_geneid \"+str(row.geneSymbol)+\". \"\n",
        "      num1+=1\n",
        "      text2 =str(row.diseaseId)+\" has_type \"+str(row.diseaseType)+\". \"\n",
        "      num2+=1\n",
        "      text3 =str(row.diseaseId)+\" has_semantic \"+str(semtype)+\". \"\n",
        "      num3+=1\n",
        "      C.append(text1)\n",
        "      C.append(text2)\n",
        "      C.append(text3)\n",
        "      num4+=len(clas)\n",
        "      for cl in clas:\n",
        "        text =str(row.diseaseId)+\" has_class \"+str(cl)+\". \"\n",
        "        C.append(text)\n",
        "\n",
        "Disease=\"\"\n",
        "for c in C:\n",
        "  Disease= Disease+c\n"
      ]
    },
    {
      "cell_type": "markdown",
      "metadata": {
        "id": "h1uKByhU6cD2"
      },
      "source": [
        "making the drug relations: has_sideeffect, has_target, has_domain, has_atccode, has_chemicalstructure"
      ]
    },
    {
      "cell_type": "code",
      "execution_count": null,
      "metadata": {
        "id": "CIZ7-AN66cD3"
      },
      "outputs": [],
      "source": [
        "# has_target relation. data is collected using DrugBank\n",
        "T=[]\n",
        "target= pd.read_csv(\"my_target.txt\")\n",
        "target.set_index(\"Unnamed: 0\", inplace=True)\n",
        "for idx, row in target.iterrows():\n",
        "  for c in target.columns:\n",
        "    if row[c] ==1 :\n",
        "      text =str(idx)+\" has_target \"+str(c)+\". \"\n",
        "      T.append(text)\n",
        "target=\"\"\n",
        "for c in T:\n",
        "  target= target+c"
      ]
    },
    {
      "cell_type": "code",
      "execution_count": null,
      "metadata": {
        "id": "CdFPbrNO6cD3"
      },
      "outputs": [],
      "source": [
        "# has_domain relation. data is collected using UniProt\n",
        "D=[]\n",
        "dom= pd.read_csv(\"my_domain.txt\")\n",
        "dom.set_index(\"Unnamed: 0\", inplace=True)\n",
        "for idx, row in dom.iterrows():\n",
        "  for c in dom.columns:\n",
        "    if row[c] ==1 :\n",
        "      text =str(idx)+\" has_domain \"+str(c)+\". \"\n",
        "      D.append(text)\n",
        "\n",
        "domain=\"\"\n",
        "for c in D:\n",
        "  domain= domain+c\n"
      ]
    },
    {
      "cell_type": "code",
      "execution_count": null,
      "metadata": {
        "id": "Wv17N-HN6cD4"
      },
      "outputs": [],
      "source": [
        "# has_chemical relation. data is collected using Pubchem\n",
        "C=[]\n",
        "finger= pd.read_csv(\"my_finger.txt\")\n",
        "finger.set_index(\"Unnamed: 0\", inplace=True)\n",
        "for idx, row in finger.iterrows():\n",
        "  for c in finger.columns:\n",
        "    if row[c] ==1 :\n",
        "      text =str(idx)+\" has_chemical S\"+str(c)+\". \"\n",
        "      C.append(text)\n",
        "chemical=\"\"\n",
        "for c in C:\n",
        "  chemical= chemical+c"
      ]
    },
    {
      "cell_type": "code",
      "execution_count": null,
      "metadata": {
        "id": "3aeWouLY6cD4"
      },
      "outputs": [],
      "source": [
        "# has_atc_code relation. data is collected using Sider4.1\n",
        "\n",
        "ATC=[]\n",
        "atc= pd.read_csv(\"my_ATC.txt\")\n",
        "atc.set_index(\"Unnamed: 0\", inplace=True)\n",
        "for idx, row in atc.iterrows():\n",
        "  for c in atc.columns:\n",
        "    if row[c] == 1 and (len(c)==4 or len(c)==1 or len(c)==3 or len(c)==5): # we consider first 4 level of ATC code\n",
        "      text =str(idx)+\" has_atc_code \"+str(c)+\". \"\n",
        "      ATC.append(text)\n",
        "atccode=\"\"\n",
        "for c in ATC:\n",
        "  atccode= atccode+c"
      ]
    },
    {
      "cell_type": "code",
      "execution_count": null,
      "metadata": {
        "id": "d34aIqy86cD4"
      },
      "outputs": [],
      "source": [
        "# has_sideeffect relation. Date is collected using Sider4.1\n",
        "S=[]\n",
        "side= pd.read_csv(\"my_sideeffect.txt\")\n",
        "side.set_index(\"Unnamed: 0\", inplace=True)\n",
        "for idx, row in side.iterrows():\n",
        "  for c in side.columns:\n",
        "    if row[c] ==1 :\n",
        "      text =str(idx)+\" has_sideeffect \"+str(c)+\". \"\n",
        "      S.append(text)"
      ]
    },
    {
      "cell_type": "markdown",
      "metadata": {
        "id": "soON2pOq6cD4"
      },
      "source": [
        "Extracting drug-disease associations\n",
        "\n",
        "Positive data: Known drug-disease associations\n",
        "\n",
        "Negative data: a subset of unknown drug-disease associations that disease is an adverse drug reaction and common with our side effects\n",
        "\n",
        "More over I did it 10 times for getting the results of 10-fold cross validation based on positive data"
      ]
    },
    {
      "cell_type": "code",
      "execution_count": null,
      "metadata": {
        "colab": {
          "base_uri": "https://localhost:8080/"
        },
        "id": "73d11lTz6cD5",
        "outputId": "4091eb97-514e-45f1-80ee-0397c3b61943"
      },
      "outputs": [
        {
          "name": "stdout",
          "output_type": "stream",
          "text": [
            "748\n",
            "674 74\n",
            "The number of  known drug disease associations without positive test set: (674, 2)\n"
          ]
        }
      ],
      "source": [
        "# to make the positive test set, every time we only change the name of testPi, 1<=i<=10\n",
        "\n",
        "A_test=[]\n",
        "i=0\n",
        "print(len(A))\n",
        "\n",
        "for idx, row in has.iterrows():\n",
        "  text = str(row.drug_id)+\" has_indicated \"+str(row.ind_id)+\". \"\n",
        "  if idx in testP10:   # HERE we change the number of i for  i<=i<=10\n",
        "    A.remove(text)\n",
        "    A_test.append(text)\n",
        "print(len(A), len(A_test))\n",
        "ass=\"\" # making the new associations for training the models\n",
        "for c in A:\n",
        "  ass= ass+c\n",
        "\n",
        "has = has.drop(testP10)  # HERE we change the number of i for 1<=i<=10\n",
        "print(\"The number of  known drug disease associations without positive test set:\",has.shape)"
      ]
    },
    {
      "cell_type": "code",
      "execution_count": null,
      "metadata": {
        "colab": {
          "base_uri": "https://localhost:8080/"
        },
        "id": "nEVdqfNn6cD5",
        "outputId": "b5134002-e3a4-44de-fe86-680d01ba2a11"
      },
      "outputs": [
        {
          "name": "stdout",
          "output_type": "stream",
          "text": [
            "The number of unknown drug disease associations in our dataset:  (1966, 2) 64121\n",
            "The number of  known drug disease associations without positive test set: (1892, 2) 64047\n"
          ]
        }
      ],
      "source": [
        "# The negative training and test set based on testNi for 1<=i<=10\n",
        "\n",
        "print(\"The number of unknown drug disease associations in our dataset: \",(hasnt.shape), len(S))\n",
        "\n",
        "I=[]\n",
        "for idx, row in hasnt.iterrows():\n",
        "  text = str(row.drug_id)+\" has_sideeffect \"+str(row.ind_id)+\". \"\n",
        "  if idx in testN10:   # HERE we change the number of i for 1<=i<=10\n",
        "    S.remove(text)\n",
        "    I.append(row)\n",
        "\n",
        "side=\"\"\n",
        "for c in S:\n",
        "  side= side+c\n",
        "I=pd.DataFrame(I)\n",
        "hasnt = hasnt.drop(testN10)   # HERE we change the number of i for 1<=i<=10\n",
        "print(\"The number of  known drug disease associations without positive test set:\",hasnt.shape, len(S))"
      ]
    },
    {
      "cell_type": "markdown",
      "metadata": {
        "id": "YOMdcp3u5hQI"
      },
      "source": [
        "# Data loading -> The test set of DRP-VEM"
      ]
    },
    {
      "cell_type": "code",
      "execution_count": null,
      "metadata": {
        "id": "ivvHE5zQ51zg"
      },
      "outputs": [],
      "source": [
        "ass = pd.read_csv(\"my_repodb.txt\") \n",
        "ass.set_index(\"Unnamed: 0\", inplace=True)\n",
        "disgenet = pd.read_csv(\"Gen-Dis-association-Disgenet-2022.csv\")\n",
        "\n",
        "# making the drug and disease lists\n",
        "my_disease_list = list(set(ass.ind_id))\n",
        "my_drug_list = list(set(ass.drug_id))\n",
        "drugs=list(set(ass.drug_id))\n",
        "disgenet = disgenet.loc[disgenet['diseaseId'].isin(my_disease_list)]\n",
        "my_disease_list = list(set(disgenet.diseaseId))\n",
        "ass = ass.loc[ass['ind_id'].isin(my_disease_list)]\n",
        "my_drug_list = list(set(ass.drug_id))\n",
        "\n",
        "# making the list of known drug-disease associations \n",
        "\n",
        "A=[]\n",
        "for ix, row in ass.iterrows():\n",
        "  text = str(row.drug_id)+\" has_indicated \"+str(row.ind_id)+\". \"\n",
        "  A.append(text)\n",
        "\n",
        "associations = []\n",
        "for a in A:\n",
        "  associations.append(a)\n",
        "\n",
        "\n"
      ]
    },
    {
      "cell_type": "code",
      "execution_count": null,
      "metadata": {
        "id": "amqwLZE410lF"
      },
      "outputs": [],
      "source": [
        "def list_of_pos_test(T_pos):\n",
        "  i=0\n",
        "  new_test=[]\n",
        "  while i!=74:\n",
        "    num = random.randint(0, len(pos_index)-1)\n",
        "    if pos_index[num] in T_pos:\n",
        "      continue\n",
        "    else:\n",
        "      T_pos.append(pos_index[num])\n",
        "      new_test.append(pos_index[num])\n",
        "      i+=1\n",
        "  return new_test\n",
        "  "
      ]
    },
    {
      "cell_type": "code",
      "execution_count": null,
      "metadata": {
        "id": "fn15c-0210lP"
      },
      "outputs": [],
      "source": [
        "def list_of_neg_test(T_neg):\n",
        "  i=0\n",
        "  new_test=[]\n",
        "  while i!=74:\n",
        "    num = random.randint(0, len(neg_index)-1)\n",
        "    if neg_index[num] in T_neg:\n",
        "      continue\n",
        "    else:\n",
        "      T_neg.append(neg_index[num])\n",
        "      new_test.append(neg_index[num])\n",
        "      i+=1\n",
        "  return new_test"
      ]
    },
    {
      "cell_type": "code",
      "execution_count": null,
      "metadata": {
        "id": "SY9Zq9Ne51zn"
      },
      "outputs": [],
      "source": [
        "has = pd.read_csv(\"my_repodb.txt\") # Positive data: Known Drug-Disease associations\n",
        "has.set_index(\"Unnamed: 0\", inplace=True)\n",
        "has = has.drop(['drug_name', 'ind_name','NCT','status', 'phase',\n",
        "       'DetailedStatus'], axis=1)\n",
        "has = has.loc[has['ind_id'].isin(my_disease_list)]\n",
        "\n",
        "\n",
        "hasnt = pd.read_csv(\"my_only_negatives.txt\") # Negative data: Unknown Drug-Disease associations when disease is adverse drug reaction\n",
        "hasnt.set_index(\"Unnamed: 0\", inplace=True)\n",
        "hasnt = hasnt.rename(columns={\"Not_indicated_for\":\"ind_id\", \"Drug_id\": \"drug_id\"})\n",
        "hasnt = hasnt.loc[hasnt['ind_id'].isin(my_disease_list)]\n",
        "\n",
        "pos_index = has.index\n",
        "neg_index = hasnt.index\n"
      ]
    },
    {
      "cell_type": "code",
      "execution_count": null,
      "metadata": {
        "id": "O-nIML3w51zm"
      },
      "outputs": [],
      "source": [
        "T_pos = []\n",
        "T_neg = []\n",
        "\n",
        "test_positive = list_of_pos_test(T_pos)\n",
        "test_negative = list_of_neg_test(T_neg)"
      ]
    },
    {
      "cell_type": "markdown",
      "metadata": {
        "id": "SdtBOpCI51zp"
      },
      "source": [
        "The information of diseases are collected using [DisGeNet](https://www.disgenet.org)"
      ]
    },
    {
      "cell_type": "code",
      "execution_count": null,
      "metadata": {
        "id": "3xiTvzWG51zp"
      },
      "outputs": [],
      "source": [
        "# making the relation of diseases: has_geneid, has_class, has_semantic, has_type\n",
        "\n",
        "C=[]\n",
        "num1=0\n",
        "num2=0\n",
        "num3=0\n",
        "num4=0\n",
        "for idx, row in disgenet.iterrows():\n",
        "      semtype = \"_\".join(row.diseaseSemanticType.split())\n",
        "      clas = row.diseaseClass.split(\";\")\n",
        "      text1 =str(row.diseaseId)+\" has_geneid \"+str(row.geneSymbol)+\". \"\n",
        "      num1+=1\n",
        "      text2 =str(row.diseaseId)+\" has_type \"+str(row.diseaseType)+\". \"\n",
        "      num2+=1\n",
        "      text3 =str(row.diseaseId)+\" has_semantic \"+str(semtype)+\". \"\n",
        "      num3+=1\n",
        "      C.append(text1)\n",
        "      C.append(text2)\n",
        "      C.append(text3)\n",
        "      num4+=len(clas)\n",
        "      for cl in clas:\n",
        "        text =str(row.diseaseId)+\" has_class \"+str(cl)+\". \"\n",
        "        C.append(text)\n",
        "\n",
        "Disease=\"\"\n",
        "for c in C:\n",
        "  Disease= Disease+c\n"
      ]
    },
    {
      "cell_type": "markdown",
      "metadata": {
        "id": "qohQMNN151zq"
      },
      "source": [
        "making the drug relations: has_sideeffect, has_target, has_domain, has_atccode, has_chemicalstructure"
      ]
    },
    {
      "cell_type": "code",
      "execution_count": null,
      "metadata": {
        "id": "ipeMfv2p51zq"
      },
      "outputs": [],
      "source": [
        "# has_target relation. data is collected using DrugBank\n",
        "T=[]\n",
        "target= pd.read_csv(\"my_target.txt\")\n",
        "target.set_index(\"Unnamed: 0\", inplace=True)\n",
        "# target_name = target.columns\n",
        "for idx, row in target.iterrows():\n",
        "  for c in target.columns:\n",
        "    if row[c] ==1 :\n",
        "      text =str(idx)+\" has_target \"+str(c)+\". \"\n",
        "      T.append(text)\n",
        "target=\"\"\n",
        "for c in T:\n",
        "  target= target+c"
      ]
    },
    {
      "cell_type": "code",
      "execution_count": null,
      "metadata": {
        "id": "BysefeQC51zr"
      },
      "outputs": [],
      "source": [
        "# has_domain relation. data is collected using UniProt\n",
        "D=[]\n",
        "dom= pd.read_csv(\"my_domain.txt\")\n",
        "dom.set_index(\"Unnamed: 0\", inplace=True)\n",
        "for idx, row in dom.iterrows():\n",
        "  for c in dom.columns:\n",
        "    if row[c] ==1 :\n",
        "      text =str(idx)+\" has_domain \"+str(c)+\". \"\n",
        "      D.append(text)\n",
        "\n",
        "domain=\"\"\n",
        "for c in D:\n",
        "  domain= domain+c\n"
      ]
    },
    {
      "cell_type": "code",
      "execution_count": null,
      "metadata": {
        "id": "ETM8Ztjk51zr"
      },
      "outputs": [],
      "source": [
        "# has_chemical relation. data is collected using Pubchem\n",
        "C=[]\n",
        "finger= pd.read_csv(\"my_finger.txt\")\n",
        "finger.set_index(\"Unnamed: 0\", inplace=True)\n",
        "for idx, row in finger.iterrows():\n",
        "  for c in finger.columns:\n",
        "    if row[c] ==1 :\n",
        "      text =str(idx)+\" has_chemical S\"+str(c)+\". \"\n",
        "      C.append(text)\n",
        "chemical=\"\"\n",
        "for c in C:\n",
        "  chemical= chemical+c"
      ]
    },
    {
      "cell_type": "code",
      "execution_count": null,
      "metadata": {
        "id": "eJMN2XEc51zs"
      },
      "outputs": [],
      "source": [
        "# has_atc_code relation. data is collected using Sider4.1\n",
        "\n",
        "ATC=[]\n",
        "atc= pd.read_csv(\"my_ATC.txt\")\n",
        "atc.set_index(\"Unnamed: 0\", inplace=True)\n",
        "for idx, row in atc.iterrows():\n",
        "  for c in atc.columns:\n",
        "    if row[c] == 1 and (len(c)==4 or len(c)==1 or len(c)==3 or len(c)==5): # we consider first 4 level of ATC code\n",
        "      text =str(idx)+\" has_atc_code \"+str(c)+\". \"\n",
        "      ATC.append(text)\n",
        "atccode=\"\"\n",
        "for c in ATC:\n",
        "  atccode= atccode+c"
      ]
    },
    {
      "cell_type": "code",
      "execution_count": null,
      "metadata": {
        "id": "IQloaaYM51zs"
      },
      "outputs": [],
      "source": [
        "# has_sideeffect relation. Date is collected using Sider4.1\n",
        "S=[]\n",
        "side= pd.read_csv(\"my_sideeffect.txt\")\n",
        "side.set_index(\"Unnamed: 0\", inplace=True)\n",
        "for idx, row in side.iterrows():\n",
        "  for c in side.columns:\n",
        "    if row[c] ==1 :\n",
        "      text =str(idx)+\" has_sideeffect \"+str(c)+\". \"\n",
        "      S.append(text)"
      ]
    },
    {
      "cell_type": "code",
      "execution_count": null,
      "metadata": {
        "colab": {
          "base_uri": "https://localhost:8080/"
        },
        "id": "lbuACVKV2Sso",
        "outputId": "f7d2247d-5ec1-4ee6-bd0f-b288f0cbd1bb"
      },
      "outputs": [
        {
          "name": "stdout",
          "output_type": "stream",
          "text": [
            "748\n",
            "674 74\n",
            "The number of  known drug disease associations without positive test set: (674, 2)\n"
          ]
        }
      ],
      "source": [
        "# to make the positive test set, every time we only change the name of testPi, 1<=i<=10\n",
        "\n",
        "A_test=[]\n",
        "i=0\n",
        "print(len(A))\n",
        "\n",
        "for idx, row in has.iterrows():\n",
        "  text = str(row.drug_id)+\" has_indicated \"+str(row.ind_id)+\". \"\n",
        "  if idx in test_positive:   # HERE we change the number of i for  i<=i<=10\n",
        "    A.remove(text)\n",
        "    A_test.append(text)\n",
        "print(len(A), len(A_test))\n",
        "ass=\"\" # making the new associations for training the models\n",
        "for c in A:\n",
        "  ass= ass+c\n",
        "\n",
        "has = has.drop(test_positive)  # HERE we change the number of i for 1<=i<=10\n",
        "print(\"The number of  known drug disease associations without positive test set:\",has.shape)"
      ]
    },
    {
      "cell_type": "code",
      "execution_count": null,
      "metadata": {
        "colab": {
          "base_uri": "https://localhost:8080/"
        },
        "id": "y2rtE9zV2Sth",
        "outputId": "b238f554-72f7-4293-c9f8-37ff5664bfe3"
      },
      "outputs": [
        {
          "name": "stdout",
          "output_type": "stream",
          "text": [
            "The number of unknown drug disease associations in our dataset:  (1966, 2) 64121\n",
            "The number of  known drug disease associations without positive test set: (1892, 2) 64047\n"
          ]
        }
      ],
      "source": [
        "# The negative training and test set based on testNi for 1<=i<=10\n",
        "\n",
        "print(\"The number of unknown drug disease associations in our dataset: \",(hasnt.shape), len(S))\n",
        "\n",
        "I=[]\n",
        "for idx, row in hasnt.iterrows():\n",
        "  text = str(row.drug_id)+\" has_sideeffect \"+str(row.ind_id)+\". \"\n",
        "  if idx in test_negative:   # HERE we change the number of i for 1<=i<=10\n",
        "    S.remove(text)\n",
        "    I.append(row)\n",
        "\n",
        "side=\"\"\n",
        "for c in S:\n",
        "  side= side+c\n",
        "I=pd.DataFrame(I)\n",
        "hasnt = hasnt.drop(test_negative)   # HERE we change the number of i for 1<=i<=10\n",
        "print(\"The number of  known drug disease associations without positive test set:\",hasnt.shape, len(S))"
      ]
    },
    {
      "cell_type": "markdown",
      "metadata": {
        "id": "iv0gfj8cLzOB"
      },
      "source": [
        "# Checking the roubustness of model based on article 'Drug-Disease Association Prediction Using Heterogeneous Networks for Computational Drug Repositioning'"
      ]
    },
    {
      "cell_type": "code",
      "execution_count": null,
      "metadata": {
        "id": "w_ALY1LOMF1u"
      },
      "outputs": [],
      "source": [
        "ass = pd.read_csv(\"my_repodb.txt\") \n",
        "ass.set_index(\"Unnamed: 0\", inplace=True)\n",
        "disgenet = pd.read_csv(\"Gen-Dis-association-Disgenet-2022.csv\")\n",
        "\n",
        "# making the drug and disease lists\n",
        "my_disease_list = list(set(ass.ind_id))\n",
        "my_drug_list = list(set(ass.drug_id))\n",
        "drugs=list(set(ass.drug_id))\n",
        "disgenet = disgenet.loc[disgenet['diseaseId'].isin(my_disease_list)]\n",
        "my_disease_list = list(set(disgenet.diseaseId))\n",
        "ass = ass.loc[ass['ind_id'].isin(my_disease_list)]\n",
        "my_drug_list = list(set(ass.drug_id))\n",
        "\n",
        "# making the list of known drug-disease associations \n",
        "\n",
        "A=[]\n",
        "for ix, row in ass.iterrows():\n",
        "  text = str(row.drug_id)+\" has_indicated \"+str(row.ind_id)+\". \"\n",
        "  A.append(text)\n",
        "\n",
        "associations = []\n",
        "for a in A:\n",
        "  associations.append(a)\n",
        "\n",
        "\n"
      ]
    },
    {
      "cell_type": "code",
      "execution_count": null,
      "metadata": {
        "id": "szZ9_tjjMF1w"
      },
      "outputs": [],
      "source": [
        "def list_of_pos_test(T_pos):\n",
        "  i=0\n",
        "  new_test=[]\n",
        "  while i!=67: # 67 in case of removing and 74 in normal\n",
        "    num = random.randint(0, len(pos_index)-1)\n",
        "    if pos_index[num] in T_pos:\n",
        "      continue\n",
        "    else:\n",
        "      T_pos.append(pos_index[num])\n",
        "      new_test.append(pos_index[num])\n",
        "      i+=1\n",
        "  return new_test\n",
        "  "
      ]
    },
    {
      "cell_type": "code",
      "execution_count": null,
      "metadata": {
        "id": "KMcPB1k3MF1x"
      },
      "outputs": [],
      "source": [
        "def list_of_neg_test(T_neg):\n",
        "  i=0\n",
        "  new_test=[]\n",
        "  while i!=189: # 189 in case of removing and 196 in normal\n",
        "    num = random.randint(0, len(neg_index)-1)\n",
        "    if neg_index[num] in T_neg:\n",
        "      continue\n",
        "    else:\n",
        "      T_neg.append(neg_index[num])\n",
        "      new_test.append(neg_index[num])\n",
        "      i+=1\n",
        "  return new_test"
      ]
    },
    {
      "cell_type": "code",
      "execution_count": null,
      "metadata": {
        "id": "Jgm4AkVDMF1y"
      },
      "outputs": [],
      "source": [
        "has = pd.read_csv(\"my_repodb.txt\") # Positive data: Known Drug-Disease associations\n",
        "has.set_index(\"Unnamed: 0\", inplace=True)\n",
        "has = has.drop(['drug_name', 'ind_name','NCT','status', 'phase',\n",
        "       'DetailedStatus'], axis=1)\n",
        "has = has.loc[has['ind_id'].isin(my_disease_list)]\n",
        "\n",
        "\n",
        "hasnt = pd.read_csv(\"my_only_negatives.txt\") # Negative data: Unknown Drug-Disease associations when disease is adverse drug reaction\n",
        "hasnt.set_index(\"Unnamed: 0\", inplace=True)\n",
        "hasnt = hasnt.rename(columns={\"Not_indicated_for\":\"ind_id\", \"Drug_id\": \"drug_id\"})\n",
        "hasnt = hasnt.loc[hasnt['ind_id'].isin(my_disease_list)]\n",
        "\n",
        "pos_index = has.index\n",
        "neg_index = hasnt.index\n"
      ]
    },
    {
      "cell_type": "code",
      "execution_count": null,
      "metadata": {
        "id": "D7zHRBeNMF1y"
      },
      "outputs": [],
      "source": [
        "T_pos = []\n",
        "T_neg = []\n",
        "\n",
        "test_positive = list_of_pos_test(T_pos)\n",
        "test_negative = list_of_neg_test(T_neg)"
      ]
    },
    {
      "cell_type": "markdown",
      "metadata": {
        "id": "f1cjtU9qMF1y"
      },
      "source": [
        "The information of diseases are collected using [DisGeNet](https://www.disgenet.org)"
      ]
    },
    {
      "cell_type": "code",
      "execution_count": null,
      "metadata": {
        "id": "KVv8a7XSMF1z"
      },
      "outputs": [],
      "source": [
        "\n",
        "\n",
        "# making the relation of diseases: has_geneid, has_class, has_semantic, has_type\n",
        "\n",
        "C=[]\n",
        "num1=0\n",
        "num2=0\n",
        "num3=0\n",
        "num4=0\n",
        "for idx, row in disgenet.iterrows():\n",
        "      semtype = \"_\".join(row.diseaseSemanticType.split())\n",
        "      clas = row.diseaseClass.split(\";\")\n",
        "      text1 =str(row.diseaseId)+\" has_geneid \"+str(row.geneSymbol)+\". \"\n",
        "      num1+=1\n",
        "      text2 =str(row.diseaseId)+\" has_type \"+str(row.diseaseType)+\". \"\n",
        "      num2+=1\n",
        "      text3 =str(row.diseaseId)+\" has_semantic \"+str(semtype)+\". \"\n",
        "      num3+=1\n",
        "      C.append(text1)\n",
        "      C.append(text2)\n",
        "      C.append(text3)\n",
        "      num4+=len(clas)\n",
        "      for cl in clas:\n",
        "        text =str(row.diseaseId)+\" has_class \"+str(cl)+\". \"\n",
        "        C.append(text)\n",
        "\n",
        "Disease=\"\"\n",
        "for c in C:\n",
        "  Disease= Disease+c\n"
      ]
    },
    {
      "cell_type": "markdown",
      "metadata": {
        "id": "jzmku-cIMF1z"
      },
      "source": [
        "making the drug relations: has_sideeffect, has_target, has_domain, has_atccode, has_chemicalstructure"
      ]
    },
    {
      "cell_type": "code",
      "execution_count": null,
      "metadata": {
        "id": "fA-zi0V_MF1z"
      },
      "outputs": [],
      "source": [
        "# has_target relation. data is collected using DrugBank\n",
        "T=[]\n",
        "target= pd.read_csv(\"my_target.txt\")\n",
        "target.set_index(\"Unnamed: 0\", inplace=True)\n",
        "# target_name = target.columns\n",
        "for idx, row in target.iterrows():\n",
        "  for c in target.columns:\n",
        "    if row[c] ==1 :\n",
        "      text =str(idx)+\" has_target \"+str(c)+\". \"\n",
        "      T.append(text)\n",
        "target=\"\"\n",
        "for c in T:\n",
        "  target= target+c"
      ]
    },
    {
      "cell_type": "code",
      "execution_count": null,
      "metadata": {
        "id": "YIwiOXHjMF1z"
      },
      "outputs": [],
      "source": [
        "# has_domain relation. data is collected using UniProt\n",
        "D=[]\n",
        "dom= pd.read_csv(\"my_domain.txt\")\n",
        "dom.set_index(\"Unnamed: 0\", inplace=True)\n",
        "for idx, row in dom.iterrows():\n",
        "  for c in dom.columns:\n",
        "    if row[c] ==1 :\n",
        "      text =str(idx)+\" has_domain \"+str(c)+\". \"\n",
        "      D.append(text)\n",
        "\n",
        "domain=\"\"\n",
        "for c in D:\n",
        "  domain= domain+c\n"
      ]
    },
    {
      "cell_type": "code",
      "execution_count": null,
      "metadata": {
        "id": "_vPcUnrlMF11"
      },
      "outputs": [],
      "source": [
        "# has_chemical relation. data is collected using Pubchem\n",
        "C=[]\n",
        "finger= pd.read_csv(\"my_finger.txt\")\n",
        "finger.set_index(\"Unnamed: 0\", inplace=True)\n",
        "for idx, row in finger.iterrows():\n",
        "  for c in finger.columns:\n",
        "    if row[c] ==1 :\n",
        "      text =str(idx)+\" has_chemical S\"+str(c)+\". \"\n",
        "      C.append(text)\n",
        "chemical=\"\"\n",
        "for c in C:\n",
        "  chemical= chemical+c"
      ]
    },
    {
      "cell_type": "code",
      "execution_count": null,
      "metadata": {
        "id": "PH27XafOMF11"
      },
      "outputs": [],
      "source": [
        "# has_atc_code relation. data is collected using Sider4.1\n",
        "\n",
        "ATC=[]\n",
        "atc= pd.read_csv(\"my_ATC.txt\")\n",
        "atc.set_index(\"Unnamed: 0\", inplace=True)\n",
        "for idx, row in atc.iterrows():\n",
        "  for c in atc.columns:\n",
        "    if row[c] == 1 and (len(c)==4 or len(c)==1 or len(c)==3 or len(c)==5): # we consider first 4 level of ATC code\n",
        "      text =str(idx)+\" has_atc_code \"+str(c)+\". \"\n",
        "      ATC.append(text)\n",
        "atccode=\"\"\n",
        "for c in ATC:\n",
        "  atccode= atccode+c"
      ]
    },
    {
      "cell_type": "code",
      "execution_count": null,
      "metadata": {
        "id": "eTI8_dpNMF12"
      },
      "outputs": [],
      "source": [
        "# has_sideeffect relation. Date is collected using Sider4.1\n",
        "S=[]\n",
        "side= pd.read_csv(\"my_sideeffect.txt\")\n",
        "side.set_index(\"Unnamed: 0\", inplace=True)\n",
        "for idx, row in side.iterrows():\n",
        "  for c in side.columns:\n",
        "    if row[c] ==1 :\n",
        "      text =str(idx)+\" has_sideeffect \"+str(c)+\". \"\n",
        "      S.append(text)"
      ]
    },
    {
      "cell_type": "code",
      "execution_count": null,
      "metadata": {
        "colab": {
          "base_uri": "https://localhost:8080/"
        },
        "id": "2vAejK9cMF12",
        "outputId": "52805eeb-afb0-4b10-d7c4-57c17344a844"
      },
      "outputs": [
        {
          "name": "stdout",
          "output_type": "stream",
          "text": [
            "748\n",
            "674 74\n",
            "The number of  known drug disease associations without positive test set: (674, 2)\n"
          ]
        }
      ],
      "source": [
        "# to make the positive test set, every time we only change the name of testPi, 1<=i<=10\n",
        "\n",
        "A_test=[]\n",
        "i=0\n",
        "print(len(A))\n",
        "\n",
        "for idx, row in has.iterrows():\n",
        "  text = str(row.drug_id)+\" has_indicated \"+str(row.ind_id)+\". \"\n",
        "  if idx in test_positive:   # HERE we change the number of i for  i<=i<=10\n",
        "    A.remove(text)\n",
        "    A_test.append(text)\n",
        "print(len(A), len(A_test))\n",
        "ass=\"\" # making the new associations for training the models\n",
        "for c in A:\n",
        "  ass= ass+c\n",
        "\n",
        "has = has.drop(test_positive)  # HERE we change the number of i for 1<=i<=10\n",
        "print(\"The number of  known drug disease associations without positive test set:\",has.shape)"
      ]
    },
    {
      "cell_type": "code",
      "execution_count": null,
      "metadata": {
        "colab": {
          "base_uri": "https://localhost:8080/"
        },
        "id": "En4MTN-gMF12",
        "outputId": "0f4f439f-3367-450a-8e83-10cceedacda9"
      },
      "outputs": [
        {
          "name": "stdout",
          "output_type": "stream",
          "text": [
            "The number of unknown drug disease associations in our dataset:  (1966, 2) 64121\n",
            "The number of  known drug disease associations without positive test set: (1892, 2) 64047\n"
          ]
        }
      ],
      "source": [
        "# The negative training and test set based on testNi for 1<=i<=10\n",
        "\n",
        "print(\"The number of unknown drug disease associations in our dataset: \",(hasnt.shape), len(S))\n",
        "\n",
        "I=[]\n",
        "for idx, row in hasnt.iterrows():\n",
        "  text = str(row.drug_id)+\" has_sideeffect \"+str(row.ind_id)+\". \"\n",
        "  if idx in test_negative:   # HERE we change the number of i for 1<=i<=10\n",
        "    S.remove(text)\n",
        "    I.append(row)\n",
        "\n",
        "side=\"\"\n",
        "for c in S:\n",
        "  side= side+c\n",
        "I=pd.DataFrame(I)\n",
        "hasnt = hasnt.drop(test_negative)   # HERE we change the number of i for 1<=i<=10\n",
        "print(\"The number of  known drug disease associations without positive test set:\",hasnt.shape, len(S))"
      ]
    },
    {
      "cell_type": "markdown",
      "metadata": {
        "id": "mGIA9oFoMS_o"
      },
      "source": [
        "## Adding noise to train data (has and hasnt)"
      ]
    },
    {
      "cell_type": "code",
      "execution_count": null,
      "metadata": {
        "id": "-lKDLRc-MjW1"
      },
      "outputs": [],
      "source": [
        "# 10% by chance -> 67 pos pair and 189 neg pair pair \n",
        "i = 0\n",
        "while i != 67:\n",
        "  disease = random.choice(my_disease_list)\n",
        "  drug = random.choice(my_drug_list)\n",
        "  if ((has['drug_id'] == drug) & (has['ind_id'] == disease)).any() or ((hasnt['drug_id'] == drug) & (hasnt['ind_id'] == disease)).any(): # it is necessary the pair was neither in pos nor in neg\n",
        "    continue\n",
        "  else:\n",
        "    text = str(drug)+\" has_indicated \"+str(disease)+\". \"\n",
        "    ass= ass+text\n",
        "    row = {'drug_id': drug, 'ind_id':disease}\n",
        "    has = has.append(row, ignore_index=True)\n",
        "    i+=1\n",
        "i=0\n",
        "while i != 189:\n",
        "  disease = random.choice(my_disease_list)\n",
        "  drug = random.choice(my_drug_list)\n",
        "  if ((hasnt['drug_id'] == drug) & (hasnt['ind_id'] == disease)).any() or ((has['drug_id'] == drug) & (has['ind_id'] == disease)).any():\n",
        "    continue\n",
        "  else:\n",
        "    text = str(drug)+\" has_sideeffect \"+str(disease)+\". \"\n",
        "    side = side + text\n",
        "    row = {'drug_id': drug, 'ind_id':disease}\n",
        "    hasnt = hasnt.append(row, ignore_index = True)\n",
        "    i+=1\n"
      ]
    },
    {
      "cell_type": "markdown",
      "metadata": {
        "id": "sKOjYCosCBBg"
      },
      "source": [
        "## Removing pair as case lack of data"
      ]
    },
    {
      "cell_type": "code",
      "execution_count": null,
      "metadata": {
        "id": "GG_PBHBvFbB5"
      },
      "outputs": [],
      "source": [
        "T_rem_pos = []\n",
        "T_rem_neg = []"
      ]
    },
    {
      "cell_type": "code",
      "execution_count": null,
      "metadata": {
        "colab": {
          "base_uri": "https://localhost:8080/"
        },
        "id": "1X9XB3tzKbFw",
        "outputId": "9185c3bf-735e-48d9-f1da-bf81187f5688"
      },
      "outputs": [
        {
          "data": {
            "text/plain": [
              "148"
            ]
          },
          "execution_count": 199,
          "metadata": {},
          "output_type": "execute_result"
        }
      ],
      "source": [
        "len(T_rem_pos)"
      ]
    },
    {
      "cell_type": "code",
      "execution_count": null,
      "metadata": {
        "colab": {
          "base_uri": "https://localhost:8080/"
        },
        "id": "EfrfeNh9CLQ5",
        "outputId": "190cf762-6882-4ad2-e54f-563c07d889ac"
      },
      "outputs": [
        {
          "name": "stdout",
          "output_type": "stream",
          "text": [
            "526 74\n",
            "The number of  known drug disease associations without positive test set: (526, 2)\n",
            "The number of  known drug disease associations without positive test set: (1744, 2) 63899\n"
          ]
        }
      ],
      "source": [
        "# 10% by chance -> 67 pos pair and 189 neg pair pair \n",
        "\n",
        "\n",
        "pos_index = has.index\n",
        "neg_index = hasnt.index\n",
        "\n",
        "pos_10 = list_of_pos_test(T_rem_pos)\n",
        "neg_10 = list_of_neg_test(T_rem_neg)\n",
        "\n",
        "for idx, row in has.iterrows():\n",
        "  text = str(row.drug_id)+\" has_indicated \"+str(row.ind_id)+\". \"\n",
        "  if idx in pos_10:   # HERE we change the number of i for  i<=i<=10\n",
        "    A.remove(text)\n",
        "\n",
        "print(len(A), len(A_test))\n",
        "\n",
        "ass=\"\" # making the new associations for training the models\n",
        "for c in A:\n",
        "  ass= ass+c\n",
        "\n",
        "has = has.drop(pos_10)  # HERE we change the number of i for 1<=i<=10\n",
        "print(\"The number of  known drug disease associations without positive test set:\",has.shape)\n",
        "\n",
        "\n",
        "for idx, row in hasnt.iterrows():\n",
        "  text = str(row.drug_id)+\" has_sideeffect \"+str(row.ind_id)+\". \"\n",
        "  if idx in neg_10:   # HERE we change the number of i for 1<=i<=10\n",
        "    S.remove(text)\n",
        "\n",
        "side=\"\"\n",
        "for c in S:\n",
        "  side= side+c\n",
        "I=pd.DataFrame(I)\n",
        "hasnt = hasnt.drop(neg_10)   # HERE we change the number of i for 1<=i<=10\n",
        "print(\"The number of  known drug disease associations without positive test set:\",hasnt.shape, len(S))"
      ]
    },
    {
      "cell_type": "markdown",
      "metadata": {
        "id": "4ocxfgkg4f73"
      },
      "source": [
        "#Word2Vec implementation\n"
      ]
    },
    {
      "cell_type": "markdown",
      "metadata": {
        "id": "HpG5IkfTtXcq"
      },
      "source": [
        "first, we make the file of our DDKG\n"
      ]
    },
    {
      "cell_type": "code",
      "execution_count": 74,
      "metadata": {
        "id": "-x6g4u2abgg6"
      },
      "outputs": [],
      "source": [
        "\n",
        "data=[]\n",
        "sets=[chemical, target, side, domain, atccode, ass, Disease]\n",
        "\n",
        "for s in sets:\n",
        "  for i in sent_tokenize(s):\n",
        "      temp = []\n",
        "      # tokenize the sentence into words\n",
        "      for j in word_tokenize(i):\n",
        "          temp.append(j.lower())\n",
        "      data.append(temp)"
      ]
    },
    {
      "cell_type": "code",
      "execution_count": 75,
      "metadata": {
        "colab": {
          "base_uri": "https://localhost:8080/"
        },
        "id": "YPCZWjv5hiDH",
        "outputId": "fccc8d16-d444-4c71-d227-a5cc0e966139"
      },
      "outputs": [
        {
          "data": {
            "text/plain": [
              "10814"
            ]
          },
          "execution_count": 75,
          "metadata": {},
          "output_type": "execute_result"
        }
      ],
      "source": [
        "word_freq = defaultdict(int)\n",
        "for sent in data:\n",
        "    for i in sent:\n",
        "        word_freq[i] += 1\n",
        "len(word_freq)"
      ]
    },
    {
      "cell_type": "markdown",
      "metadata": {
        "id": "L0gAjZPutovy"
      },
      "source": [
        "we train Word2Vec-CBOW for embedding every entity of DDKG including diseases and drugs\n",
        "\n",
        "based on trial and error, the best performance of Word2Vec on our dataset is when the length of vectors (size) is 700 and the iteration (iter) is 2000"
      ]
    },
    {
      "cell_type": "code",
      "execution_count": 83,
      "metadata": {
        "id": "5D8HsO0XdIWo"
      },
      "outputs": [],
      "source": [
        "model1 = gensim.models.Word2Vec(min_count = 1, alpha=0.001, size = 700, window = 2, iter=100, sg=0)\n",
        "model1.build_vocab(data, progress_per=10000)\n",
        "model1.train(data, total_examples=model1.corpus_count, epochs=500, report_delay=1)\n",
        "model1.init_sims(replace=True)"
      ]
    },
    {
      "cell_type": "code",
      "execution_count": 22,
      "metadata": {
        "id": "qqhNP4nj_dUD"
      },
      "outputs": [],
      "source": [
        "def mean_cal(K):\n",
        "  sum=0\n",
        "  for k in K:\n",
        "    sum= sum+k\n",
        "  return(sum/len(K))"
      ]
    },
    {
      "cell_type": "markdown",
      "metadata": {
        "id": "9_O6CwblyN-E"
      },
      "source": [
        "# Implementation\n",
        "\n",
        "we consider several approaches:\n",
        "1. unbalanced dataset (1961 negativ and 700 positive)\n",
        "2. Undersampling negative data \n",
        "3. Upsampling positive data\n",
        "4. Upsampling positive data and undersampling negative data"
      ]
    },
    {
      "cell_type": "markdown",
      "metadata": {
        "id": "a-FQltnkF8pd"
      },
      "source": [
        "## Unbalanced"
      ]
    },
    {
      "cell_type": "code",
      "execution_count": null,
      "metadata": {
        "id": "chcfRe4LWFfJ"
      },
      "outputs": [],
      "source": [
        "frames = [has, hasnt]\n",
        "f = pd.concat(frames)\n",
        "X=[]\n",
        "for idx, row in f.iterrows():\n",
        "  X.append(np.concatenate((model1[(row.drug_id).lower()], model1[(row.ind_id).lower()]), axis=None))\n",
        "\n"
      ]
    },
    {
      "cell_type": "code",
      "execution_count": null,
      "metadata": {
        "id": "DMsqdOuvWFfM"
      },
      "outputs": [],
      "source": [
        "y=np.zeros((len(X), ))\n",
        "\n",
        "for i in range(has.shape[0]):\n",
        "  y[i]=1\n"
      ]
    },
    {
      "cell_type": "code",
      "execution_count": null,
      "metadata": {
        "colab": {
          "base_uri": "https://localhost:8080/"
        },
        "id": "0PdMAKlQWFfN",
        "outputId": "1dc284ed-3dbc-4b23-d524-5355e5bcaef7"
      },
      "outputs": [
        {
          "name": "stdout",
          "output_type": "stream",
          "text": [
            "auc =  0.7659089276736335\n",
            "aupr =  0.7478085835273076\n",
            "auc =  0.7529148142196511\n",
            "aupr =  0.7146554964080194\n",
            "auc =  0.7967403391715318\n",
            "aupr =  0.7605391980885596\n",
            "auc =  0.8007843205757507\n",
            "aupr =  0.7587660417745893\n",
            "auc =  0.7444852941176471\n",
            "aupr =  0.697079536039768\n",
            "____________________\n",
            "Mean AUC: 0.7721667391516428 \n",
            " Mean aupr: 0.7357697711676489 \n",
            " Mean acc:  0.8690140845070422\n"
          ]
        }
      ],
      "source": [
        "# first time, we split dataset 5 times and average the results\n",
        "# Notice: here, we only work on trained vocabulary. and the test set is not evaluated yet\n",
        "\n",
        "sauc=[]\n",
        "sacc=[]\n",
        "spr=[]\n",
        "for i in range(5):\n",
        "  x_train, x_test, y_train, y_test = train_test_split(X, y)\n",
        "  clf = LogisticRegression(solver=\"liblinear\", max_iter=2000).fit(x_train, y_train)\n",
        "  # clf = svm.SVC(kernel=\"linear\", class_weight=\"balanced\").fit(x_train, y_train)\n",
        "  # clf = DecisionTreeClassifier().fit(x_train, y_train)\n",
        "  # clf = RandomForestClassifier().fit(x_train, y_train)\n",
        "  # y_hat= clf.predict_proba(x_test)[:, 1]\n",
        "  y_hat= clf.predict(x_test)\n",
        "  print(\"auc = \", roc_auc_score(y_test, y_hat))\n",
        "  sauc.append(roc_auc_score(y_test, y_hat))\n",
        "  # print(\"roc-auc:\",roc_auc_score(y_test, clf.decision_function(x_test)))\n",
        "  # precision, recall, thresholds = precision_recall_curve(y_test, clf.decision_function(x_test))\n",
        "  precision, recall, thresholds = precision_recall_curve(y_test, y_hat)\n",
        "  print(\"aupr = \", auc(recall, precision))\n",
        "  spr.append(auc(recall, precision))\n",
        "  sacc.append(clf.score(x_test, y_test))\n",
        "  clf.score(x_test, y_test)\n",
        "print(\"____________________\\nMean AUC:\", mean_cal(sauc), \"\\n Mean aupr:\",mean_cal(spr),\"\\n Mean acc: \", mean_cal(sacc))"
      ]
    },
    {
      "cell_type": "code",
      "execution_count": null,
      "metadata": {
        "colab": {
          "base_uri": "https://localhost:8080/",
          "height": 703
        },
        "id": "Comcm9pO_ORB",
        "outputId": "8aaa1c0a-4c6a-4fa8-82ab-e1edcb706662"
      },
      "outputs": [
        {
          "name": "stdout",
          "output_type": "stream",
          "text": [
            "auc =  0.8253903708523097\n",
            "aupr =  0.5924984955629646\n",
            "Score =  0.6916299559471366\n",
            "_____________________\n",
            "auc =  0.9018829308227589\n",
            "aupr =  0.7664784090577431\n",
            "Score =  0.8458149779735683\n",
            "_____________________\n",
            "auc =  0.9246691226633921\n",
            "aupr =  0.8015454250759354\n",
            "Score =  0.8127753303964758\n",
            "_____________________\n",
            "auc =  0.9123754946104515\n",
            "aupr =  0.8028428591850996\n",
            "Score =  0.8612334801762115\n",
            "_____________________\n",
            "auc =  0.897680447537181\n",
            "aupr =  0.6637391179862124\n",
            "Score =  0.8127753303964758\n",
            "_____________________\n",
            "Mean AUC: 0.8923996732972187\n",
            "Mean AUPR: 0.7254208613735911\n",
            "Mean Score: 0.8048458149779737\n",
            "________________________\n"
          ]
        },
        {
          "data": {
            "image/png": "[encoded data removed]",
            "text/plain": [
              "<Figure size 432x288 with 1 Axes>"
            ]
          },
          "metadata": {},
          "output_type": "display_data"
        }
      ],
      "source": [
        "# the second times, we aplly stratifiedkfold\n",
        "\n",
        "skf = StratifiedKFold(n_splits=10)\n",
        "# skf.get_n_splits(X, y)\n",
        "score=[]\n",
        "AUC=[]\n",
        "AUPR=[]\n",
        "X= np.array(X)\n",
        "y=np.array(y)\n",
        "tprs = []\n",
        "aucs = []\n",
        "mean_fpr = np.linspace(0, 1, 100)\n",
        "fig, ax = plt.subplots()\n",
        "for train_index, test_index in skf.split(X, y):\n",
        "    #  print(\"TRAIN:\", train_index, \"TEST:\", test_index)\n",
        "     x_train, x_test = X[train_index], X[test_index]\n",
        "     y_train, y_test = y[train_index], y[test_index]\n",
        "     clf = LogisticRegression(solver=\"liblinear\", class_weight = 'balanced').fit(x_train, y_train)\n",
        "    #  clf = DecisionTreeClassifier().fit(x_train, y_train)\n",
        "    #  clf = svm.SVC(kernel=\"linear\", class_weight=\"balanced\").fit(x_train, y_train)\n",
        "    #  clf = RandomForestClassifier().fit(x_train, y_train)\n",
        "     viz = plot_roc_curve(clf, x_test, y_test,\n",
        "                         name='ROC fold {}'.format(i),\n",
        "                         alpha=0.3, lw=1, ax=ax)\n",
        "     interp_tpr = np.interp(mean_fpr, viz.fpr, viz.tpr)\n",
        "     interp_tpr[0] = 0.0\n",
        "     tprs.append(interp_tpr)\n",
        "     aucs.append(viz.roc_auc)\n",
        "     y_hat= clf.predict_proba(x_test)[:,1]\n",
        "    #  y_hat= clf.predict(x_test)\n",
        "     A = roc_auc_score(y_test, y_hat)\n",
        "    #  A = roc_auc_score(y_test, clf.decision_function(x_test))\n",
        "     AUC.append(A)\n",
        "     print(\"auc = \", A)\n",
        "     precision, recall, thresholds = precision_recall_curve(y_test, y_hat)\n",
        "    #  precision, recall, thresholds = precision_recall_curve(y_test, clf.decision_function(x_test))\n",
        "     PR = auc(recall, precision)\n",
        "     AUPR.append(PR)\n",
        "     print(\"aupr = \", PR)\n",
        "     sc= clf.score(x_test, y_test)\n",
        "     score.append(sc)\n",
        "     print(\"Score = \", sc)\n",
        "     print(\"_____________________\")\n",
        "\n",
        "print(\"Mean AUC:\",mean_cal(AUC))\n",
        "print(\"Mean AUPR:\",mean_cal(AUPR))\n",
        "print(\"Mean Score:\",mean_cal(score))\n",
        "print(\"________________________\")\n",
        "\n",
        "\n",
        "ax.plot([0, 1], [0, 1], linestyle='--', lw=2, color='r',\n",
        "        label='Chance', alpha=.8)\n",
        "\n",
        "mean_tpr = np.mean(tprs, axis=0)\n",
        "mean_tpr[-1] = 1.0\n",
        "mean_auc = auc(mean_fpr, mean_tpr)\n",
        "std_auc = np.std(aucs)\n",
        "ax.plot(mean_fpr, mean_tpr, color='b',\n",
        "        label=r'Mean ROC (AUC = %0.2f $\\pm$ %0.2f)' % (mean_auc, std_auc),\n",
        "        lw=2, alpha=.8)\n",
        "\n",
        "std_tpr = np.std(tprs, axis=0)\n",
        "tprs_upper = np.minimum(mean_tpr + std_tpr, 1)\n",
        "tprs_lower = np.maximum(mean_tpr - std_tpr, 0)\n",
        "ax.fill_between(mean_fpr, tprs_lower, tprs_upper, color='grey', alpha=.2,\n",
        "                label=r'$\\pm$ 1 std. dev.')\n",
        "\n",
        "ax.set(xlim=[-0.05, 1.05], ylim=[-0.05, 1.05],\n",
        "       title=\"Receiver operating characteristic example\")\n",
        "ax.legend(loc=\"lower right\")\n",
        "plt.show()"
      ]
    },
    {
      "cell_type": "code",
      "execution_count": null,
      "metadata": {
        "colab": {
          "base_uri": "https://localhost:8080/"
        },
        "id": "vAl7UBg0_Q1A",
        "outputId": "aac9a0dd-f2e0-4df5-bfb0-a7e435942623"
      },
      "outputs": [
        {
          "name": "stdout",
          "output_type": "stream",
          "text": [
            "auc-roc =  0.9352091817845243\n",
            "auc-pr =  0.936038966900987\n",
            "0.9364976051007621\n",
            "Acc =  0.8435374149659864\n",
            "              precision    recall  f1-score   support\n",
            "\n",
            "           0       0.88      0.79      0.83        73\n",
            "           1       0.81      0.89      0.85        74\n",
            "\n",
            "    accuracy                           0.84       147\n",
            "   macro avg       0.85      0.84      0.84       147\n",
            "weighted avg       0.85      0.84      0.84       147\n",
            "\n"
          ]
        }
      ],
      "source": [
        "# the main test set\n",
        "X_me = []\n",
        "Y_me = []\n",
        "for a in A_test:\n",
        "  sample = a.split(\" \")\n",
        "  dname =sample[0]\n",
        "  disname = sample[2].split(\".\")\n",
        "  X_me.append(np.concatenate((model1[(dname.rstrip().lower())], model1[(disname[0].lstrip().lower())]), axis=None))\n",
        "  Y_me.append(1)\n",
        "for idx, i in I.iterrows():\n",
        "  if(i.ind_id in my_disease_list and i.drug_id in my_drug_list):\n",
        "    X_me.append(np.concatenate((model1[i.drug_id.lower()], model1[i.ind_id.lower()]), axis=None))\n",
        "    # X_me.append((model1[i.drug_id.lower()]- model1[i.ind_id.lower()]))\n",
        "    Y_me.append(0)\n",
        "\n",
        "# trainng the model on the train set and evaluate on the test set\n",
        "\n",
        "\n",
        "clf = LogisticRegression(solver=\"sag\", class_weight = 'balanced', max_iter=10000, penalty='l2').fit(X, y) \n",
        "# clf = svm.SVC(kernel=\"linear\", class_weight=\"balanced\").fit(X, y)\n",
        "# clf = DecisionTreeClassifier().fit(X, y)\n",
        "# clf = RandomForestClassifier().fit(X, y)\n",
        "\n",
        "y_hat = clf.predict_proba(X_me)[:,1]\n",
        "A = roc_auc_score(Y_me, y_hat)\n",
        "\n",
        "#  A = roc_auc_score(y_test, clf.decision_function(x_test))\n",
        "print(\"auc-roc = \", A)\n",
        "precision, recall, thresholds = precision_recall_curve(Y_me, y_hat)\n",
        "\n",
        "#  precision, recall, thresholds = precision_recall_curve(y_test, clf.decision_function(x_test))\n",
        "PR = auc(recall, precision)\n",
        "\n",
        "print(\"auc-pr = \", PR)\n",
        "print(average_precision_score(Y_me, clf.predict_proba(X_me)[:,1]))\n",
        "sc= clf.score(X_me, Y_me)\n",
        "\n",
        "print(\"Acc = \", sc)\n",
        "print(classification_report(Y_me, clf.predict(X_me)))"
      ]
    },
    {
      "cell_type": "markdown",
      "metadata": {
        "id": "P7l7mXgEGB1x"
      },
      "source": [
        "## Undersampling negative data"
      ]
    },
    {
      "cell_type": "code",
      "execution_count": null,
      "metadata": {
        "id": "hUFEJSBH_TtN"
      },
      "outputs": [],
      "source": [
        "neg =hasnt.copy()\n",
        "neg = neg.sample(n = has.shape[0]) #undersampling negative data randomly for training the model\n",
        "frames = [has, neg]\n",
        "\n",
        "f = pd.concat(frames)\n",
        "X=[]\n",
        "for idx, row in f.iterrows():\n",
        "  X.append(np.concatenate((model1[(row.drug_id).lower()], model1[(row.ind_id).lower()]), axis=None))\n",
        "\n"
      ]
    },
    {
      "cell_type": "code",
      "execution_count": null,
      "metadata": {
        "id": "3k08ZYeU_VlY"
      },
      "outputs": [],
      "source": [
        "y=np.zeros((len(X), ))\n",
        "\n",
        "for i in range(has.shape[0]):\n",
        "  y[i]=1\n"
      ]
    },
    {
      "cell_type": "code",
      "execution_count": null,
      "metadata": {
        "colab": {
          "base_uri": "https://localhost:8080/"
        },
        "id": "h39QApRoj0pd",
        "outputId": "60ffa04e-3d34-4a51-fd71-e81c60501b72"
      },
      "outputs": [
        {
          "name": "stdout",
          "output_type": "stream",
          "text": [
            "auc =  0.8491529357159433\n",
            "aupr =  0.8982277388839807\n",
            "auc =  0.8509032634032634\n",
            "aupr =  0.9011913353074388\n",
            "auc =  0.8366666666666667\n",
            "aupr =  0.8863188283340374\n",
            "auc =  0.8437934228809634\n",
            "aupr =  0.8778817096532135\n",
            "auc =  0.834073641145529\n",
            "aupr =  0.8940810547239494\n",
            "____________________\n",
            "Mean AUC: 0.8429179859624731 \n",
            " Mean aupr: 0.8915401333805241 \n",
            " Mean acc:  0.8425855513307985\n"
          ]
        }
      ],
      "source": [
        "\n",
        "sauc=[]\n",
        "sacc=[]\n",
        "spr=[]\n",
        "for i in range(5):\n",
        "  x_train, x_test, y_train, y_test = train_test_split(X, y)\n",
        "  clf = LogisticRegression(solver=\"liblinear\", max_iter=2000).fit(x_train, y_train)\n",
        "  # clf = svm.SVC(kernel=\"linear\", class_weight=\"balanced\").fit(x_train, y_train)\n",
        "  # clf = DecisionTreeClassifier().fit(x_train, y_train)\n",
        "  # clf = RandomForestClassifier().fit(x_train, y_train)\n",
        "  # y_hat= clf.predict_proba(x_test)[:, 1]\n",
        "  y_hat= clf.predict(x_test)\n",
        "  print(\"auc = \", roc_auc_score(y_test, y_hat))\n",
        "  sauc.append(roc_auc_score(y_test, y_hat))\n",
        "  # print(\"roc-auc:\",roc_auc_score(y_test, clf.decision_function(x_test)))\n",
        "  # precision, recall, thresholds = precision_recall_curve(y_test, clf.decision_function(x_test))\n",
        "  precision, recall, thresholds = precision_recall_curve(y_test, y_hat)\n",
        "  print(\"aupr = \", auc(recall, precision))\n",
        "  spr.append(auc(recall, precision))\n",
        "  sacc.append(clf.score(x_test, y_test))\n",
        "  clf.score(x_test, y_test)\n",
        "print(\"____________________\\nMean AUC:\", mean_cal(sauc), \"\\n Mean aupr:\",mean_cal(spr),\"\\n Mean acc: \", mean_cal(sacc))"
      ]
    },
    {
      "cell_type": "code",
      "execution_count": null,
      "metadata": {
        "colab": {
          "base_uri": "https://localhost:8080/",
          "height": 703
        },
        "id": "hfMSq6wwlqTq",
        "outputId": "acd1f1a7-6a57-46c5-a30c-04866177ac8a"
      },
      "outputs": [
        {
          "name": "stdout",
          "output_type": "stream",
          "text": [
            "auc =  0.8758760107816711\n",
            "aupr =  0.866860089863027\n",
            "Score =  0.8009478672985783\n",
            "_____________________\n",
            "auc =  0.8899820305480683\n",
            "aupr =  0.8945004969194819\n",
            "Score =  0.8056872037914692\n",
            "_____________________\n",
            "auc =  0.929750566893424\n",
            "aupr =  0.9219523392368678\n",
            "Score =  0.8904761904761904\n",
            "_____________________\n",
            "auc =  0.8738775510204081\n",
            "aupr =  0.879991865806351\n",
            "Score =  0.7952380952380952\n",
            "_____________________\n",
            "auc =  0.9260317460317461\n",
            "aupr =  0.9108765045670141\n",
            "Score =  0.8666666666666667\n",
            "_____________________\n",
            "Mean Score: 0.8318032046941999\n",
            "Mean AUC: 0.8991035810550635\n",
            "Mean AUPR: 0.8948362592785484\n",
            "________________________\n"
          ]
        },
        {
          "data": {
            "image/png": "[encoded data removed]",
            "text/plain": [
              "<Figure size 432x288 with 1 Axes>"
            ]
          },
          "metadata": {},
          "output_type": "display_data"
        }
      ],
      "source": [
        "\n",
        "skf = StratifiedKFold(n_splits=10)\n",
        "# skf.get_n_splits(X, y)\n",
        "score=[]\n",
        "AUC=[]\n",
        "AUPR=[] \n",
        "X= np.array(X)\n",
        "y=np.array(y)\n",
        "tprs = []\n",
        "aucs = []\n",
        "mean_fpr = np.linspace(0, 1, 100)\n",
        "fig, ax = plt.subplots()\n",
        "for train_index, test_index in skf.split(X, y):\n",
        "    #  print(\"TRAIN:\", train_index, \"TEST:\", test_index)\n",
        "     x_train, x_test = X[train_index], X[test_index]\n",
        "     y_train, y_test = y[train_index], y[test_index]\n",
        "     clf = LogisticRegression(solver=\"liblinear\", class_weight = 'balanced').fit(x_train, y_train)\n",
        "    #  clf = svm.SVC(kernel=\"linear\", class_weight=\"balanced\").fit(x_train, y_train)\n",
        "    #  clf = DecisionTreeClassifier().fit(x_train, y_train)\n",
        "    #  clf = RandomForestClassifier().fit(x_train, y_train)\n",
        "     viz = plot_roc_curve(clf, x_test, y_test,\n",
        "                         name='ROC fold {}'.format(i),\n",
        "                         alpha=0.3, lw=1, ax=ax)\n",
        "     interp_tpr = np.interp(mean_fpr, viz.fpr, viz.tpr)\n",
        "     interp_tpr[0] = 0.0\n",
        "     tprs.append(interp_tpr)\n",
        "     aucs.append(viz.roc_auc)\n",
        "     y_hat= clf.predict_proba(x_test)[:,1]\n",
        "    #  y_hat= clf.predict(x_test)\n",
        "     A = roc_auc_score(y_test, y_hat)\n",
        "    #  A = roc_auc_score(y_test, clf.decision_function(x_test))\n",
        "     AUC.append(A)\n",
        "     print(\"auc = \", A)\n",
        "     precision, recall, thresholds = precision_recall_curve(y_test, y_hat)\n",
        "    #  precision, recall, thresholds = precision_recall_curve(y_test, clf.decision_function(x_test))\n",
        "     PR = auc(recall, precision)\n",
        "     AUPR.append(PR)\n",
        "     print(\"aupr = \", PR)\n",
        "     sc= clf.score(x_test, y_test)\n",
        "     score.append(sc)\n",
        "     print(\"Score = \", sc)\n",
        "     print(\"_____________________\")\n",
        "print(\"Mean Score:\",mean_cal(score))\n",
        "print(\"Mean AUC:\",mean_cal(AUC))\n",
        "print(\"Mean AUPR:\",mean_cal(AUPR))\n",
        "print(\"________________________\")\n",
        "\n",
        "\n",
        "ax.plot([0, 1], [0, 1], linestyle='--', lw=2, color='r',\n",
        "        label='Chance', alpha=.8)\n",
        "\n",
        "mean_tpr = np.mean(tprs, axis=0)\n",
        "mean_tpr[-1] = 1.0\n",
        "mean_auc = auc(mean_fpr, mean_tpr)\n",
        "std_auc = np.std(aucs)\n",
        "ax.plot(mean_fpr, mean_tpr, color='b',\n",
        "        label=r'Mean ROC (AUC = %0.2f $\\pm$ %0.2f)' % (mean_auc, std_auc),\n",
        "        lw=2, alpha=.8)\n",
        "\n",
        "std_tpr = np.std(tprs, axis=0)\n",
        "tprs_upper = np.minimum(mean_tpr + std_tpr, 1)\n",
        "tprs_lower = np.maximum(mean_tpr - std_tpr, 0)\n",
        "ax.fill_between(mean_fpr, tprs_lower, tprs_upper, color='grey', alpha=.2,\n",
        "                label=r'$\\pm$ 1 std. dev.')\n",
        "\n",
        "ax.set(xlim=[-0.05, 1.05], ylim=[-0.05, 1.05],\n",
        "       title=\"Receiver operating characteristic example\")\n",
        "ax.legend(loc=\"lower right\")\n",
        "plt.show()"
      ]
    },
    {
      "cell_type": "code",
      "execution_count": null,
      "metadata": {
        "colab": {
          "base_uri": "https://localhost:8080/"
        },
        "id": "cLe8bNKy4HVM",
        "outputId": "6fae4ffc-f9ce-4e9b-9512-0f9d789bc567"
      },
      "outputs": [
        {
          "name": "stdout",
          "output_type": "stream",
          "text": [
            "auc-roc =  0.9324324324324325\n",
            "auc-pr =  0.9354848803931286\n",
            "0.9359336856096917\n",
            "Acc =  0.8435374149659864\n",
            "              precision    recall  f1-score   support\n",
            "\n",
            "           0       0.85      0.84      0.84        73\n",
            "           1       0.84      0.85      0.85        74\n",
            "\n",
            "    accuracy                           0.84       147\n",
            "   macro avg       0.84      0.84      0.84       147\n",
            "weighted avg       0.84      0.84      0.84       147\n",
            "\n"
          ]
        }
      ],
      "source": [
        "# the main test set\n",
        "X_me = []\n",
        "Y_me = []\n",
        "for a in A_test:\n",
        "  sample = a.split(\" \")\n",
        "  dname =sample[0]\n",
        "  disname = sample[2].split(\".\")\n",
        "  X_me.append(np.concatenate((model1[(dname.rstrip().lower())], model1[(disname[0].lstrip().lower())]), axis=None))\n",
        "  Y_me.append(1)\n",
        "for idx, i in I.iterrows():\n",
        "  if(i.ind_id in my_disease_list and i.drug_id in my_drug_list):\n",
        "    X_me.append(np.concatenate((model1[i.drug_id.lower()], model1[i.ind_id.lower()]), axis=None))\n",
        "    # X_me.append((model1[i.drug_id.lower()]- model1[i.ind_id.lower()]))\n",
        "    Y_me.append(0)\n",
        "\n",
        "# trainng the model on the train set and evaluate on the test set\n",
        "\n",
        "\n",
        "clf = LogisticRegression(solver=\"sag\", class_weight = 'balanced', max_iter=10000, penalty='l2').fit(X, y) \n",
        "# clf = svm.SVC(kernel=\"linear\", class_weight=\"balanced\").fit(X, y)\n",
        "# clf = DecisionTreeClassifier().fit(X, y)\n",
        "# clf = RandomForestClassifier().fit(X, y)\n",
        "\n",
        "y_hat = clf.predict_proba(X_me)[:,1]\n",
        "A = roc_auc_score(Y_me, y_hat)\n",
        "\n",
        "#  A = roc_auc_score(y_test, clf.decision_function(x_test))\n",
        "print(\"auc-roc = \", A)\n",
        "precision, recall, thresholds = precision_recall_curve(Y_me, y_hat)\n",
        "\n",
        "#  precision, recall, thresholds = precision_recall_curve(y_test, clf.decision_function(x_test))\n",
        "PR = auc(recall, precision)\n",
        "\n",
        "print(\"auc-pr = \", PR)\n",
        "print(average_precision_score(Y_me, clf.predict_proba(X_me)[:,1]))\n",
        "sc= clf.score(X_me, Y_me)\n",
        "\n",
        "print(\"Acc = \", sc)\n",
        "print(classification_report(Y_me, clf.predict(X_me)))"
      ]
    },
    {
      "cell_type": "markdown",
      "metadata": {
        "id": "htEeiKjGBxLC"
      },
      "source": [
        "## Upsampling positive data"
      ]
    },
    {
      "cell_type": "code",
      "execution_count": null,
      "metadata": {
        "id": "-L_foREultnS"
      },
      "outputs": [],
      "source": [
        "\n",
        "frames = [has, hasnt]\n",
        "\n",
        "f = pd.concat(frames)\n",
        "X=[]\n",
        "for idx, row in f.iterrows():\n",
        "  X.append(np.concatenate((model1[(row.drug_id).lower()], model1[(row.ind_id).lower()]), axis=None))\n",
        "\n"
      ]
    },
    {
      "cell_type": "code",
      "execution_count": null,
      "metadata": {
        "id": "dmDjEzh8CFOV"
      },
      "outputs": [],
      "source": [
        "y=np.zeros((len(X), ))\n",
        "\n",
        "for i in range(has.shape[0]):\n",
        "  y[i]=1\n"
      ]
    },
    {
      "cell_type": "code",
      "execution_count": null,
      "metadata": {
        "id": "8TA_K9MjFMqG"
      },
      "outputs": [],
      "source": [
        "from imblearn.over_sampling import SMOTE, RandomOverSampler\n",
        "oversample = SMOTE() # over sampling positive by SMOTE\n",
        "# oversample = RandomOverSampler()\n",
        "X, y = oversample.fit_resample(X, y)"
      ]
    },
    {
      "cell_type": "code",
      "execution_count": null,
      "metadata": {
        "colab": {
          "base_uri": "https://localhost:8080/"
        },
        "id": "oj9TbC0J_ZtA",
        "outputId": "0251599f-39c8-4339-df5b-c584174a96b7"
      },
      "outputs": [
        {
          "name": "stdout",
          "output_type": "stream",
          "text": [
            "auc =  0.9279590096633612\n",
            "aupr =  0.9141471434864855\n",
            "auc =  0.9376749153041686\n",
            "aupr =  0.9186746582811575\n",
            "auc =  0.9199455325617114\n",
            "aupr =  0.9036407982878085\n",
            "auc =  0.9213555256291558\n",
            "aupr =  0.9096032360960854\n",
            "auc =  0.9229162721208678\n",
            "aupr =  0.9032302571344832\n",
            "____________________\n",
            "Mean AUC: 0.925970251055853 \n",
            " Mean aupr: 0.9098592186572041 \n",
            " Mean acc:  0.851605504587156\n"
          ]
        }
      ],
      "source": [
        "\n",
        "\n",
        "sauc=[]\n",
        "sacc=[]\n",
        "spr=[]\n",
        "for i in range(5):\n",
        "  \n",
        "  x_train, x_test, y_train, y_test = train_test_split(X, y)\n",
        "  clf = LogisticRegression(solver=\"liblinear\", max_iter=2000).fit(x_train, y_train)\n",
        "  # clf = svm.SVC(kernel=\"linear\", class_weight=\"balanced\").fit(x_train, y_train)\n",
        "  # clf = DecisionTreeClassifier().fit(x_train, y_train)\n",
        "  # clf = RandomForestClassifier().fit(x_train, y_train)\n",
        "  y_hat= clf.predict_proba(x_test)[:, 1]\n",
        "  # y_hat= clf.predict(x_test)\n",
        "  print(\"auc = \", roc_auc_score(y_test, y_hat))\n",
        "  sauc.append(roc_auc_score(y_test, y_hat))\n",
        "  # print(\"roc-auc:\",roc_auc_score(y_test, clf.decision_function(x_test)))\n",
        "  # precision, recall, thresholds = precision_recall_curve(y_test, clf.decision_function(x_test))\n",
        "  precision, recall, thresholds = precision_recall_curve(y_test, y_hat)\n",
        "  print(\"aupr = \", auc(recall, precision))\n",
        "  spr.append(auc(recall, precision))\n",
        "  sacc.append(clf.score(x_test, y_test))\n",
        "  clf.score(x_test, y_test)\n",
        "print(\"____________________\\nMean AUC:\", mean_cal(sauc), \"\\n Mean aupr:\",mean_cal(spr),\"\\n Mean acc: \", mean_cal(sacc))"
      ]
    },
    {
      "cell_type": "code",
      "execution_count": null,
      "metadata": {
        "colab": {
          "base_uri": "https://localhost:8080/",
          "height": 703
        },
        "id": "ZfgUBnNrOHEs",
        "outputId": "b7c0fae5-cbe3-4fdc-cee5-686e8d80d240"
      },
      "outputs": [
        {
          "name": "stdout",
          "output_type": "stream",
          "text": [
            "auc =  0.8535480004269258\n",
            "aupr =  0.8391709603771755\n",
            "Score =  0.7478510028653295\n",
            "_____________________\n",
            "auc =  0.9364208832439799\n",
            "aupr =  0.9328806605582934\n",
            "Score =  0.8624641833810889\n",
            "_____________________\n",
            "auc =  0.9094506613246196\n",
            "aupr =  0.8965433925056219\n",
            "Score =  0.8237822349570201\n",
            "_____________________\n",
            "auc =  0.9511082567598722\n",
            "aupr =  0.9500114993511588\n",
            "Score =  0.8751793400286944\n",
            "_____________________\n",
            "auc =  0.9148305503408753\n",
            "aupr =  0.8807233908703942\n",
            "Score =  0.8493543758967002\n",
            "_____________________\n",
            "Mean Score: 0.8317262274257665\n",
            "Mean AUC: 0.9130716704192545\n",
            "Mean AUPR: 0.8998659807325288\n",
            "________________________\n"
          ]
        },
        {
          "data": {
            "image/png": "[encoded data removed]",
            "text/plain": [
              "<Figure size 432x288 with 1 Axes>"
            ]
          },
          "metadata": {},
          "output_type": "display_data"
        }
      ],
      "source": [
        "skf = StratifiedKFold(n_splits=10)\n",
        "# skf.get_n_splits(X, y)\n",
        "score=[]\n",
        "AUC=[]\n",
        "AUPR=[]\n",
        "X= np.array(X)\n",
        "y=np.array(y)\n",
        "tprs = []\n",
        "aucs = []\n",
        "mean_fpr = np.linspace(0, 1, 100)\n",
        "fig, ax = plt.subplots()\n",
        "for train_index, test_index in skf.split(X, y):\n",
        "    #  print(\"TRAIN:\", train_index, \"TEST:\", test_index)\n",
        "     x_train, x_test = X[train_index], X[test_index]\n",
        "     y_train, y_test = y[train_index], y[test_index]\n",
        "     clf = LogisticRegression(solver=\"liblinear\", class_weight = 'balanced').fit(x_train, y_train)\n",
        "    #  clf = DecisionTreeClassifier().fit(x_train, y_train)\n",
        "    #  clf = svm.SVC(kernel=\"linear\", class_weight=\"balanced\").fit(x_train, y_train)\n",
        "    #  clf = RandomForestClassifier().fit(x_train, y_train)\n",
        "     viz = plot_roc_curve(clf, x_test, y_test,\n",
        "                         name='ROC fold {}'.format(i),\n",
        "                         alpha=0.3, lw=1, ax=ax)\n",
        "     interp_tpr = np.interp(mean_fpr, viz.fpr, viz.tpr)\n",
        "     interp_tpr[0] = 0.0\n",
        "     tprs.append(interp_tpr)\n",
        "     aucs.append(viz.roc_auc)\n",
        "     y_hat= clf.predict_proba(x_test)[:,1]\n",
        "    #  y_hat= clf.predict(x_test)\n",
        "     A = roc_auc_score(y_test, y_hat)\n",
        "    #  A = roc_auc_score(y_test, clf.decision_function(x_test))\n",
        "     AUC.append(A)\n",
        "     print(\"auc = \", A)\n",
        "     precision, recall, thresholds = precision_recall_curve(y_test, y_hat)\n",
        "    #  precision, recall, thresholds = precision_recall_curve(y_test, clf.decision_function(x_test))\n",
        "     PR = auc(recall, precision)\n",
        "     AUPR.append(PR)\n",
        "     print(\"aupr = \", PR)\n",
        "     sc= clf.score(x_test, y_test)\n",
        "     score.append(sc)\n",
        "     print(\"Score = \", sc)\n",
        "     print(\"_____________________\")\n",
        "print(\"Mean Score:\",mean_cal(score))\n",
        "print(\"Mean AUC:\",mean_cal(AUC))\n",
        "print(\"Mean AUPR:\",mean_cal(AUPR))\n",
        "print(\"________________________\")\n",
        "\n",
        "\n",
        "ax.plot([0, 1], [0, 1], linestyle='--', lw=2, color='r',\n",
        "        label='Chance', alpha=.8)\n",
        "\n",
        "mean_tpr = np.mean(tprs, axis=0)\n",
        "mean_tpr[-1] = 1.0\n",
        "mean_auc = auc(mean_fpr, mean_tpr)\n",
        "std_auc = np.std(aucs)\n",
        "ax.plot(mean_fpr, mean_tpr, color='b',\n",
        "        label=r'Mean ROC (AUC = %0.2f $\\pm$ %0.2f)' % (mean_auc, std_auc),\n",
        "        lw=2, alpha=.8)\n",
        "\n",
        "std_tpr = np.std(tprs, axis=0)\n",
        "tprs_upper = np.minimum(mean_tpr + std_tpr, 1)\n",
        "tprs_lower = np.maximum(mean_tpr - std_tpr, 0)\n",
        "ax.fill_between(mean_fpr, tprs_lower, tprs_upper, color='grey', alpha=.2,\n",
        "                label=r'$\\pm$ 1 std. dev.')\n",
        "\n",
        "ax.set(xlim=[-0.05, 1.05], ylim=[-0.05, 1.05],\n",
        "       title=\"Receiver operating characteristic example\")\n",
        "ax.legend(loc=\"lower right\")\n",
        "plt.show()"
      ]
    },
    {
      "cell_type": "code",
      "execution_count": null,
      "metadata": {
        "colab": {
          "base_uri": "https://localhost:8080/"
        },
        "id": "3mjpMparOJET",
        "outputId": "cdc2b425-c0cd-4db0-cf63-f0a93f7fdf84"
      },
      "outputs": [
        {
          "name": "stdout",
          "output_type": "stream",
          "text": [
            "auc-roc =  0.9353942984079971\n",
            "auc-pr =  0.9356810665636106\n",
            "0.9361494874827805\n",
            "Acc =  0.8503401360544217\n",
            "              precision    recall  f1-score   support\n",
            "\n",
            "           0       0.87      0.82      0.85        73\n",
            "           1       0.83      0.88      0.86        74\n",
            "\n",
            "    accuracy                           0.85       147\n",
            "   macro avg       0.85      0.85      0.85       147\n",
            "weighted avg       0.85      0.85      0.85       147\n",
            "\n"
          ]
        }
      ],
      "source": [
        "# the main test set\n",
        "X_me = []\n",
        "Y_me = []\n",
        "for a in A_test:\n",
        "  sample = a.split(\" \")\n",
        "  dname =sample[0]\n",
        "  disname = sample[2].split(\".\")\n",
        "  X_me.append(np.concatenate((model1[(dname.rstrip().lower())], model1[(disname[0].lstrip().lower())]), axis=None))\n",
        "  Y_me.append(1)\n",
        "for idx, i in I.iterrows():\n",
        "  if(i.ind_id in my_disease_list and i.drug_id in my_drug_list):\n",
        "    X_me.append(np.concatenate((model1[i.drug_id.lower()], model1[i.ind_id.lower()]), axis=None))\n",
        "    # X_me.append((model1[i.drug_id.lower()]- model1[i.ind_id.lower()]))\n",
        "    Y_me.append(0)\n",
        "\n",
        "# trainng the model on the train set and evaluate on the test set\n",
        "\n",
        "\n",
        "clf = LogisticRegression(solver=\"sag\", class_weight = 'balanced', max_iter=10000, penalty='l2').fit(X, y) \n",
        "# clf = svm.SVC(kernel=\"linear\", class_weight=\"balanced\").fit(X, y)\n",
        "# clf = DecisionTreeClassifier().fit(X, y)\n",
        "# clf = RandomForestClassifier().fit(X, y)\n",
        "\n",
        "y_hat = clf.predict_proba(X_me)[:,1]\n",
        "A = roc_auc_score(Y_me, y_hat)\n",
        "\n",
        "#  A = roc_auc_score(y_test, clf.decision_function(x_test))\n",
        "print(\"auc-roc = \", A)\n",
        "precision, recall, thresholds = precision_recall_curve(Y_me, y_hat)\n",
        "\n",
        "#  precision, recall, thresholds = precision_recall_curve(y_test, clf.decision_function(x_test))\n",
        "PR = auc(recall, precision)\n",
        "\n",
        "print(\"auc-pr = \", PR)\n",
        "print(average_precision_score(Y_me, clf.predict_proba(X_me)[:,1]))\n",
        "sc= clf.score(X_me, Y_me)\n",
        "\n",
        "print(\"Acc = \", sc)\n",
        "print(classification_report(Y_me, clf.predict(X_me)))"
      ]
    },
    {
      "cell_type": "markdown",
      "metadata": {
        "id": "D1GhuQZ-I5-F"
      },
      "source": [
        "## First oversample, Next Undersample"
      ]
    },
    {
      "cell_type": "code",
      "execution_count": 84,
      "metadata": {
        "id": "n832QIPGOOyP"
      },
      "outputs": [],
      "source": [
        "\n",
        "frames = [has, hasnt]\n",
        "\n",
        "f = pd.concat(frames)\n",
        "X=[]\n",
        "for idx, row in f.iterrows():\n",
        "  X.append(np.concatenate((model1[(row.drug_id).lower()], model1[(row.ind_id).lower()]), axis=None))\n",
        "\n"
      ]
    },
    {
      "cell_type": "code",
      "execution_count": 85,
      "metadata": {
        "id": "ffW9o3lGOSG6"
      },
      "outputs": [],
      "source": [
        "y=np.zeros((len(X), ))\n",
        "\n",
        "for i in range(has.shape[0]):\n",
        "  y[i]=1\n"
      ]
    },
    {
      "cell_type": "code",
      "execution_count": 86,
      "metadata": {
        "colab": {
          "base_uri": "https://localhost:8080/"
        },
        "id": "9tiYsbe1_gJA",
        "outputId": "9c9aa0d6-bd9f-4b56-8d48-81bdc801e221"
      },
      "outputs": [
        {
          "name": "stdout",
          "output_type": "stream",
          "text": [
            "3587\n",
            "3398\n"
          ]
        }
      ],
      "source": [
        "from imblearn.over_sampling import SMOTE, RandomOverSampler\n",
        "from imblearn.under_sampling import RandomUnderSampler\n",
        "over = SMOTE(0.9)\n",
        "# over = RandomOverSampler(0.9)\n",
        "under = RandomUnderSampler()\n",
        "X, y = over.fit_resample(X,y)\n",
        "print(len(X))\n",
        "X,y = under.fit_resample(X,y)\n",
        "print(len(X))"
      ]
    },
    {
      "cell_type": "code",
      "execution_count": 87,
      "metadata": {
        "colab": {
          "base_uri": "https://localhost:8080/"
        },
        "id": "iGpCZXyFOU_b",
        "outputId": "1d664696-9636-46dc-9321-5d9c3cf9ff81"
      },
      "outputs": [
        {
          "name": "stdout",
          "output_type": "stream",
          "text": [
            "auc =  0.931541019955654\n",
            "aupr =  0.9217092175614312\n",
            "auc =  0.9278825647417255\n",
            "aupr =  0.9175124484995066\n",
            "auc =  0.9218196925633568\n",
            "aupr =  0.9034441427593656\n",
            "auc =  0.926346817670558\n",
            "aupr =  0.9230102027015479\n",
            "auc =  0.9172396802196828\n",
            "aupr =  0.9137503442962187\n",
            "____________________\n",
            "Mean AUC: 0.9249659550301954 \n",
            " Mean aupr: 0.915885271163614 \n",
            " Mean acc:  0.8510588235294116\n"
          ]
        }
      ],
      "source": [
        "sauc=[]\n",
        "sacc=[]\n",
        "spr=[]\n",
        "for i in range(5):\n",
        "  x_train, x_test, y_train, y_test = train_test_split(X, y)\n",
        "  clf = LogisticRegression(solver=\"sag\", max_iter=2000).fit(x_train, y_train)\n",
        "  # clf = svm.SVC(kernel=\"linear\", class_weight=\"balanced\").fit(x_train, y_train)\n",
        "  # clf = DecisionTreeClassifier().fit(x_train, y_train)\n",
        "  # clf = RandomForestClassifier().fit(x_train, y_train)\n",
        "  y_hat= clf.predict_proba(x_test)[:, 1]\n",
        "  # y_hat= clf.predict(x_test)\n",
        "  print(\"auc = \", roc_auc_score(y_test, y_hat))\n",
        "  sauc.append(roc_auc_score(y_test, y_hat))\n",
        "  # print(\"roc-auc:\",roc_auc_score(y_test, clf.decision_function(x_test)))\n",
        "  # precision, recall, thresholds = precision_recall_curve(y_test, clf.decision_function(x_test))\n",
        "  precision, recall, thresholds = precision_recall_curve(y_test, y_hat)\n",
        "  print(\"aupr = \", auc(recall, precision))\n",
        "  spr.append(auc(recall, precision))\n",
        "  sacc.append(clf.score(x_test, y_test))\n",
        "  clf.score(x_test, y_test)\n",
        "print(\"____________________\\nMean AUC:\", mean_cal(sauc), \"\\n Mean aupr:\",mean_cal(spr),\"\\n Mean acc: \", mean_cal(sacc))"
      ]
    },
    {
      "cell_type": "code",
      "execution_count": 88,
      "metadata": {
        "colab": {
          "base_uri": "https://localhost:8080/",
          "height": 1000
        },
        "id": "tTffoU4NOXy2",
        "outputId": "e917b999-8793-4243-a734-2a480dcb3132"
      },
      "outputs": [
        {
          "name": "stdout",
          "output_type": "stream",
          "text": [
            "auc =  0.8883910034602076\n",
            "aupr =  0.8619294219806679\n",
            "Score =  0.8147058823529412\n",
            "_____________________\n",
            "auc =  0.9255709342560554\n",
            "aupr =  0.9195100450905687\n",
            "Score =  0.8411764705882353\n",
            "_____________________\n",
            "auc =  0.9405709342560553\n",
            "aupr =  0.9436341686971389\n",
            "Score =  0.8529411764705882\n",
            "_____________________\n",
            "auc =  0.9323529411764706\n",
            "aupr =  0.8984897420951431\n",
            "Score =  0.8911764705882353\n",
            "_____________________\n",
            "auc =  0.9399653979238753\n",
            "aupr =  0.9221935909719287\n",
            "Score =  0.861764705882353\n",
            "_____________________\n",
            "auc =  0.9001384083044983\n",
            "aupr =  0.8914825610059562\n",
            "Score =  0.8235294117647058\n",
            "_____________________\n",
            "auc =  0.9412110726643599\n",
            "aupr =  0.9139544537576471\n",
            "Score =  0.861764705882353\n",
            "_____________________\n",
            "auc =  0.9348788927335641\n",
            "aupr =  0.9227281223238456\n",
            "Score =  0.861764705882353\n",
            "_____________________\n",
            "auc =  0.9273929690219284\n",
            "aupr =  0.8991101932379078\n",
            "Score =  0.8495575221238938\n",
            "_____________________\n",
            "auc =  0.9429168116950922\n",
            "aupr =  0.9443347520590181\n",
            "Score =  0.8820058997050148\n",
            "_____________________\n",
            "Mean Score: 0.8540386951240672\n",
            "Mean AUC: 0.9273389365492107\n",
            "Mean AUPR: 0.9117367051219821\n",
            "________________________\n"
          ]
        },
        {
          "data": {
            "image/png": "[encoded data removed]",
            "text/plain": [
              "<Figure size 432x288 with 1 Axes>"
            ]
          },
          "metadata": {
            "needs_background": "light"
          },
          "output_type": "display_data"
        }
      ],
      "source": [
        "skf = StratifiedKFold(n_splits=10)\n",
        "# skf.get_n_splits(X, y)\n",
        "score=[]\n",
        "AUC=[]\n",
        "AUPR=[]\n",
        "X= np.array(X)\n",
        "y=np.array(y)\n",
        "tprs = []\n",
        "aucs = []\n",
        "mean_fpr = np.linspace(0, 1, 100)\n",
        "fig, ax = plt.subplots()\n",
        "for train_index, test_index in skf.split(X, y):\n",
        "    #  print(\"TRAIN:\", train_index, \"TEST:\", test_index)\n",
        "     x_train, x_test = X[train_index], X[test_index]\n",
        "     y_train, y_test = y[train_index], y[test_index]\n",
        "     clf = LogisticRegression(solver=\"liblinear\", class_weight = 'balanced', max_iter=10000).fit(x_train, y_train)\n",
        "    #  clf = DecisionTreeClassifier().fit(x_train, y_train)\n",
        "    #  clf = svm.SVC(kernel=\"linear\", class_weight=\"balanced\").fit(x_train, y_train)\n",
        "    #  clf = RandomForestClassifier().fit(x_train, y_train)\n",
        "     viz = plot_roc_curve(clf, x_test, y_test,\n",
        "                         name='ROC fold {}'.format(i),\n",
        "                         alpha=0.3, lw=1, ax=ax)\n",
        "     interp_tpr = np.interp(mean_fpr, viz.fpr, viz.tpr)\n",
        "     interp_tpr[0] = 0.0\n",
        "     tprs.append(interp_tpr)\n",
        "     aucs.append(viz.roc_auc)\n",
        "     y_hat= clf.predict_proba(x_test)[:,1]\n",
        "    #  y_hat= clf.predict(x_test)\n",
        "     A = roc_auc_score(y_test, y_hat)\n",
        "    #  A = roc_auc_score(y_test, clf.decision_function(x_test))\n",
        "     AUC.append(A)\n",
        "     print(\"auc = \", A)\n",
        "     precision, recall, thresholds = precision_recall_curve(y_test, y_hat)\n",
        "    #  precision, recall, thresholds = precision_recall_curve(y_test, clf.decision_function(x_test))\n",
        "     PR = auc(recall, precision)\n",
        "     AUPR.append(PR)\n",
        "     print(\"aupr = \", PR)\n",
        "     sc= clf.score(x_test, y_test)\n",
        "     score.append(sc)\n",
        "     print(\"Score = \", sc)\n",
        "     print(\"_____________________\")\n",
        "print(\"Mean Score:\",mean_cal(score))\n",
        "print(\"Mean AUC:\",mean_cal(AUC))\n",
        "print(\"Mean AUPR:\",mean_cal(AUPR))\n",
        "print(\"________________________\")\n",
        "\n",
        "\n",
        "ax.plot([0, 1], [0, 1], linestyle='--', lw=2, color='r',\n",
        "        label='Chance', alpha=.8)\n",
        "\n",
        "mean_tpr = np.mean(tprs, axis=0)\n",
        "mean_tpr[-1] = 1.0\n",
        "mean_auc = auc(mean_fpr, mean_tpr)\n",
        "std_auc = np.std(aucs)\n",
        "ax.plot(mean_fpr, mean_tpr, color='b',\n",
        "        label=r'Mean ROC (AUC = %0.2f $\\pm$ %0.2f)' % (mean_auc, std_auc),\n",
        "        lw=2, alpha=.8)\n",
        "\n",
        "std_tpr = np.std(tprs, axis=0)\n",
        "tprs_upper = np.minimum(mean_tpr + std_tpr, 1)\n",
        "tprs_lower = np.maximum(mean_tpr - std_tpr, 0)\n",
        "ax.fill_between(mean_fpr, tprs_lower, tprs_upper, color='grey', alpha=.2,\n",
        "                label=r'$\\pm$ 1 std. dev.')\n",
        "\n",
        "ax.set(xlim=[-0.05, 1.05], ylim=[-0.05, 1.05],\n",
        "       title=\"Receiver operating characteristic example\")\n",
        "ax.legend(loc=\"lower right\")\n",
        "plt.show()"
      ]
    },
    {
      "cell_type": "code",
      "execution_count": 89,
      "metadata": {
        "colab": {
          "base_uri": "https://localhost:8080/"
        },
        "id": "RCeuHVIM5cHE",
        "outputId": "12d08a7a-012c-4fb2-86f2-6aef33b56f31"
      },
      "outputs": [
        {
          "name": "stdout",
          "output_type": "stream",
          "text": [
            "auc-roc =  0.7933125433125432\n",
            "auc-pr =  0.8524558791619452\n",
            "0.7470555970778987\n",
            "Acc =  0.7960526315789473\n",
            "              precision    recall  f1-score   support\n",
            "\n",
            "           0       0.75      0.90      0.82        78\n",
            "           1       0.86      0.69      0.77        74\n",
            "\n",
            "    accuracy                           0.80       152\n",
            "   macro avg       0.81      0.79      0.79       152\n",
            "weighted avg       0.81      0.80      0.79       152\n",
            "\n"
          ]
        }
      ],
      "source": [
        "# the main test set\n",
        "X_me = []\n",
        "Y_me = []\n",
        "for a in A_test:\n",
        "  sample = a.split(\" \")\n",
        "  dname =sample[0]\n",
        "  disname = sample[2].split(\".\")\n",
        "  X_me.append(np.concatenate((model1[(dname.rstrip().lower())], model1[(disname[0].lstrip().lower())]), axis=None))\n",
        "  Y_me.append(1)\n",
        "for idx, i in I.iterrows():\n",
        "  if(i.ind_id in my_disease_list and i.drug_id in my_drug_list):\n",
        "    X_me.append(np.concatenate((model1[i.drug_id.lower()], model1[i.ind_id.lower()]), axis=None))\n",
        "    # X_me.append((model1[i.drug_id.lower()]- model1[i.ind_id.lower()]))\n",
        "    Y_me.append(0)\n",
        "\n",
        "# trainng the model on the train set and evaluate on the test set\n",
        "\n",
        "\n",
        "# clf = LogisticRegression(solver=\"sag\", class_weight = 'balanced', max_iter=10000, penalty='l2').fit(X, y) \n",
        "# clf = svm.SVC(kernel=\"linear\", class_weight=\"balanced\").fit(X, y)\n",
        "clf = DecisionTreeClassifier().fit(X, y)\n",
        "# clf = RandomForestClassifier().fit(X, y)\n",
        "\n",
        "y_hat = clf.predict_proba(X_me)[:,1]\n",
        "A = roc_auc_score(Y_me, y_hat)\n",
        "\n",
        "#  A = roc_auc_score(y_test, clf.decision_function(x_test))\n",
        "print(\"auc-roc = \", A)\n",
        "precision, recall, thresholds = precision_recall_curve(Y_me, y_hat)\n",
        "\n",
        "#  precision, recall, thresholds = precision_recall_curve(y_test, clf.decision_function(x_test))\n",
        "PR = auc(recall, precision)\n",
        "\n",
        "print(\"auc-pr = \", PR)\n",
        "print(average_precision_score(Y_me, clf.predict_proba(X_me)[:,1]))\n",
        "sc= clf.score(X_me, Y_me)\n",
        "\n",
        "print(\"Acc = \", sc)\n",
        "print(classification_report(Y_me, clf.predict(X_me)))"
      ]
    },
    {
      "cell_type": "markdown",
      "metadata": {
        "id": "EEqC_NBhyygv"
      },
      "source": [
        "#Test the model on \n",
        "rf+ovun+5+150+concat\n"
      ]
    },
    {
      "cell_type": "code",
      "execution_count": null,
      "metadata": {
        "id": "rbO4HZ52EDFB"
      },
      "outputs": [],
      "source": [
        "\n",
        "frames = [has, hasnt]\n",
        "\n",
        "f = pd.concat(frames)\n",
        "X=[]\n",
        "for idx, row in f.iterrows():\n",
        "  X.append(np.concatenate((model1[(row.drug_id).lower()], model1[(row.ind_id).lower()]), axis=None))\n",
        "\n"
      ]
    },
    {
      "cell_type": "code",
      "execution_count": null,
      "metadata": {
        "id": "47vDSGjzEDFC"
      },
      "outputs": [],
      "source": [
        "y=np.zeros((len(X), ))\n",
        "\n",
        "for i in range(has.shape[0]):\n",
        "  y[i]=1\n"
      ]
    },
    {
      "cell_type": "code",
      "execution_count": null,
      "metadata": {
        "colab": {
          "base_uri": "https://localhost:8080/"
        },
        "id": "BETCuayGEDFC",
        "outputId": "6a6d76df-0273-4524-c877-5e93028e01bd"
      },
      "outputs": [
        {
          "name": "stdout",
          "output_type": "stream",
          "text": [
            "3592\n",
            "3402\n"
          ]
        }
      ],
      "source": [
        "from imblearn.over_sampling import SMOTE, RandomOverSampler\n",
        "from imblearn.under_sampling import RandomUnderSampler\n",
        "over = SMOTE(0.9)\n",
        "# over = RandomOverSampler(0.9)\n",
        "under = RandomUnderSampler()\n",
        "X, y = over.fit_resample(X,y)\n",
        "print(len(X))\n",
        "X,y = under.fit_resample(X,y)\n",
        "print(len(X))"
      ]
    },
    {
      "cell_type": "code",
      "execution_count": null,
      "metadata": {
        "id": "S7H8tVRkKCU7"
      },
      "outputs": [],
      "source": [
        "X_me = []\n",
        "Y_me = []\n",
        "for a in A_test:\n",
        "  sample = a.split(\" \")\n",
        "  dname =sample[0]\n",
        "  disname = sample[2].split(\".\")\n",
        "  X_me.append(np.concatenate((model1[(dname.rstrip().lower())], model1[(disname[0].lstrip().lower())]), axis=None))\n",
        "  # X_me.append((model1[(dname.rstrip().lower())]- model1[(disname[0].lstrip().lower())]))\n",
        "  Y_me.append(1)\n",
        "for idx, i in I.iterrows():\n",
        "  X_me.append(np.concatenate((model1[i.drug_id.lower()], model1[i.ind_id.lower()]), axis=None))\n",
        "  # X_me.append((model1[i.drug_id.lower()]- model1[i.ind_id.lower()]))\n",
        "  Y_me.append(0)"
      ]
    },
    {
      "cell_type": "code",
      "execution_count": null,
      "metadata": {
        "colab": {
          "base_uri": "https://localhost:8080/"
        },
        "id": "Isru2QiuwOb4",
        "outputId": "fc2c56c3-ed1b-4843-ea1b-cd2593481811"
      },
      "outputs": [
        {
          "name": "stdout",
          "output_type": "stream",
          "text": [
            "auc =  0.8782051282051282\n",
            "aupr =  0.8343833283168789\n",
            "0.8415509167417345\n",
            "Score =  0.7948717948717948\n",
            "              precision    recall  f1-score   support\n",
            "\n",
            "           0       0.77      0.85      0.80        78\n",
            "           1       0.83      0.74      0.78        78\n",
            "\n",
            "    accuracy                           0.79       156\n",
            "   macro avg       0.80      0.79      0.79       156\n",
            "weighted avg       0.80      0.79      0.79       156\n",
            "\n"
          ]
        }
      ],
      "source": [
        "clf = LogisticRegression(solver=\"sag\", class_weight = 'balanced', max_iter=10000, penalty='l2').fit(X, y) # penalti should be changed\n",
        "# clf = svm.SVC(kernel=\"linear\", class_weight=\"balanced\").fit(X, y)\n",
        "# clf = DecisionTreeClassifier().fit(X, y)\n",
        "# clf = RandomForestClassifier().fit(X, y)\n",
        "\n",
        "y_hat = clf.predict_proba(X_me)[:,1]\n",
        "A = roc_auc_score(Y_me, y_hat)\n",
        "\n",
        "#  A = roc_auc_score(y_test, clf.decision_function(x_test))\n",
        "print(\"auc = \", A)\n",
        "precision, recall, thresholds = precision_recall_curve(Y_me, y_hat)\n",
        "\n",
        "#  precision, recall, thresholds = precision_recall_curve(y_test, clf.decision_function(x_test))\n",
        "PR = auc(recall, precision)\n",
        "\n",
        "print(\"aupr = \", PR)\n",
        "print(average_precision_score(Y_me, clf.predict_proba(X_me)[:,1]))\n",
        "sc= clf.score(X_me, Y_me)\n",
        "\n",
        "print(\"Score = \", sc)\n",
        "print(classification_report(Y_me, clf.predict(X_me)))"
      ]
    },
    {
      "cell_type": "code",
      "execution_count": null,
      "metadata": {
        "colab": {
          "base_uri": "https://localhost:8080/",
          "height": 1000
        },
        "id": "Tn-bqlCAFaqy",
        "outputId": "98f59b12-0def-4faf-dfc4-9d9e417e1f8b"
      },
      "outputs": [
        {
          "name": "stdout",
          "output_type": "stream",
          "text": [
            "auc =  0.8790269559500329\n",
            "aupr =  0.8366357006988545\n",
            "Score =  0.7884615384615384\n",
            "_____________________\n",
            "auc =  0.8782051282051282\n",
            "aupr =  0.8361861068845176\n",
            "Score =  0.782051282051282\n",
            "_____________________\n",
            "auc =  0.8800131492439185\n",
            "aupr =  0.8368043618774486\n",
            "Score =  0.7948717948717948\n",
            "_____________________\n",
            "auc =  0.8754109138724523\n",
            "aupr =  0.8342868654068767\n",
            "Score =  0.8012820512820513\n",
            "_____________________\n",
            "auc =  0.8791913214990138\n",
            "aupr =  0.8349816682940633\n",
            "Score =  0.7884615384615384\n",
            "_____________________\n",
            "auc =  0.8775476660092045\n",
            "aupr =  0.8338139409397762\n",
            "Score =  0.8012820512820513\n",
            "_____________________\n",
            "auc =  0.8780407626561473\n",
            "aupr =  0.8347037378335262\n",
            "Score =  0.7884615384615384\n",
            "_____________________\n",
            "auc =  0.8767258382642997\n",
            "aupr =  0.8338727169823523\n",
            "Score =  0.7884615384615384\n",
            "_____________________\n",
            "auc =  0.8767258382642998\n",
            "aupr =  0.8349353096805588\n",
            "Score =  0.7948717948717948\n",
            "_____________________\n",
            "auc =  0.8777120315581854\n",
            "aupr =  0.8349957473632158\n",
            "Score =  0.7756410256410257\n",
            "_____________________\n",
            "Mean Score: 0.7903846153846154\n",
            "Mean AUC: 0.8778599605522684\n",
            "Mean AUPR: 0.835121615596119\n",
            "________________________\n"
          ]
        },
        {
          "data": {
            "image/png": "[encoded data removed]",
            "text/plain": [
              "<Figure size 432x288 with 1 Axes>"
            ]
          },
          "metadata": {},
          "output_type": "display_data"
        }
      ],
      "source": [
        "skf = StratifiedKFold(n_splits=10)\n",
        "# skf.get_n_splits(X, y)\n",
        "score=[]\n",
        "AUC=[]\n",
        "AUPR=[]\n",
        "X= np.array(X)\n",
        "y=np.array(y)\n",
        "tprs = []\n",
        "aucs = []\n",
        "final_result = []\n",
        "mean_fpr = np.linspace(0, 1, 100)\n",
        "fig, ax = plt.subplots()\n",
        "for train_index, test_index in skf.split(X, y):\n",
        "    #  print(\"TRAIN:\", train_index, \"TEST:\", test_index)\n",
        "     x_train, x_test = X[train_index], X[test_index]\n",
        "     y_train, y_test = y[train_index], y[test_index]\n",
        "     clf = LogisticRegression(solver=\"sag\", class_weight = 'balanced', max_iter=10000).fit(x_train, y_train)\n",
        "    #  clf = DecisionTreeClassifier().fit(x_train, y_train)\n",
        "    #  clf = svm.SVC(kernel=\"linear\", class_weight=\"balanced\").fit(x_train, y_train)\n",
        "    #  clf = RandomForestClassifier().fit(x_train, y_train)\n",
        "     viz = plot_roc_curve(clf, X_me, Y_me,\n",
        "                         name='ROC fold {}'.format(i),\n",
        "                         alpha=0.3, lw=1, ax=ax)\n",
        "     interp_tpr = np.interp(mean_fpr, viz.fpr, viz.tpr)\n",
        "     interp_tpr[0] = 0.0\n",
        "     tprs.append(interp_tpr)\n",
        "     aucs.append(viz.roc_auc)\n",
        "     y_hat= clf.predict_proba(X_me)[:,1]\n",
        "    #  y_hat= clf.predict(X_me)\n",
        "     final_result.append(y_hat)\n",
        "     \n",
        "     A = roc_auc_score(Y_me, y_hat)\n",
        "    #  A = roc_auc_score(y_test, clf.decision_function(x_test))\n",
        "     AUC.append(A)\n",
        "     print(\"auc = \", A)\n",
        "     precision, recall, thresholds = precision_recall_curve(Y_me, y_hat)\n",
        "    #  precision, recall, thresholds = precision_recall_curve(y_test, clf.decision_function(x_test))\n",
        "     PR = auc(recall, precision)\n",
        "     AUPR.append(PR)\n",
        "     print(\"aupr = \", PR)\n",
        "     sc= clf.score(X_me, Y_me)\n",
        "     score.append(sc)\n",
        "     print(\"Score = \", sc)\n",
        "     print(\"_____________________\")\n",
        "print(\"Mean Score:\",mean_cal(score))\n",
        "print(\"Mean AUC:\",mean_cal(AUC))\n",
        "print(\"Mean AUPR:\",mean_cal(AUPR))\n",
        "print(\"________________________\")\n",
        "\n",
        "\n",
        "ax.plot([0, 1], [0, 1], linestyle='--', lw=2, color='r',\n",
        "        label='Chance', alpha=.8)\n",
        "\n",
        "mean_tpr = np.mean(tprs, axis=0)\n",
        "mean_tpr[-1] = 1.0\n",
        "mean_auc = auc(mean_fpr, mean_tpr)\n",
        "std_auc = np.std(aucs)\n",
        "ax.plot(mean_fpr, mean_tpr, color='b',\n",
        "        label=r'Mean ROC (AUC = %0.2f $\\pm$ %0.2f)'  % (mean_auc, std_auc),\n",
        "        lw=2, alpha=.8)\n",
        "\n",
        "std_tpr = np.std(tprs, axis=0)\n",
        "tprs_upper = np.minimum(mean_tpr + std_tpr, 1)\n",
        "tprs_lower = np.maximum(mean_tpr - std_tpr, 0)\n",
        "ax.fill_between(mean_fpr, tprs_lower, tprs_upper, color='grey', alpha=.2,\n",
        "                label=r'$\\pm$ 1 std. dev.')\n",
        "\n",
        "ax.set(xlim=[-0.05, 1.05], ylim=[-0.05, 1.05],\n",
        "       title=\"Receiver operating characteristic example\")\n",
        "ax.legend(loc=\"lower right\")\n",
        "plt.show()"
      ]
    },
    {
      "cell_type": "markdown",
      "metadata": {
        "id": "l6age1x3ZFpk"
      },
      "source": [
        "# Evaluation on Skin related disease"
      ]
    },
    {
      "cell_type": "markdown",
      "metadata": {
        "id": "TAaTaio1Zhgb"
      },
      "source": [
        "We consider atopic eczema and contact dermatities as test case to show how much it can generalized\n",
        "\n",
        "For this purpose, we should design our DDKG again without considering negative or positive associations"
      ]
    },
    {
      "cell_type": "code",
      "execution_count": null,
      "metadata": {
        "id": "OcxulzRLaTKy"
      },
      "outputs": [],
      "source": [
        "skin_disease=['C0011615']\n",
        "# skin_disease=['C0011616']"
      ]
    },
    {
      "cell_type": "code",
      "execution_count": null,
      "metadata": {
        "id": "NE1GWi7TZwuk"
      },
      "outputs": [],
      "source": [
        "ass = pd.read_csv(\"my_repodb.txt\") \n",
        "ass.set_index(\"Unnamed: 0\", inplace=True)\n",
        "disgenet = pd.read_csv(\"Gen-Dis-association-Disgenet-2022.csv\")\n",
        "\n",
        "# making the drug and disease lists\n",
        "my_disease_list = list(set(ass.ind_id))\n",
        "my_drug_list = list(set(ass.drug_id))\n",
        "drugs=list(set(ass.drug_id))\n",
        "disgenet = disgenet.loc[disgenet['diseaseId'].isin(my_disease_list)]\n",
        "my_disease_list = list(set(disgenet.diseaseId))\n",
        "ass = ass.loc[ass['ind_id'].isin(my_disease_list)]\n",
        "my_drug_list = list(set(ass.drug_id))\n",
        "\n",
        "A=[]\n",
        "for ix, row in ass.iterrows():\n",
        "  text = str(row.drug_id)+\" has_indicated \"+str(row.ind_id)+\". \"\n",
        "  A.append(text)\n",
        "\n",
        "associations = A.copy()\n",
        "\n",
        "# making the drug and disease lists\n"
      ]
    },
    {
      "cell_type": "code",
      "execution_count": null,
      "metadata": {
        "id": "0atxPcCKZwuo"
      },
      "outputs": [],
      "source": [
        "\n",
        "# making the relation of diseases: has_geneid, has_class, has_semantic, has_type\n",
        "\n",
        "C=[]\n",
        "num1=0\n",
        "num2=0\n",
        "num3=0\n",
        "num4=0\n",
        "for idx, row in disgenet.iterrows():\n",
        "  # if row.diseaseId in my_disease_list:\n",
        "      semtype = \"_\".join(row.diseaseSemanticType.split())\n",
        "      clas = row.diseaseClass.split(\";\")\n",
        "      text1 =str(row.diseaseId)+\" has_geneid \"+str(row.geneSymbol)+\". \"\n",
        "      num1+=1\n",
        "      text2 =str(row.diseaseId)+\" has_type \"+str(row.diseaseType)+\". \"\n",
        "      num2+=1\n",
        "      text3 =str(row.diseaseId)+\" has_semantic \"+str(semtype)+\". \"\n",
        "      num3+=1\n",
        "      C.append(text1)\n",
        "      C.append(text2)\n",
        "      C.append(text3)\n",
        "      num4+=len(clas)\n",
        "      for cl in clas:\n",
        "        text =str(row.diseaseId)+\" has_class \"+str(cl)+\". \"\n",
        "        C.append(text)\n",
        "\n",
        "Disease=\"\"\n",
        "for c in C:\n",
        "  Disease= Disease+c\n"
      ]
    },
    {
      "cell_type": "markdown",
      "metadata": {
        "id": "EcVOyJciZwup"
      },
      "source": [
        "making the drug relations: has_sideeffect, has_target, has_domain, has_atccode, has_chemicalstructure"
      ]
    },
    {
      "cell_type": "code",
      "execution_count": null,
      "metadata": {
        "id": "mSCquXVHZwup"
      },
      "outputs": [],
      "source": [
        "# has_target relation. data is collected using DrugBank\n",
        "T=[]\n",
        "target= pd.read_csv(\"my_target.txt\")\n",
        "target.set_index(\"Unnamed: 0\", inplace=True)\n",
        "for idx, row in target.iterrows():\n",
        "  for c in target.columns:\n",
        "    if row[c] ==1 :\n",
        "      text =str(idx)+\" has_target \"+str(c)+\". \"\n",
        "      T.append(text)\n",
        "target=\"\"\n",
        "for c in T:\n",
        "  target= target+c"
      ]
    },
    {
      "cell_type": "code",
      "execution_count": null,
      "metadata": {
        "id": "35vp3xXkZwup"
      },
      "outputs": [],
      "source": [
        "# has_domain relation. data is collected using UniProt\n",
        "D=[]\n",
        "dom= pd.read_csv(\"my_domain.txt\")\n",
        "dom.set_index(\"Unnamed: 0\", inplace=True)\n",
        "for idx, row in dom.iterrows():\n",
        "  for c in dom.columns:\n",
        "    if row[c] ==1 :\n",
        "      text =str(idx)+\" has_domain \"+str(c)+\". \"\n",
        "      D.append(text)\n",
        "\n",
        "domain=\"\"\n",
        "for c in D:\n",
        "  domain= domain+c"
      ]
    },
    {
      "cell_type": "code",
      "execution_count": null,
      "metadata": {
        "id": "RlMeSKtDZwuq"
      },
      "outputs": [],
      "source": [
        "# has_chemical relation. data is collected using Pubchem\n",
        "C=[]\n",
        "finger= pd.read_csv(\"my_finger.txt\")\n",
        "finger.set_index(\"Unnamed: 0\", inplace=True)\n",
        "for idx, row in finger.iterrows():\n",
        "  for c in finger.columns:\n",
        "    if row[c] ==1 :\n",
        "      text =str(idx)+\" has_chemical S\"+str(c)+\". \"\n",
        "      C.append(text)\n",
        "chemical=\"\"\n",
        "for c in C:\n",
        "  chemical= chemical+c"
      ]
    },
    {
      "cell_type": "code",
      "execution_count": null,
      "metadata": {
        "id": "1tlbGb9qZwuq"
      },
      "outputs": [],
      "source": [
        "# has_atc_code relation. data is collected using Sider4.1\n",
        "\n",
        "ATC=[]\n",
        "atc= pd.read_csv(\"my_ATC.txt\")\n",
        "atc.set_index(\"Unnamed: 0\", inplace=True)\n",
        "for idx, row in atc.iterrows():\n",
        "  for c in atc.columns:\n",
        "    if row[c] == 1 and (len(c)==4 or len(c)==1 or len(c)==3 or len(c)==5): # we consider first 4 level of ATC code\n",
        "      text =str(idx)+\" has_atc_code \"+str(c)+\". \"\n",
        "      ATC.append(text)\n",
        "atccode=\"\"\n",
        "for c in ATC:\n",
        "  atccode= atccode+c"
      ]
    },
    {
      "cell_type": "code",
      "execution_count": null,
      "metadata": {
        "id": "_wu_MRZ2Zwur"
      },
      "outputs": [],
      "source": [
        "# has_sideeffect relation. Date is collected using Sider4.1\n",
        "S=[]\n",
        "side= pd.read_csv(\"my_sideeffect.txt\")\n",
        "side.set_index(\"Unnamed: 0\", inplace=True)\n",
        "for idx, row in side.iterrows():\n",
        "  for c in side.columns:\n",
        "    if row[c] ==1 :\n",
        "      text =str(idx)+\" has_sideeffect \"+str(c)+\". \"\n",
        "      S.append(text)"
      ]
    },
    {
      "cell_type": "markdown",
      "metadata": {
        "id": "WvKjvL_SZwus"
      },
      "source": [
        "Extracting drug-disease associations\n",
        "\n",
        "Positive data: Known drug-disease associations\n",
        "\n",
        "Negative data: a subset of unknown drug-disease associations that disease is an adverse drug reaction and common with our side effects"
      ]
    },
    {
      "cell_type": "code",
      "execution_count": null,
      "metadata": {
        "id": "4pGcD1AsZwus"
      },
      "outputs": [],
      "source": [
        "has = pd.read_csv(\"my_repodb.txt\") # Positive data: Known Drug-Disease associations\n",
        "has.set_index(\"Unnamed: 0\", inplace=True)\n",
        "has = has.drop(['drug_name', 'ind_name','NCT','status', 'phase',\n",
        "       'DetailedStatus'], axis=1)\n",
        "has = has.loc[has['ind_id'].isin(my_disease_list)]\n",
        "\n",
        "\n",
        "hasnt = pd.read_csv(\"my_only_negatives.txt\") # Negative data: Unknown Drug-Disease associations when disease is adverse drug reaction\n",
        "hasnt.set_index(\"Unnamed: 0\", inplace=True)\n",
        "hasnt = hasnt.rename(columns={\"Not_indicated_for\":\"ind_id\", \"Drug_id\": \"drug_id\"})\n",
        "hasnt = hasnt.loc[hasnt['ind_id'].isin(my_disease_list)]"
      ]
    },
    {
      "cell_type": "code",
      "execution_count": null,
      "metadata": {
        "id": "IqPDZ28LbFN4"
      },
      "outputs": [],
      "source": [
        "A_test=[]\n",
        "for d in my_drug_list:\n",
        "  text = str(d)+\" has_indicated C0011615. \" \n",
        "  if text in associations:\n",
        "    A.remove(text)\n",
        "    A_test.append(text)\n",
        "ass=\"\" # making the new associations for training the models\n",
        "for c in A:\n",
        "  ass= ass+c"
      ]
    },
    {
      "cell_type": "code",
      "execution_count": null,
      "metadata": {
        "colab": {
          "base_uri": "https://localhost:8080/"
        },
        "id": "vSeYZ5SWZwus",
        "outputId": "7dde5329-0159-4f25-b0e8-591854a34594"
      },
      "outputs": [
        {
          "name": "stdout",
          "output_type": "stream",
          "text": [
            "The number of all known drug disease associations in our dataset:  (748, 2)\n",
            "The number of  known drug disease associations without positive test set: (733, 2)\n"
          ]
        }
      ],
      "source": [
        "\n",
        "print(\"The number of all known drug disease associations in our dataset: \",(has.shape))\n",
        "\n",
        "I=[]\n",
        "for idx, row in has.iterrows():\n",
        "  text=str(row.drug_id)+\" has_indicated \"+str(row.ind_id)+\". \"\n",
        "  if text in A_test: # Extracting test associations from positive data\n",
        "    I.append(idx)\n",
        "has = has.drop(index=I, axis=0)\n",
        "print(\"The number of  known drug disease associations without positive test set:\",has.shape)"
      ]
    },
    {
      "cell_type": "code",
      "execution_count": null,
      "metadata": {
        "id": "MWzS2KZwZwut"
      },
      "outputs": [],
      "source": [
        "\n",
        "I=[]\n",
        "u=0\n",
        "\n",
        "hasnt_test_idx=[]\n",
        "for idx, row in hasnt.iterrows():\n",
        " if row.ind_id == \"C0011615\":\n",
        "  #  print(row)\n",
        "   text = str(row.drug_id)+\" has_sideeffect C0011615. \"\n",
        "   if(text in S):\n",
        "     hasnt_test_idx.append(idx)\n",
        "     I.append(row)\n",
        "     S.remove(text)\n",
        "     u+=1\n",
        "\n",
        "hasnt = hasnt.drop(index=hasnt_test_idx, axis=0)\n",
        "hasnt.shape\n",
        "\n",
        "I=pd.DataFrame(I)\n",
        "\n",
        "side=\"\"\n",
        "for c in S:\n",
        "  side= side+c"
      ]
    },
    {
      "cell_type": "markdown",
      "metadata": {
        "id": "mRu0nRd5Zwut"
      },
      "source": [
        "##Word2Vec implementation\n"
      ]
    },
    {
      "cell_type": "markdown",
      "metadata": {
        "id": "-I8_qgMQZwut"
      },
      "source": [
        "first, we make the file of our DDKG\n"
      ]
    },
    {
      "cell_type": "code",
      "execution_count": null,
      "metadata": {
        "id": "pV-w8qPdZwut"
      },
      "outputs": [],
      "source": [
        "data=[]\n",
        "sets=[chemical, target, side, domain, atccode, ass, Disease]\n",
        "\n",
        "for s in sets:\n",
        "  for i in sent_tokenize(s):\n",
        "      temp = []\n",
        "      # tokenize the sentence into words\n",
        "      for j in word_tokenize(i):\n",
        "          temp.append(j.lower())\n",
        "      data.append(temp)"
      ]
    },
    {
      "cell_type": "code",
      "execution_count": null,
      "metadata": {
        "id": "N7GMlB5zZwuu"
      },
      "outputs": [],
      "source": [
        "model1 = gensim.models.Word2Vec(min_count = 1, alpha=0.001, size = 700, window = 2, iter=2000, sg=0)\n",
        "model1.build_vocab(data, progress_per=10000)\n",
        "model1.train(data, total_examples=model1.corpus_count, epochs=500, report_delay=1)\n",
        "model1.init_sims(replace=True)"
      ]
    },
    {
      "cell_type": "code",
      "execution_count": null,
      "metadata": {
        "id": "yZ4YiUvSZwuu"
      },
      "outputs": [],
      "source": [
        "def mean_cal(K):\n",
        "  sum=0\n",
        "  for k in K:\n",
        "    sum= sum+k\n",
        "  return(sum/len(K))"
      ]
    },
    {
      "cell_type": "markdown",
      "metadata": {
        "id": "Dwxf6Lyydr8G"
      },
      "source": [
        "## training a logistic regression"
      ]
    },
    {
      "cell_type": "code",
      "execution_count": null,
      "metadata": {
        "id": "YSPkCJpAeAHj"
      },
      "outputs": [],
      "source": [
        "frames = [has, hasnt]\n",
        "\n",
        "f = pd.concat(frames)\n",
        "X=[]\n",
        "for idx, row in f.iterrows():\n",
        "  X.append(np.concatenate((model1[(row.drug_id).lower()], model1[(row.ind_id).lower()]), axis=None))\n",
        "y=np.zeros((len(X), ))\n",
        "\n",
        "for i in range(has.shape[0]):\n",
        "  y[i]=1\n"
      ]
    },
    {
      "cell_type": "code",
      "execution_count": null,
      "metadata": {
        "colab": {
          "base_uri": "https://localhost:8080/"
        },
        "id": "IxXEbRGVeAHm",
        "outputId": "6d443412-1a99-4c62-e0d5-9b4e882e45f7"
      },
      "outputs": [
        {
          "name": "stdout",
          "output_type": "stream",
          "text": [
            "3659\n",
            "3466\n"
          ]
        }
      ],
      "source": [
        "over = SMOTE(0.9)\n",
        "# over = RandomOverSampler(0.9)\n",
        "under = RandomUnderSampler()\n",
        "X, y = over.fit_resample(X,y)\n",
        "print(len(X))\n",
        "X,y = under.fit_resample(X,y)\n",
        "print(len(X))"
      ]
    },
    {
      "cell_type": "code",
      "execution_count": null,
      "metadata": {
        "id": "TBWPVCy9eAHn"
      },
      "outputs": [],
      "source": [
        "X_me = []\n",
        "Y_me = []\n",
        "\n",
        "for a in A_test:\n",
        "  sample = a.split(\" \")\n",
        "  dname =sample[0]\n",
        "  disname = sample[2].split(\".\")\n",
        "  X_me.append(np.concatenate((model1[(dname.rstrip().lower())], model1[(disname[0].lstrip().lower())]), axis=None))\n",
        "  # X_me.append((model1[(dname.rstrip().lower())]- model1[(disname[0].lstrip().lower())]))\n",
        "  Y_me.append(1)\n",
        "for idx, i in I.iterrows():\n",
        "  X_me.append(np.concatenate((model1[i.drug_id.lower()], model1[i.ind_id.lower()]), axis=None))\n",
        "  # X_me.append((model1[i.drug_id.lower()]- model1[i.ind_id.lower()]))\n",
        "  Y_me.append(0)"
      ]
    },
    {
      "cell_type": "code",
      "execution_count": null,
      "metadata": {
        "colab": {
          "base_uri": "https://localhost:8080/"
        },
        "id": "IUri3suxeAHn",
        "outputId": "3a19ab8b-45b8-4a90-91fb-1fe2328100f9"
      },
      "outputs": [
        {
          "name": "stdout",
          "output_type": "stream",
          "text": [
            "auc =  0.9583333333333334\n",
            "aupr =  0.8891733683101969\n"
          ]
        }
      ],
      "source": [
        "clf = LogisticRegression(solver=\"sag\", class_weight = 'balanced', max_iter=10000, penalty='l2').fit(X, y) # penalti should be changed\n",
        "# clf = svm.SVC(kernel=\"linear\", class_weight=\"balanced\").fit(X, y)\n",
        "# clf = DecisionTreeClassifier().fit(X, y)\n",
        "# clf = RandomForestClassifier().fit(X, y)\n",
        "\n",
        "y_hat = clf.predict_proba(X_me)[:,1]\n",
        "A = roc_auc_score(Y_me, y_hat)\n",
        "\n",
        "#  A = roc_auc_score(y_test, clf.decision_function(x_test))\n",
        "print(\"auc = \", A)\n",
        "precision, recall, thresholds = precision_recall_curve(Y_me, y_hat)\n",
        "\n",
        "#  precision, recall, thresholds = precision_recall_curve(y_test, clf.decision_function(x_test))\n",
        "PR = auc(recall, precision)\n",
        "\n",
        "print(\"aupr = \", PR)\n"
      ]
    },
    {
      "cell_type": "markdown",
      "metadata": {
        "id": "uH_UQRWjHOm-"
      },
      "source": [
        "Now, we calculate the association score between our disease and all drugs to find the first 10 reltaed drugs to them"
      ]
    },
    {
      "cell_type": "code",
      "execution_count": null,
      "metadata": {
        "id": "Np3OT4zwptoH"
      },
      "outputs": [],
      "source": [
        "skin_disease=['C0011615']\n",
        "\n",
        "SCOR_PD=pd.DataFrame(columns={\"Dis_id\", \"Drug_id\", \"Score\"}) # To save association score\n",
        "for dis in skin_disease:\n",
        "  for drug in my_drug_list:\n",
        "    x=np.concatenate((model1[(drug).lower()], model1[(dis).lower()]), axis=None)\n",
        "    # x= x.reshape(-1, 1)\n",
        "    s = clf.predict_proba([x])[:,1]\n",
        "    # s = clf.predict([x])\n",
        "    df2 = {\"Dis_id\":dis, \"Drug_id\":drug, \"Score\":s}\n",
        "    SCOR_PD = SCOR_PD.append(df2, ignore_index = True)\n"
      ]
    },
    {
      "cell_type": "code",
      "execution_count": null,
      "metadata": {
        "colab": {
          "base_uri": "https://localhost:8080/"
        },
        "id": "-F-8rSUC7KJ2",
        "outputId": "b8ab6d46-fc03-479b-9cc9-8f92a342f98e"
      },
      "outputs": [
        {
          "name": "stdout",
          "output_type": "stream",
          "text": [
            "All: 15 Sum: 5\n"
          ]
        }
      ],
      "source": [
        "top10_drugs=[]  \n",
        "for dis in skin_disease:\n",
        "  dis_pd = SCOR_PD[SCOR_PD.Dis_id == dis]\n",
        "  m = dis_pd.Score.max()\n",
        "  dis_pd = dis_pd.sort_values(by='Score', ascending=False) # First we sort the scores\n",
        "  dis_pd = dis_pd.head(10) # Extract the top 10\n",
        "  sum=0 \n",
        "  \n",
        "  for idx, row in dis_pd.iterrows():\n",
        "    text = str(row.Drug_id)+' has_indicated '+str(dis)+'. '   # Check is there any association between them in our dataset or not\n",
        "    if text in associations:\n",
        "      sum+=1 # if there is, we count it\n",
        "    all=0\n",
        "    for d in my_drug_list:  # Here we find the number of all related drugs to the disease\n",
        "      text = str(d)+' has_indicated '+str(dis)+'. '\n",
        "      if text in associations:\n",
        "        all+=1\n",
        "        # print(text)\n",
        "  if(all!=0):\n",
        "    print(\"All:\", all, \"Sum:\", sum)\n",
        "    if(all>10):\n",
        "      top10_drugs.append(sum/10)  \n",
        "    else:\n",
        "      top10_drugs.append(sum/all)\n",
        "  else:\n",
        "    top10_drugs.append(0)"
      ]
    },
    {
      "cell_type": "markdown",
      "metadata": {
        "id": "NvI90Bl8v8UC"
      },
      "source": [
        "###find unknown associations\n"
      ]
    },
    {
      "cell_type": "code",
      "execution_count": null,
      "metadata": {
        "colab": {
          "base_uri": "https://localhost:8080/"
        },
        "id": "lMknmuOpqTNH",
        "outputId": "d4dbe52f-cf74-4ddb-9d8e-5b16d1383fcb"
      },
      "outputs": [
        {
          "name": "stdout",
          "output_type": "stream",
          "text": [
            "DB00259 has_indicated C0011615. \n",
            "DB00324 has_indicated C0011615. \n",
            "DB00634 has_indicated C0011615. \n",
            "DB00838 has_indicated C0011615. \n",
            "DB00394 has_indicated C0011615. \n"
          ]
        }
      ],
      "source": [
        "for id in skin_disease:\n",
        "  dis_pd = SCOR_PD[SCOR_PD.Dis_id==id]\n",
        "  dis_pd = dis_pd.sort_values(by='Score', ascending=False)\n",
        "  dis_pd = dis_pd.head(10)\n",
        "  for idx, row in dis_pd.iterrows():\n",
        "    text = str(row.Drug_id)+' has_indicated '+str(row.Dis_id)+'. '\n",
        "    if not(text in associations):\n",
        "      print(text)\n"
      ]
    },
    {
      "cell_type": "markdown",
      "metadata": {
        "id": "sCs2OJFUpPsP"
      },
      "source": [
        "# Covid Drugs"
      ]
    },
    {
      "cell_type": "code",
      "execution_count": null,
      "metadata": {
        "id": "hgS3UGCwpOcD"
      },
      "outputs": [],
      "source": [
        "ass = pd.read_csv(\"my_repodb.txt\") \n",
        "ass.set_index(\"Unnamed: 0\", inplace=True)\n",
        "disgenet = pd.read_csv(\"Gen-Dis-association-Disgenet-2022 - CORONA VIRUS INFECTION.csv\")\n",
        "\n",
        "# making the drug and disease lists\n",
        "my_disease_list = list(set(ass.ind_id))\n",
        "my_disease_list.append(\"C0206750\")\n",
        "my_drug_list = list(set(ass.drug_id))\n",
        "drugs=list(set(ass.drug_id))\n",
        "disgenet = disgenet.loc[disgenet['diseaseId'].isin(my_disease_list)]\n",
        "my_disease_list = list(set(disgenet.diseaseId))\n",
        "ass = ass.loc[ass['ind_id'].isin(my_disease_list)]\n",
        "my_drug_list = list(set(ass.drug_id))\n",
        "\n",
        "\n",
        "covid_drugs= pd.read_csv(\"Covid-19 drugs from drugbank.csv\")\n",
        "covid_drugs"
      ]
    },
    {
      "cell_type": "code",
      "execution_count": null,
      "metadata": {
        "id": "2P47MfmEqo44"
      },
      "outputs": [],
      "source": [
        "i=0\n",
        "my_covid_drug = []\n",
        "for d in covid_drugs.drug_id:\n",
        "  if d in my_drug_list:\n",
        "    my_covid_drug.append(d)\n",
        "    i+=1\n",
        "print(i)\n",
        "\n"
      ]
    },
    {
      "cell_type": "code",
      "execution_count": null,
      "metadata": {
        "id": "xm8q7VkYrf7S"
      },
      "outputs": [],
      "source": [
        "has = pd.read_csv(\"my_repodb.txt\") # Positive data: Known Drug-Disease associations\n",
        "has.set_index(\"Unnamed: 0\", inplace=True)\n",
        "has = has.drop(['drug_name', 'ind_name','NCT','status', 'phase',\n",
        "       'DetailedStatus'], axis=1)\n",
        "has = has.loc[has['ind_id'].isin(my_disease_list)]\n",
        "\n",
        "\n",
        "hasnt = pd.read_csv(\"my_only_negatives.txt\") # Negative data: Unknown Drug-Disease associations when disease is adverse drug reaction\n",
        "hasnt.set_index(\"Unnamed: 0\", inplace=True)\n",
        "hasnt = hasnt.rename(columns={\"Not_indicated_for\":\"ind_id\", \"Drug_id\": \"drug_id\"})\n",
        "hasnt = hasnt.loc[hasnt['ind_id'].isin(my_disease_list)]\n"
      ]
    },
    {
      "cell_type": "code",
      "execution_count": null,
      "metadata": {
        "id": "4HZHiP7Qr1GQ"
      },
      "outputs": [],
      "source": [
        "\n",
        "\n",
        "# making the relation of diseases: has_geneid, has_class, has_semantic, has_type\n",
        "\n",
        "C=[]\n",
        "num1=0\n",
        "num2=0\n",
        "num3=0\n",
        "num4=0\n",
        "for idx, row in disgenet.iterrows():\n",
        "  # if row.diseaseId in my_disease_list:\n",
        "      semtype = \"_\".join(row.diseaseSemanticType.split())\n",
        "      clas = row.diseaseClass.split(\";\")\n",
        "      text1 =str(row.diseaseId)+\" has_geneid \"+str(row.geneSymbol)+\". \"\n",
        "      num1+=1\n",
        "      text2 =str(row.diseaseId)+\" has_type \"+str(row.diseaseType)+\". \"\n",
        "      num2+=1\n",
        "      text3 =str(row.diseaseId)+\" has_semantic \"+str(semtype)+\". \"\n",
        "      num3+=1\n",
        "      C.append(text1)\n",
        "      C.append(text2)\n",
        "      C.append(text3)\n",
        "      num4+=len(clas)\n",
        "      for cl in clas:\n",
        "        text =str(row.diseaseId)+\" has_class \"+str(cl)+\". \"\n",
        "        C.append(text)\n",
        "\n",
        "Disease=\"\"\n",
        "for c in C:\n",
        "  Disease= Disease+c\n"
      ]
    },
    {
      "cell_type": "markdown",
      "metadata": {
        "id": "cWlM-xeNr1GS"
      },
      "source": [
        "making the drug relations: has_sideeffect, has_target, has_domain, has_atccode, has_chemicalstructure"
      ]
    },
    {
      "cell_type": "code",
      "execution_count": null,
      "metadata": {
        "id": "LZ_2hzphr1GT"
      },
      "outputs": [],
      "source": [
        "# has_target relation. data is collected using DrugBank\n",
        "T=[]\n",
        "target= pd.read_csv(\"my_target.txt\")\n",
        "target.set_index(\"Unnamed: 0\", inplace=True)\n",
        "for idx, row in target.iterrows():\n",
        "  for c in target.columns:\n",
        "    if row[c] ==1 :\n",
        "      text =str(idx)+\" has_target \"+str(c)+\". \"\n",
        "      T.append(text)\n",
        "target=\"\"\n",
        "for c in T:\n",
        "  target= target+c"
      ]
    },
    {
      "cell_type": "code",
      "execution_count": null,
      "metadata": {
        "id": "zQ5LceZhr1GU"
      },
      "outputs": [],
      "source": [
        "# has_domain relation. data is collected using UniProt\n",
        "D=[]\n",
        "dom= pd.read_csv(\"my_domain.txt\")\n",
        "dom.set_index(\"Unnamed: 0\", inplace=True)\n",
        "for idx, row in dom.iterrows():\n",
        "  for c in dom.columns:\n",
        "    if row[c] ==1 :\n",
        "      text =str(idx)+\" has_domain \"+str(c)+\". \"\n",
        "      D.append(text)\n",
        "\n",
        "domain=\"\"\n",
        "for c in D:\n",
        "  domain= domain+c\n"
      ]
    },
    {
      "cell_type": "code",
      "execution_count": null,
      "metadata": {
        "id": "gzSMNVGmr1GU"
      },
      "outputs": [],
      "source": [
        "# has_chemical relation. data is collected using Pubchem\n",
        "C=[]\n",
        "finger= pd.read_csv(\"my_finger.txt\")\n",
        "finger.set_index(\"Unnamed: 0\", inplace=True)\n",
        "for idx, row in finger.iterrows():\n",
        "  for c in finger.columns:\n",
        "    if row[c] ==1 :\n",
        "      text =str(idx)+\" has_chemical S\"+str(c)+\". \"\n",
        "      C.append(text)\n",
        "chemical=\"\"\n",
        "for c in C:\n",
        "  chemical= chemical+c"
      ]
    },
    {
      "cell_type": "code",
      "execution_count": null,
      "metadata": {
        "id": "2wjHaae0r1GV"
      },
      "outputs": [],
      "source": [
        "# has_atc_code relation. data is collected using Sider4.1\n",
        "\n",
        "ATC=[]\n",
        "atc= pd.read_csv(\"my_ATC.txt\")\n",
        "atc.set_index(\"Unnamed: 0\", inplace=True)\n",
        "for idx, row in atc.iterrows():\n",
        "  for c in atc.columns:\n",
        "    if row[c] == 1 and (len(c)==4 or len(c)==1 or len(c)==3 or len(c)==5): # we consider first 4 level of ATC code\n",
        "      text =str(idx)+\" has_atc_code \"+str(c)+\". \"\n",
        "      ATC.append(text)\n",
        "atccode=\"\"\n",
        "for c in ATC:\n",
        "  atccode= atccode+c"
      ]
    },
    {
      "cell_type": "code",
      "execution_count": null,
      "metadata": {
        "colab": {
          "background_save": true
        },
        "id": "6cFK6ZCdr1GV"
      },
      "outputs": [],
      "source": [
        "# has_sideeffect relation. Date is collected using Sider4.1\n",
        "S=[]\n",
        "side= pd.read_csv(\"my_sideeffect.txt\")\n",
        "side.set_index(\"Unnamed: 0\", inplace=True)\n",
        "for idx, row in side.iterrows():\n",
        "  for c in side.columns:\n",
        "    if row[c] ==1 :\n",
        "      text =str(idx)+\" has_sideeffect \"+str(c)+\". \"\n",
        "      S.append(text)"
      ]
    },
    {
      "cell_type": "code",
      "execution_count": null,
      "metadata": {
        "colab": {
          "background_save": true
        },
        "id": "kMGpynGCsGQP"
      },
      "outputs": [],
      "source": [
        "A=[]\n",
        "for ix, row in ass.iterrows():\n",
        "  text = str(row.drug_id)+\" has_indicated \"+str(row.ind_id)+\". \"\n",
        "  A.append(text)\n",
        "\n",
        "ass=\"\" # making the new associations for training the models\n",
        "for c in A:\n",
        "  ass= ass+c\n",
        "\n",
        "side=\"\"\n",
        "for c in S:\n",
        "  side= side+c\n",
        "\n",
        "I = hasnt"
      ]
    },
    {
      "cell_type": "markdown",
      "metadata": {
        "id": "60eP_PiC7Dze"
      },
      "source": [
        "## Word2Vec"
      ]
    },
    {
      "cell_type": "code",
      "execution_count": null,
      "metadata": {
        "id": "M0aV8hRG689i"
      },
      "outputs": [],
      "source": [
        "\n",
        "data=[]\n",
        "sets=[chemical, target, side, domain, atccode, ass, Disease]\n",
        "\n",
        "for s in sets:\n",
        "  for i in sent_tokenize(s):\n",
        "      temp = []\n",
        "      # tokenize the sentence into words\n",
        "      for j in word_tokenize(i):\n",
        "          temp.append(j.lower())\n",
        "      data.append(temp)"
      ]
    },
    {
      "cell_type": "code",
      "execution_count": null,
      "metadata": {
        "id": "LLug2LnG689k"
      },
      "outputs": [],
      "source": [
        "word_freq = defaultdict(int)\n",
        "for sent in data:\n",
        "    for i in sent:\n",
        "        word_freq[i] += 1\n",
        "len(word_freq)"
      ]
    },
    {
      "cell_type": "code",
      "execution_count": null,
      "metadata": {
        "id": "Ufx5RF_F689m"
      },
      "outputs": [],
      "source": [
        "model1 = gensim.models.Word2Vec(min_count = 1, alpha=0.001, size = 700, window = 2, iter=2000, sg=0)\n",
        "model1.build_vocab(data, progress_per=10000)\n",
        "model1.train(data, total_examples=model1.corpus_count, epochs=500, report_delay=1)\n",
        "model1.init_sims(replace=True)"
      ]
    },
    {
      "cell_type": "markdown",
      "metadata": {
        "id": "UMbbKYXEx8jG"
      },
      "source": [
        "## Test on COVID-19"
      ]
    },
    {
      "cell_type": "code",
      "execution_count": null,
      "metadata": {
        "id": "sN3a1-Nwx_v6"
      },
      "outputs": [],
      "source": [
        "frames = [has, hasnt]\n",
        "\n",
        "f = pd.concat(frames)\n",
        "X=[]\n",
        "for idx, row in f.iterrows():\n",
        "  X.append(np.concatenate((model1[(row.drug_id).lower()], model1[(row.ind_id).lower()]), axis=None))\n",
        "y=np.zeros((len(X), ))\n",
        "\n",
        "for i in range(has.shape[0]):\n",
        "  y[i]=1\n"
      ]
    },
    {
      "cell_type": "code",
      "execution_count": null,
      "metadata": {
        "id": "ikyw8bqRx_v7"
      },
      "outputs": [],
      "source": [
        "over = SMOTE(0.9)\n",
        "# over = RandomOverSampler(0.9)\n",
        "under = RandomUnderSampler()\n",
        "X, y = over.fit_resample(X,y)\n",
        "print(len(X))\n",
        "X,y = under.fit_resample(X,y)\n",
        "print(len(X))"
      ]
    },
    {
      "cell_type": "code",
      "execution_count": null,
      "metadata": {
        "id": "_0J4KEulx_v8"
      },
      "outputs": [],
      "source": [
        "X_me = []\n",
        "Y_me = []\n",
        "\n",
        "for a in A_test:\n",
        "  sample = a.split(\" \")\n",
        "  dname =sample[0]\n",
        "  disname = sample[2].split(\".\")\n",
        "  X_me.append(np.concatenate((model1[(dname.rstrip().lower())], model1[(disname[0].lstrip().lower())]), axis=None))\n",
        "  # X_me.append((model1[(dname.rstrip().lower())]- model1[(disname[0].lstrip().lower())]))\n",
        "  Y_me.append(1)\n",
        "for idx, i in I.iterrows():\n",
        "  X_me.append(np.concatenate((model1[i.drug_id.lower()], model1[i.ind_id.lower()]), axis=None))\n",
        "  # X_me.append((model1[i.drug_id.lower()]- model1[i.ind_id.lower()]))\n",
        "  Y_me.append(0)"
      ]
    },
    {
      "cell_type": "code",
      "execution_count": null,
      "metadata": {
        "id": "G8hzyomPx_v8"
      },
      "outputs": [],
      "source": [
        "clf = LogisticRegression(solver=\"sag\", class_weight = 'balanced', max_iter=10000, penalty='l2').fit(X, y) # penalti should be changed\n"
      ]
    },
    {
      "cell_type": "markdown",
      "metadata": {
        "id": "EmU8BBJAx_v9"
      },
      "source": [
        "Now, we calculate the association score between our disease and all drugs to find the first 10 reltaed drugs to them"
      ]
    },
    {
      "cell_type": "code",
      "execution_count": null,
      "metadata": {
        "id": "U8pfy6_kx_v9"
      },
      "outputs": [],
      "source": [
        "covid_disease=['C0206750']\n",
        "\n",
        "SCOR_PD=pd.DataFrame(columns={\"Dis_id\", \"Drug_id\", \"Score\"}) # To save association score\n",
        "for dis in covid_disease:\n",
        "  for drug in my_drug_list:\n",
        "    x=np.concatenate((model1[(drug).lower()], model1[(dis).lower()]), axis=None)\n",
        "    # x= x.reshape(-1, 1)\n",
        "    s = clf.predict_proba([x])[:,1]\n",
        "    # s = clf.predict([x])\n",
        "    df2 = {\"Dis_id\":dis, \"Drug_id\":drug, \"Score\":s}\n",
        "    SCOR_PD = SCOR_PD.append(df2, ignore_index = True)\n"
      ]
    },
    {
      "cell_type": "code",
      "execution_count": null,
      "metadata": {
        "colab": {
          "base_uri": "https://localhost:8080/",
          "height": 419
        },
        "id": "LscCtcoyyxtl",
        "outputId": "c5205a5e-39ec-4c11-965d-48fcb5c707c2"
      },
      "outputs": [
        {
          "data": {
            "text/html": [
              "\n",
              "  <div id=\"df-968bdcc9-b3d2-47aa-84fc-3f5e101bb797\">\n",
              "    <div class=\"colab-df-container\">\n",
              "      <div>\n",
              "<style scoped>\n",
              "    .dataframe tbody tr th:only-of-type {\n",
              "        vertical-align: middle;\n",
              "    }\n",
              "\n",
              "    .dataframe tbody tr th {\n",
              "        vertical-align: top;\n",
              "    }\n",
              "\n",
              "    .dataframe thead th {\n",
              "        text-align: right;\n",
              "    }\n",
              "</style>\n",
              "<table border=\"1\" class=\"dataframe\">\n",
              "  <thead>\n",
              "    <tr style=\"text-align: right;\">\n",
              "      <th></th>\n",
              "      <th>Score</th>\n",
              "      <th>Dis_id</th>\n",
              "      <th>Drug_id</th>\n",
              "    </tr>\n",
              "  </thead>\n",
              "  <tbody>\n",
              "    <tr>\n",
              "      <th>84</th>\n",
              "      <td>[0.966568243958105]</td>\n",
              "      <td>C0206750</td>\n",
              "      <td>DB00663</td>\n",
              "    </tr>\n",
              "    <tr>\n",
              "      <th>328</th>\n",
              "      <td>[0.9641678658635396]</td>\n",
              "      <td>C0206750</td>\n",
              "      <td>DB00240</td>\n",
              "    </tr>\n",
              "    <tr>\n",
              "      <th>238</th>\n",
              "      <td>[0.9621519180869536]</td>\n",
              "      <td>C0206750</td>\n",
              "      <td>DB00324</td>\n",
              "    </tr>\n",
              "    <tr>\n",
              "      <th>32</th>\n",
              "      <td>[0.9604907096508107]</td>\n",
              "      <td>C0206750</td>\n",
              "      <td>DB00259</td>\n",
              "    </tr>\n",
              "    <tr>\n",
              "      <th>186</th>\n",
              "      <td>[0.9596351838219059]</td>\n",
              "      <td>C0206750</td>\n",
              "      <td>DB00223</td>\n",
              "    </tr>\n",
              "    <tr>\n",
              "      <th>...</th>\n",
              "      <td>...</td>\n",
              "      <td>...</td>\n",
              "      <td>...</td>\n",
              "    </tr>\n",
              "    <tr>\n",
              "      <th>24</th>\n",
              "      <td>[0.20267179723169682]</td>\n",
              "      <td>C0206750</td>\n",
              "      <td>DB00188</td>\n",
              "    </tr>\n",
              "    <tr>\n",
              "      <th>196</th>\n",
              "      <td>[0.19662031258509288]</td>\n",
              "      <td>C0206750</td>\n",
              "      <td>DB00413</td>\n",
              "    </tr>\n",
              "    <tr>\n",
              "      <th>219</th>\n",
              "      <td>[0.19529571178530059]</td>\n",
              "      <td>C0206750</td>\n",
              "      <td>DB00268</td>\n",
              "    </tr>\n",
              "    <tr>\n",
              "      <th>156</th>\n",
              "      <td>[0.16703778980002382]</td>\n",
              "      <td>C0206750</td>\n",
              "      <td>DB00215</td>\n",
              "    </tr>\n",
              "    <tr>\n",
              "      <th>402</th>\n",
              "      <td>[0.16399272804695458]</td>\n",
              "      <td>C0206750</td>\n",
              "      <td>DB01175</td>\n",
              "    </tr>\n",
              "  </tbody>\n",
              "</table>\n",
              "<p>410 rows × 3 columns</p>\n",
              "</div>\n",
              "      <button class=\"colab-df-convert\" onclick=\"convertToInteractive('df-968bdcc9-b3d2-47aa-84fc-3f5e101bb797')\"\n",
              "              title=\"Convert this dataframe to an interactive table.\"\n",
              "              style=\"display:none;\">\n",
              "        \n",
              "  <svg xmlns=\"http://www.w3.org/2000/svg\" height=\"24px\"viewBox=\"0 0 24 24\"\n",
              "       width=\"24px\">\n",
              "    <path d=\"M0 0h24v24H0V0z\" fill=\"none\"/>\n",
              "    <path d=\"M18.56 5.44l.94 2.06.94-2.06 2.06-.94-2.06-.94-.94-2.06-.94 2.06-2.06.94zm-11 1L8.5 8.5l.94-2.06 2.06-.94-2.06-.94L8.5 2.5l-.94 2.06-2.06.94zm10 10l.94 2.06.94-2.06 2.06-.94-2.06-.94-.94-2.06-.94 2.06-2.06.94z\"/><path d=\"M17.41 7.96l-1.37-1.37c-.4-.4-.92-.59-1.43-.59-.52 0-1.04.2-1.43.59L10.3 9.45l-7.72 7.72c-.78.78-.78 2.05 0 2.83L4 21.41c.39.39.9.59 1.41.59.51 0 1.02-.2 1.41-.59l7.78-7.78 2.81-2.81c.8-.78.8-2.07 0-2.86zM5.41 20L4 18.59l7.72-7.72 1.47 1.35L5.41 20z\"/>\n",
              "  </svg>\n",
              "      </button>\n",
              "      \n",
              "  <style>\n",
              "    .colab-df-container {\n",
              "      display:flex;\n",
              "      flex-wrap:wrap;\n",
              "      gap: 12px;\n",
              "    }\n",
              "\n",
              "    .colab-df-convert {\n",
              "      background-color: #E8F0FE;\n",
              "      border: none;\n",
              "      border-radius: 50%;\n",
              "      cursor: pointer;\n",
              "      display: none;\n",
              "      fill: #1967D2;\n",
              "      height: 32px;\n",
              "      padding: 0 0 0 0;\n",
              "      width: 32px;\n",
              "    }\n",
              "\n",
              "    .colab-df-convert:hover {\n",
              "      background-color: #E2EBFA;\n",
              "      box-shadow: 0px 1px 2px rgba(60, 64, 67, 0.3), 0px 1px 3px 1px rgba(60, 64, 67, 0.15);\n",
              "      fill: #174EA6;\n",
              "    }\n",
              "\n",
              "    [theme=dark] .colab-df-convert {\n",
              "      background-color: #3B4455;\n",
              "      fill: #D2E3FC;\n",
              "    }\n",
              "\n",
              "    [theme=dark] .colab-df-convert:hover {\n",
              "      background-color: #434B5C;\n",
              "      box-shadow: 0px 1px 3px 1px rgba(0, 0, 0, 0.15);\n",
              "      filter: drop-shadow(0px 1px 2px rgba(0, 0, 0, 0.3));\n",
              "      fill: #FFFFFF;\n",
              "    }\n",
              "  </style>\n",
              "\n",
              "      <script>\n",
              "        const buttonEl =\n",
              "          document.querySelector('#df-968bdcc9-b3d2-47aa-84fc-3f5e101bb797 button.colab-df-convert');\n",
              "        buttonEl.style.display =\n",
              "          google.colab.kernel.accessAllowed ? 'block' : 'none';\n",
              "\n",
              "        async function convertToInteractive(key) {\n",
              "          const element = document.querySelector('#df-968bdcc9-b3d2-47aa-84fc-3f5e101bb797');\n",
              "          const dataTable =\n",
              "            await google.colab.kernel.invokeFunction('convertToInteractive',\n",
              "                                                     [key], {});\n",
              "          if (!dataTable) return;\n",
              "\n",
              "          const docLinkHtml = 'Like what you see? Visit the ' +\n",
              "            '<a target=\"_blank\" href=https://colab.research.google.com/notebooks/data_table.ipynb>data table notebook</a>'\n",
              "            + ' to learn more about interactive tables.';\n",
              "          element.innerHTML = '';\n",
              "          dataTable['output_type'] = 'display_data';\n",
              "          await google.colab.output.renderOutput(dataTable, element);\n",
              "          const docLink = document.createElement('div');\n",
              "          docLink.innerHTML = docLinkHtml;\n",
              "          element.appendChild(docLink);\n",
              "        }\n",
              "      </script>\n",
              "    </div>\n",
              "  </div>\n",
              "  "
            ],
            "text/plain": [
              "                     Score    Dis_id  Drug_id\n",
              "84     [0.966568243958105]  C0206750  DB00663\n",
              "328   [0.9641678658635396]  C0206750  DB00240\n",
              "238   [0.9621519180869536]  C0206750  DB00324\n",
              "32    [0.9604907096508107]  C0206750  DB00259\n",
              "186   [0.9596351838219059]  C0206750  DB00223\n",
              "..                     ...       ...      ...\n",
              "24   [0.20267179723169682]  C0206750  DB00188\n",
              "196  [0.19662031258509288]  C0206750  DB00413\n",
              "219  [0.19529571178530059]  C0206750  DB00268\n",
              "156  [0.16703778980002382]  C0206750  DB00215\n",
              "402  [0.16399272804695458]  C0206750  DB01175\n",
              "\n",
              "[410 rows x 3 columns]"
            ]
          },
          "execution_count": 30,
          "metadata": {},
          "output_type": "execute_result"
        }
      ],
      "source": [
        "SCOR_PD = SCOR_PD.sort_values(by='Score', ascending=False)\n",
        "SCOR_PD"
      ]
    },
    {
      "cell_type": "code",
      "execution_count": null,
      "metadata": {
        "colab": {
          "base_uri": "https://localhost:8080/",
          "height": 266
        },
        "id": "lUc7raFCzEhw",
        "outputId": "70867ee8-628f-4a17-ebf3-ce98161cc8ad"
      },
      "outputs": [
        {
          "data": {
            "text/html": [
              "\n",
              "  <div id=\"df-104882d2-483a-4db5-968b-bb5117d13a2a\">\n",
              "    <div class=\"colab-df-container\">\n",
              "      <div>\n",
              "<style scoped>\n",
              "    .dataframe tbody tr th:only-of-type {\n",
              "        vertical-align: middle;\n",
              "    }\n",
              "\n",
              "    .dataframe tbody tr th {\n",
              "        vertical-align: top;\n",
              "    }\n",
              "\n",
              "    .dataframe thead th {\n",
              "        text-align: right;\n",
              "    }\n",
              "</style>\n",
              "<table border=\"1\" class=\"dataframe\">\n",
              "  <thead>\n",
              "    <tr style=\"text-align: right;\">\n",
              "      <th></th>\n",
              "      <th>Score</th>\n",
              "      <th>Dis_id</th>\n",
              "      <th>Drug_id</th>\n",
              "    </tr>\n",
              "  </thead>\n",
              "  <tbody>\n",
              "    <tr>\n",
              "      <th>82</th>\n",
              "      <td>[0.9252709530295148]</td>\n",
              "      <td>C0206750</td>\n",
              "      <td>DB01234</td>\n",
              "    </tr>\n",
              "    <tr>\n",
              "      <th>10</th>\n",
              "      <td>[0.9084346898709634]</td>\n",
              "      <td>C0206750</td>\n",
              "      <td>DB00959</td>\n",
              "    </tr>\n",
              "    <tr>\n",
              "      <th>69</th>\n",
              "      <td>[0.8754586677460166]</td>\n",
              "      <td>C0206750</td>\n",
              "      <td>DB00608</td>\n",
              "    </tr>\n",
              "    <tr>\n",
              "      <th>108</th>\n",
              "      <td>[0.8705758796599655]</td>\n",
              "      <td>C0206750</td>\n",
              "      <td>DB01394</td>\n",
              "    </tr>\n",
              "    <tr>\n",
              "      <th>353</th>\n",
              "      <td>[0.7372971537664909]</td>\n",
              "      <td>C0206750</td>\n",
              "      <td>DB00207</td>\n",
              "    </tr>\n",
              "    <tr>\n",
              "      <th>61</th>\n",
              "      <td>[0.6238683309087277]</td>\n",
              "      <td>C0206750</td>\n",
              "      <td>DB01050</td>\n",
              "    </tr>\n",
              "    <tr>\n",
              "      <th>392</th>\n",
              "      <td>[0.6216779080024117]</td>\n",
              "      <td>C0206750</td>\n",
              "      <td>DB08868</td>\n",
              "    </tr>\n",
              "  </tbody>\n",
              "</table>\n",
              "</div>\n",
              "      <button class=\"colab-df-convert\" onclick=\"convertToInteractive('df-104882d2-483a-4db5-968b-bb5117d13a2a')\"\n",
              "              title=\"Convert this dataframe to an interactive table.\"\n",
              "              style=\"display:none;\">\n",
              "        \n",
              "  <svg xmlns=\"http://www.w3.org/2000/svg\" height=\"24px\"viewBox=\"0 0 24 24\"\n",
              "       width=\"24px\">\n",
              "    <path d=\"M0 0h24v24H0V0z\" fill=\"none\"/>\n",
              "    <path d=\"M18.56 5.44l.94 2.06.94-2.06 2.06-.94-2.06-.94-.94-2.06-.94 2.06-2.06.94zm-11 1L8.5 8.5l.94-2.06 2.06-.94-2.06-.94L8.5 2.5l-.94 2.06-2.06.94zm10 10l.94 2.06.94-2.06 2.06-.94-2.06-.94-.94-2.06-.94 2.06-2.06.94z\"/><path d=\"M17.41 7.96l-1.37-1.37c-.4-.4-.92-.59-1.43-.59-.52 0-1.04.2-1.43.59L10.3 9.45l-7.72 7.72c-.78.78-.78 2.05 0 2.83L4 21.41c.39.39.9.59 1.41.59.51 0 1.02-.2 1.41-.59l7.78-7.78 2.81-2.81c.8-.78.8-2.07 0-2.86zM5.41 20L4 18.59l7.72-7.72 1.47 1.35L5.41 20z\"/>\n",
              "  </svg>\n",
              "      </button>\n",
              "      \n",
              "  <style>\n",
              "    .colab-df-container {\n",
              "      display:flex;\n",
              "      flex-wrap:wrap;\n",
              "      gap: 12px;\n",
              "    }\n",
              "\n",
              "    .colab-df-convert {\n",
              "      background-color: #E8F0FE;\n",
              "      border: none;\n",
              "      border-radius: 50%;\n",
              "      cursor: pointer;\n",
              "      display: none;\n",
              "      fill: #1967D2;\n",
              "      height: 32px;\n",
              "      padding: 0 0 0 0;\n",
              "      width: 32px;\n",
              "    }\n",
              "\n",
              "    .colab-df-convert:hover {\n",
              "      background-color: #E2EBFA;\n",
              "      box-shadow: 0px 1px 2px rgba(60, 64, 67, 0.3), 0px 1px 3px 1px rgba(60, 64, 67, 0.15);\n",
              "      fill: #174EA6;\n",
              "    }\n",
              "\n",
              "    [theme=dark] .colab-df-convert {\n",
              "      background-color: #3B4455;\n",
              "      fill: #D2E3FC;\n",
              "    }\n",
              "\n",
              "    [theme=dark] .colab-df-convert:hover {\n",
              "      background-color: #434B5C;\n",
              "      box-shadow: 0px 1px 3px 1px rgba(0, 0, 0, 0.15);\n",
              "      filter: drop-shadow(0px 1px 2px rgba(0, 0, 0, 0.3));\n",
              "      fill: #FFFFFF;\n",
              "    }\n",
              "  </style>\n",
              "\n",
              "      <script>\n",
              "        const buttonEl =\n",
              "          document.querySelector('#df-104882d2-483a-4db5-968b-bb5117d13a2a button.colab-df-convert');\n",
              "        buttonEl.style.display =\n",
              "          google.colab.kernel.accessAllowed ? 'block' : 'none';\n",
              "\n",
              "        async function convertToInteractive(key) {\n",
              "          const element = document.querySelector('#df-104882d2-483a-4db5-968b-bb5117d13a2a');\n",
              "          const dataTable =\n",
              "            await google.colab.kernel.invokeFunction('convertToInteractive',\n",
              "                                                     [key], {});\n",
              "          if (!dataTable) return;\n",
              "\n",
              "          const docLinkHtml = 'Like what you see? Visit the ' +\n",
              "            '<a target=\"_blank\" href=https://colab.research.google.com/notebooks/data_table.ipynb>data table notebook</a>'\n",
              "            + ' to learn more about interactive tables.';\n",
              "          element.innerHTML = '';\n",
              "          dataTable['output_type'] = 'display_data';\n",
              "          await google.colab.output.renderOutput(dataTable, element);\n",
              "          const docLink = document.createElement('div');\n",
              "          docLink.innerHTML = docLinkHtml;\n",
              "          element.appendChild(docLink);\n",
              "        }\n",
              "      </script>\n",
              "    </div>\n",
              "  </div>\n",
              "  "
            ],
            "text/plain": [
              "                    Score    Dis_id  Drug_id\n",
              "82   [0.9252709530295148]  C0206750  DB01234\n",
              "10   [0.9084346898709634]  C0206750  DB00959\n",
              "69   [0.8754586677460166]  C0206750  DB00608\n",
              "108  [0.8705758796599655]  C0206750  DB01394\n",
              "353  [0.7372971537664909]  C0206750  DB00207\n",
              "61   [0.6238683309087277]  C0206750  DB01050\n",
              "392  [0.6216779080024117]  C0206750  DB08868"
            ]
          },
          "execution_count": 33,
          "metadata": {},
          "output_type": "execute_result"
        }
      ],
      "source": [
        "df = SCOR_PD.loc[SCOR_PD[\"Drug_id\"].isin(my_covid_drug)]\n",
        "df"
      ]
    }
  ],
  "metadata": {
    "colab": {
      "collapsed_sections": [
        "OZEjehlD9jb3",
        "E4DPQo6ciHJF",
        "Vkx6IPHxtWty",
        "OMH8JGZ0RfLi",
        "BVm5hdaR-BhZ",
        "2VbrpqNw6cDq",
        "YOMdcp3u5hQI",
        "mGIA9oFoMS_o",
        "4ocxfgkg4f73",
        "EEqC_NBhyygv",
        "l6age1x3ZFpk",
        "sCs2OJFUpPsP"
      ],
      "provenance": []
    },
    "kernelspec": {
      "display_name": "Python 3",
      "name": "python3"
    },
    "language_info": {
      "name": "python"
    }
  },
  "nbformat": 4,
  "nbformat_minor": 0
}
