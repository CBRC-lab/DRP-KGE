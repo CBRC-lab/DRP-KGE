{
  "cells": [
    {
      "cell_type": "markdown",
      "metadata": {
        "id": "OZEjehlD9jb3"
      },
      "source": [
        "# Importing packages\n"
      ]
    },
    {
      "cell_type": "code",
      "execution_count": 1,
      "metadata": {
        "colab": {
          "base_uri": "https://localhost:8080/"
        },
        "id": "2lBQqqGHVprr",
        "outputId": "41ff97b4-b73f-49d4-d54d-7b827214d276"
      },
      "outputs": [
        {
          "name": "stdout",
          "output_type": "stream",
          "text": [
            "Looking in indexes: https://pypi.org/simple, https://us-python.pkg.dev/colab-wheels/public/simple/\n",
            "Requirement already satisfied: nltk in /usr/local/lib/python3.7/dist-packages (3.7)\n",
            "Requirement already satisfied: regex>=2021.8.3 in /usr/local/lib/python3.7/dist-packages (from nltk) (2022.6.2)\n",
            "Requirement already satisfied: tqdm in /usr/local/lib/python3.7/dist-packages (from nltk) (4.64.1)\n",
            "Requirement already satisfied: click in /usr/local/lib/python3.7/dist-packages (from nltk) (7.1.2)\n",
            "Requirement already satisfied: joblib in /usr/local/lib/python3.7/dist-packages (from nltk) (1.1.0)\n",
            "Looking in indexes: https://pypi.org/simple, https://us-python.pkg.dev/colab-wheels/public/simple/\n",
            "Requirement already satisfied: gensim in /usr/local/lib/python3.7/dist-packages (3.6.0)\n",
            "Requirement already satisfied: smart-open>=1.2.1 in /usr/local/lib/python3.7/dist-packages (from gensim) (5.2.1)\n",
            "Requirement already satisfied: numpy>=1.11.3 in /usr/local/lib/python3.7/dist-packages (from gensim) (1.21.6)\n",
            "Requirement already satisfied: scipy>=0.18.1 in /usr/local/lib/python3.7/dist-packages (from gensim) (1.7.3)\n",
            "Requirement already satisfied: six>=1.5.0 in /usr/local/lib/python3.7/dist-packages (from gensim) (1.15.0)\n",
            "Looking in indexes: https://pypi.org/simple, https://us-python.pkg.dev/colab-wheels/public/simple/\n",
            "Requirement already satisfied: imbalanced-learn in /usr/local/lib/python3.7/dist-packages (0.8.1)\n",
            "Requirement already satisfied: scikit-learn>=0.24 in /usr/local/lib/python3.7/dist-packages (from imbalanced-learn) (1.0.2)\n",
            "Requirement already satisfied: numpy>=1.13.3 in /usr/local/lib/python3.7/dist-packages (from imbalanced-learn) (1.21.6)\n",
            "Requirement already satisfied: joblib>=0.11 in /usr/local/lib/python3.7/dist-packages (from imbalanced-learn) (1.1.0)\n",
            "Requirement already satisfied: scipy>=0.19.1 in /usr/local/lib/python3.7/dist-packages (from imbalanced-learn) (1.7.3)\n",
            "Requirement already satisfied: threadpoolctl>=2.0.0 in /usr/local/lib/python3.7/dist-packages (from scikit-learn>=0.24->imbalanced-learn) (3.1.0)\n"
          ]
        },
        {
          "name": "stderr",
          "output_type": "stream",
          "text": [
            "[nltk_data] Downloading package punkt to /root/nltk_data...\n",
            "[nltk_data]   Unzipping tokenizers/punkt.zip.\n"
          ]
        }
      ],
      "source": [
        "! pip install nltk\n",
        "! pip install gensim\n",
        "! pip install imbalanced-learn\n",
        "\n",
        "import pandas as pd\n",
        "import numpy as np\n",
        "\n",
        "import gensim\n",
        "from gensim.models import Word2Vec\n",
        "import nltk\n",
        "nltk.download('punkt')\n",
        "from nltk.tokenize import sent_tokenize, word_tokenize\n",
        "import warnings\n",
        "from collections import defaultdict  # For word frequency\n",
        "import spacy  # For preprocessing\n",
        "warnings.filterwarnings(action = 'ignore')\n",
        "  \n",
        "\n",
        "import random\n",
        "from sklearn.metrics import roc_auc_score, roc_curve, precision_score, auc, precision_recall_curve, plot_roc_curve, classification_report, average_precision_score\n",
        "from sklearn import svm\n",
        "from sklearn.tree import DecisionTreeClassifier\n",
        "from sklearn.ensemble import RandomForestClassifier\n",
        "from sklearn.metrics.pairwise import cosine_similarity\n",
        "from sklearn.model_selection import train_test_split\n",
        "from sklearn.linear_model import LogisticRegression\n",
        "from sklearn.tree import DecisionTreeClassifier\n",
        "from sklearn.ensemble import RandomForestClassifier\n",
        "import matplotlib.pyplot as plt\n",
        "from sklearn.model_selection import StratifiedKFold, LeaveOneOut\n",
        "import matplotlib.pyplot as plt\n",
        "import seaborn as sns\n",
        "\n",
        "from imblearn.over_sampling import SMOTE, RandomOverSampler\n",
        "from imblearn.under_sampling import RandomUnderSampler\n"
      ]
    },
    {
      "cell_type": "markdown",
      "metadata": {
        "id": "E4DPQo6ciHJF"
      },
      "source": [
        "# Data loading"
      ]
    },
    {
      "cell_type": "markdown",
      "metadata": {
        "id": "E1K3aImv-zpt"
      },
      "source": [
        "The associations are based RepoDB database and collected from golden standard database of our prior study, DRP-VEM."
      ]
    },
    {
      "cell_type": "code",
      "execution_count": 2,
      "metadata": {
        "id": "CHIpDlp6WXO5"
      },
      "outputs": [],
      "source": [
        "ass = pd.read_csv(\"my_repodb.txt\") \n",
        "ass.set_index(\"Unnamed: 0\", inplace=True)\n",
        "\n",
        "# making the list of known drug-disease associations \n",
        "\n",
        "A=[]\n",
        "for ix, row in ass.iterrows():\n",
        "  text = str(row.drug_id)+\" has_indicated \"+str(row.ind_id)+\". \"\n",
        "  A.append(text)\n",
        "\n",
        "associations = A.copy()\n",
        "\n",
        "# making the drug and disease lists\n",
        "\n",
        "my_disease_list = list(set(ass.ind_id))\n",
        "my_drug_list = list(set(ass.drug_id))\n",
        "drugs=list(set(ass.drug_id))"
      ]
    },
    {
      "cell_type": "code",
      "execution_count": 3,
      "metadata": {
        "colab": {
          "base_uri": "https://localhost:8080/",
          "height": 105
        },
        "id": "h0-IC2UisxlI",
        "outputId": "b7c25853-7298-4038-bcc2-2884c5beaca5"
      },
      "outputs": [
        {
          "data": {
            "text/plain": [
              "Text(0.5, 1.0, 'Type')"
            ]
          },
          "execution_count": 3,
          "metadata": {},
          "output_type": "execute_result"
        },
        {
          "data": {
            "image/png": "[encoded data removed]",
            "text/plain": [
              "<Figure size 720x720 with 1 Axes>"
            ]
          },
          "metadata": {
            "needs_background": "light"
          },
          "output_type": "display_data"
        }
      ],
      "source": [
        "# The frequency of drug-id and indication id\n",
        "\n",
        "sns.countplot(ass['ind_id'])\n",
        "fig = plt.gcf()\n",
        "fig.set_size_inches(10, 10)\n",
        "plt.title('Type')"
      ]
    },
    {
      "cell_type": "code",
      "execution_count": 4,
      "metadata": {
        "id": "hbn2fUcAJyim"
      },
      "outputs": [],
      "source": [
        "freq = ass.groupby(['ind_id'])['drug_id'].agg('count').reset_index()\n",
        "freq = freq.sort_values(by='drug_id', ascending=False)\n"
      ]
    },
    {
      "cell_type": "markdown",
      "metadata": {
        "id": "u0-W14GnITTO"
      },
      "source": [
        "The information of diseases are collected using [DisGeNet](https://www.disgenet.org)"
      ]
    },
    {
      "cell_type": "code",
      "execution_count": 5,
      "metadata": {
        "id": "CBpV3s6Ep9sX"
      },
      "outputs": [],
      "source": [
        "disease=pd.read_csv(\"/content/drive/MyDrive/RepoDB/DisGeNet/curated_gene_disease_associations.tsv\", delimiter=\"\\t\")\n",
        "database_disease_list= list(set(disease.diseaseId))\n",
        "\n",
        "# making the relation of diseases: has_geneid, has_class, has_semantic, has_type\n",
        "\n",
        "C=[]\n",
        "num1=0\n",
        "num2=0\n",
        "num3=0\n",
        "num4=0\n",
        "for idx, row in disease.iterrows():\n",
        "  if row.diseaseId in my_disease_list:\n",
        "      semtype = \"_\".join(row.diseaseSemanticType.split())\n",
        "      clas = row.diseaseClass.split(\";\")\n",
        "      text1 =str(row.diseaseId)+\" has_geneid \"+str(row.geneSymbol)+\". \"\n",
        "      num1+=1\n",
        "      text2 =str(row.diseaseId)+\" has_type \"+str(row.diseaseType)+\". \"\n",
        "      num2+=1\n",
        "      text3 =str(row.diseaseId)+\" has_semantic \"+str(semtype)+\". \"\n",
        "      num3+=1\n",
        "      C.append(text1)\n",
        "      C.append(text2)\n",
        "      C.append(text3)\n",
        "      num4+=len(clas)\n",
        "      for cl in clas:\n",
        "        text =str(row.diseaseId)+\" has_class \"+str(cl)+\". \"\n",
        "        C.append(text)\n",
        "\n",
        "Disease=\"\"\n",
        "for c in C:\n",
        "  Disease= Disease+c\n"
      ]
    },
    {
      "cell_type": "markdown",
      "metadata": {
        "id": "p7mdjCe2RWKp"
      },
      "source": [
        "making the drug relations: has_sideeffect, has_target, has_domain, has_atccode, has_chemicalstructure"
      ]
    },
    {
      "cell_type": "code",
      "execution_count": 6,
      "metadata": {
        "id": "t7dgE79vZq2Q"
      },
      "outputs": [],
      "source": [
        "# has_target relation. data is collected using DrugBank\n",
        "T=[]\n",
        "target= pd.read_csv(\"my_target.txt\")\n",
        "target.set_index(\"Unnamed: 0\", inplace=True)\n",
        "for idx, row in target.iterrows():\n",
        "  for c in target.columns:\n",
        "    if row[c] ==1 :\n",
        "      text =str(idx)+\" has_target \"+str(c)+\". \"\n",
        "      T.append(text)\n",
        "target=\"\"\n",
        "for c in T:\n",
        "  target= target+c"
      ]
    },
    {
      "cell_type": "code",
      "execution_count": 7,
      "metadata": {
        "id": "uChMRBszaTLw"
      },
      "outputs": [],
      "source": [
        "# has_domain relation. data is collected using UniProt\n",
        "D=[]\n",
        "dom= pd.read_csv(\"my_domain.txt\")\n",
        "dom.set_index(\"Unnamed: 0\", inplace=True)\n",
        "for idx, row in dom.iterrows():\n",
        "  for c in dom.columns:\n",
        "    if row[c] ==1 :\n",
        "      text =str(idx)+\" has_domain \"+str(c)+\". \"\n",
        "      D.append(text)\n",
        "\n",
        "domain=\"\"\n",
        "for c in D:\n",
        "  domain= domain+c"
      ]
    },
    {
      "cell_type": "code",
      "execution_count": 8,
      "metadata": {
        "id": "0EGF5zFsSkTE"
      },
      "outputs": [],
      "source": [
        "# has_chemical relation. data is collected using Pubchem\n",
        "C=[]\n",
        "finger= pd.read_csv(\"my_finger.txt\")\n",
        "finger.set_index(\"Unnamed: 0\", inplace=True)\n",
        "for idx, row in finger.iterrows():\n",
        "  for c in finger.columns:\n",
        "    if row[c] ==1 :\n",
        "      text =str(idx)+\" has_chemical S\"+str(c)+\". \"\n",
        "      C.append(text)\n",
        "chemical=\"\"\n",
        "for c in C:\n",
        "  chemical= chemical+c"
      ]
    },
    {
      "cell_type": "code",
      "execution_count": 9,
      "metadata": {
        "id": "7ZSOlKfUOBJA"
      },
      "outputs": [],
      "source": [
        "# has_atc_code relation. data is collected using Sider4.1\n",
        "\n",
        "ATC=[]\n",
        "atc= pd.read_csv(\"my_ATC.txt\")\n",
        "atc.set_index(\"Unnamed: 0\", inplace=True)\n",
        "for idx, row in atc.iterrows():\n",
        "  for c in atc.columns:\n",
        "    if row[c] == 1 and (len(c)==4 or len(c)==1 or len(c)==3 or len(c)==5): # we consider first 4 level of ATC code\n",
        "      text =str(idx)+\" has_atc_code \"+str(c)+\". \"\n",
        "      ATC.append(text)\n",
        "atccode=\"\"\n",
        "for c in ATC:\n",
        "  atccode= atccode+c"
      ]
    },
    {
      "cell_type": "code",
      "execution_count": 10,
      "metadata": {
        "id": "usc_IO_5YdZh"
      },
      "outputs": [],
      "source": [
        "# has_sideeffect relation. Date is collected using Sider4.1\n",
        "S=[]\n",
        "side= pd.read_csv(\"my_sideeffect.txt\")\n",
        "side.set_index(\"Unnamed: 0\", inplace=True)\n",
        "for idx, row in side.iterrows():\n",
        "  for c in side.columns:\n",
        "    if row[c] ==1 :\n",
        "      text =str(idx)+\" has_sideeffect \"+str(c)+\". \"\n",
        "      S.append(text)"
      ]
    },
    {
      "cell_type": "markdown",
      "metadata": {
        "id": "kRXTA448ULst"
      },
      "source": [
        "Extracting drug-disease associations\n",
        "\n",
        "Positive data: Known drug-disease associations\n",
        "\n",
        "Negative data: a subset of unknown drug-disease associations that disease is an adverse drug reaction and common with our side effects"
      ]
    },
    {
      "cell_type": "code",
      "execution_count": 11,
      "metadata": {
        "id": "lveVLqkSg1N3"
      },
      "outputs": [],
      "source": [
        "has = pd.read_csv(\"my_repodb.txt\") # Positive data\n",
        "has.set_index(\"Unnamed: 0\", inplace=True)\n",
        "\n",
        "hasnt = pd.read_csv(\"my_only_negatives.txt\") # Negative data\n",
        "hasnt.set_index(\"Unnamed: 0\", inplace=True)"
      ]
    },
    {
      "cell_type": "code",
      "execution_count": 12,
      "metadata": {
        "id": "CQWRoN38cy19"
      },
      "outputs": [],
      "source": [
        "A_test=[]\n",
        "i=0\n",
        "# randomly chose 10% (78) of positive data for test set\n",
        "# then extract those pairs from the documnet of associations that word2vec learns\n",
        "while(i!=78):\n",
        "  a1 = (random.sample(A, 1))\n",
        "  a = a1[0].split(\" \")\n",
        "  a2=a[2].split(\".\")\n",
        "  if a2[0] in database_disease_list:\n",
        "    A_test.append(a1[0])\n",
        "    A.remove(a1[0]) # removing the drug-disease pairs that we aim to check their associations by the model\n",
        "    i+=1\n",
        "\n",
        "ass=\"\" # making the new associations for training the models\n",
        "for c in A:\n",
        "  ass= ass+c"
      ]
    },
    {
      "cell_type": "code",
      "execution_count": 13,
      "metadata": {
        "colab": {
          "base_uri": "https://localhost:8080/"
        },
        "id": "49Ts6SkknKOi",
        "outputId": "32af1073-e617-40ae-97b6-b9f6141b542b"
      },
      "outputs": [
        {
          "name": "stdout",
          "output_type": "stream",
          "text": [
            "The number of all known drug disease associations in our dataset:  (778, 2)\n",
            "The number of  known drug disease associations without positive test set: (700, 2)\n"
          ]
        }
      ],
      "source": [
        "has = has.drop(['drug_name', 'ind_name','NCT','status', 'phase',\n",
        "       'DetailedStatus'], axis=1)\n",
        "print(\"The number of all known drug disease associations in our dataset: \",(has.shape))\n",
        "\n",
        "I=[]\n",
        "for idx, row in has.iterrows():\n",
        "  text=str(row.drug_id)+\" has_indicated \"+str(row.ind_id)+\". \"\n",
        "  if text in A_test: # Extracting test associations from positive data\n",
        "    I.append(idx)\n",
        "has = has.drop(index=I, axis=0)\n",
        "print(\"The number of  known drug disease associations without positive test set:\",has.shape)"
      ]
    },
    {
      "cell_type": "code",
      "execution_count": 14,
      "metadata": {
        "colab": {
          "base_uri": "https://localhost:8080/"
        },
        "id": "GZXvtRqpmzZA",
        "outputId": "156d4dca-8a4c-468b-8cea-f7127cc8a4be"
      },
      "outputs": [
        {
          "name": "stdout",
          "output_type": "stream",
          "text": [
            "The number of unknown drug disease associations in our dataset:  (1969, 2)\n",
            "The number of unknown drug disease associations without negative test set:  (1891, 2)\n"
          ]
        }
      ],
      "source": [
        "hasnt = hasnt.rename(columns={\"Not_indicated_for\":\"ind_id\", \"Drug_id\": \"drug_id\"})\n",
        "\n",
        "print(\"The number of unknown drug disease associations in our dataset: \",(hasnt.shape))\n",
        "\n",
        "I=[]\n",
        "u=0\n",
        "hasnt_test_idx=random.sample(range(0,hasnt.shape[0]), 78)\n",
        "for idx, row in hasnt.iterrows():\n",
        "  if idx in hasnt_test_idx:\n",
        "    I.append(row)\n",
        "    x = str(row.drug_id)+\" has_sideeffect \"+str(row.ind_id)+\". \"  # we extract those has_sideeffect relations from drug which are in negative test set and we consider them as adverse drug reactions\n",
        "    if(x in S):\n",
        "      S.remove(x)\n",
        "      u = u+1\n",
        "hasnt = hasnt.drop(index=hasnt_test_idx, axis=0)\n",
        "print(\"The number of unknown drug disease associations without negative test set: \",(hasnt.shape))\n",
        "\n",
        "side=\"\"\n",
        "for c in S:\n",
        "  side= side+c\n",
        "I=pd.DataFrame(I)\n"
      ]
    },
    {
      "cell_type": "markdown",
      "metadata": {
        "id": "4ocxfgkg4f73"
      },
      "source": [
        "#Word2Vec implementation\n"
      ]
    },
    {
      "cell_type": "markdown",
      "metadata": {
        "id": "HpG5IkfTtXcq"
      },
      "source": [
        "first, we make the file of our DDKG\n"
      ]
    },
    {
      "cell_type": "code",
      "execution_count": null,
      "metadata": {
        "id": "-x6g4u2abgg6"
      },
      "outputs": [],
      "source": [
        "\n",
        "data=[]\n",
        "sets=[chemical, target, side, domain, atccode, ass, Disease]\n",
        "\n",
        "for s in sets:\n",
        "  for i in sent_tokenize(s):\n",
        "      temp = []\n",
        "      # tokenize the sentence into words\n",
        "      for j in word_tokenize(i):\n",
        "          temp.append(j.lower())\n",
        "      data.append(temp)"
      ]
    },
    {
      "cell_type": "code",
      "execution_count": null,
      "metadata": {
        "colab": {
          "base_uri": "https://localhost:8080/"
        },
        "id": "YPCZWjv5hiDH",
        "outputId": "581671b9-bba5-4231-e785-e530e8b4f8dc"
      },
      "outputs": [
        {
          "data": {
            "text/plain": [
              "10076"
            ]
          },
          "execution_count": 18,
          "metadata": {},
          "output_type": "execute_result"
        }
      ],
      "source": [
        "word_freq = defaultdict(int)\n",
        "for sent in data:\n",
        "    for i in sent:\n",
        "        word_freq[i] += 1\n",
        "len(word_freq)"
      ]
    },
    {
      "cell_type": "markdown",
      "metadata": {
        "id": "L0gAjZPutovy"
      },
      "source": [
        "we train Word2Vec-CBOW for embedding every entity of DDKG including diseases and drugs\n",
        "\n",
        "based on trial and error, the best performance of Word2Vec on our dataset is when the length of vectors (size) is 700 and the iteration (iter) is 2000"
      ]
    },
    {
      "cell_type": "code",
      "execution_count": null,
      "metadata": {
        "id": "5D8HsO0XdIWo"
      },
      "outputs": [],
      "source": [
        "model1 = gensim.models.Word2Vec(min_count = 1, alpha=0.001, size = 700, window = 2, iter=2000, sg=0)\n",
        "model1.build_vocab(data, progress_per=10000)\n",
        "model1.train(data, total_examples=model1.corpus_count, epochs=500, report_delay=1)\n",
        "model1.init_sims(replace=True)"
      ]
    },
    {
      "cell_type": "code",
      "execution_count": null,
      "metadata": {
        "id": "qqhNP4nj_dUD"
      },
      "outputs": [],
      "source": [
        "def mean_cal(K):\n",
        "  sum=0\n",
        "  for k in K:\n",
        "    sum= sum+k\n",
        "  return(sum/len(K))"
      ]
    },
    {
      "cell_type": "markdown",
      "metadata": {
        "id": "9_O6CwblyN-E"
      },
      "source": [
        "# Implementation\n",
        "\n",
        "we consider several approaches:\n",
        "1. unbalanced dataset (1961 negativ and 700 positive)\n",
        "2. Undersampling negative data \n",
        "3. Upsampling positive data\n",
        "4. Upsampling positive data and undersampling negative data"
      ]
    },
    {
      "cell_type": "markdown",
      "metadata": {
        "id": "a-FQltnkF8pd"
      },
      "source": [
        "## Unbalanced"
      ]
    },
    {
      "cell_type": "code",
      "execution_count": null,
      "metadata": {
        "id": "chcfRe4LWFfJ"
      },
      "outputs": [],
      "source": [
        "frames = [has, hasnt]\n",
        "f = pd.concat(frames)\n",
        "X=[]\n",
        "for idx, row in f.iterrows():\n",
        "  X.append(np.concatenate((model1[(row.drug_id).lower()], model1[(row.ind_id).lower()]), axis=None))\n",
        "\n"
      ]
    },
    {
      "cell_type": "code",
      "execution_count": null,
      "metadata": {
        "id": "DMsqdOuvWFfM"
      },
      "outputs": [],
      "source": [
        "y=np.zeros((len(X), ))\n",
        "\n",
        "for i in range(has.shape[0]):\n",
        "  y[i]=1\n"
      ]
    },
    {
      "cell_type": "code",
      "execution_count": null,
      "metadata": {
        "colab": {
          "base_uri": "https://localhost:8080/"
        },
        "id": "0PdMAKlQWFfN",
        "outputId": "0db16579-b983-4573-a872-e34f7e949212"
      },
      "outputs": [
        {
          "name": "stdout",
          "output_type": "stream",
          "text": [
            "auc =  0.8099704955992381\n",
            "aupr =  0.7306269686311005\n",
            "auc =  0.8638118037912841\n",
            "aupr =  0.7973980763709446\n",
            "auc =  0.8395306753838072\n",
            "aupr =  0.7878618152117363\n",
            "auc =  0.8496043491392329\n",
            "aupr =  0.7828800865075375\n",
            "auc =  0.8572804314329738\n",
            "aupr =  0.7950353013337509\n",
            "____________________\n",
            "Mean AUC: 0.8440395510693073 \n",
            " Mean aupr: 0.778760449611014 \n",
            " Mean acc:  0.8484567901234568\n"
          ]
        }
      ],
      "source": [
        "# first time, we split dataset 5 times and average the results\n",
        "# Notice: here, we only work on trained vocabulary. and the test set is not evaluated yet\n",
        "\n",
        "sauc=[]\n",
        "sacc=[]\n",
        "spr=[]\n",
        "for i in range(5):\n",
        "  x_train, x_test, y_train, y_test = train_test_split(X, y)\n",
        "  # clf = LogisticRegression(solver=\"liblinear\", max_iter=2000).fit(x_train, y_train)\n",
        "  clf = svm.SVC(kernel=\"linear\", class_weight=\"balanced\").fit(x_train, y_train)\n",
        "  # clf = DecisionTreeClassifier().fit(x_train, y_train)\n",
        "  # clf = RandomForestClassifier().fit(x_train, y_train)\n",
        "  # y_hat= clf.predict_proba(x_test)[:, 1]\n",
        "  y_hat= clf.predict(x_test)\n",
        "  print(\"auc = \", roc_auc_score(y_test, y_hat))\n",
        "  sauc.append(roc_auc_score(y_test, y_hat))\n",
        "  # print(\"roc-auc:\",roc_auc_score(y_test, clf.decision_function(x_test)))\n",
        "  # precision, recall, thresholds = precision_recall_curve(y_test, clf.decision_function(x_test))\n",
        "  precision, recall, thresholds = precision_recall_curve(y_test, y_hat)\n",
        "  print(\"aupr = \", auc(recall, precision))\n",
        "  spr.append(auc(recall, precision))\n",
        "  sacc.append(clf.score(x_test, y_test))\n",
        "  clf.score(x_test, y_test)\n",
        "print(\"____________________\\nMean AUC:\", mean_cal(sauc), \"\\n Mean aupr:\",mean_cal(spr),\"\\n Mean acc: \", mean_cal(sacc))"
      ]
    },
    {
      "cell_type": "code",
      "execution_count": null,
      "metadata": {
        "colab": {
          "base_uri": "https://localhost:8080/",
          "height": 462
        },
        "id": "sEZy0Eo9WFfU",
        "outputId": "b92dc0a8-9b82-458c-8392-7b0866dd522b"
      },
      "outputs": [
        {
          "name": "stdout",
          "output_type": "stream",
          "text": [
            "auc =  0.8210610629476065\n",
            "aupr =  0.6409886880677241\n",
            "Score =  0.7109826589595376\n",
            "_____________________\n",
            "auc =  0.925774754346183\n",
            "aupr =  0.8359009736282694\n",
            "Score =  0.859073359073359\n",
            "_____________________\n",
            "auc =  0.9241591080876795\n",
            "aupr =  0.830266950346627\n",
            "Score =  0.8146718146718147\n",
            "_____________________\n",
            "auc =  0.9391345427059713\n",
            "aupr =  0.8736854081702358\n",
            "Score =  0.8822393822393823\n",
            "_____________________\n",
            "auc =  0.9042517006802722\n",
            "aupr =  0.7867935817838346\n",
            "Score =  0.8243243243243243\n",
            "_____________________\n",
            "Mean AUC: 0.9028762337535425\n",
            "Mean AUPR: 0.7935271203993383\n",
            "Mean Score: 0.8182583078536835\n",
            "________________________\n"
          ]
        },
        {
          "data": {
            "image/png": "[encoded data removed]",
            "text/plain": [
              "<Figure size 432x288 with 1 Axes>"
            ]
          },
          "metadata": {},
          "output_type": "display_data"
        }
      ],
      "source": [
        "# the second times, we aplly stratifiedkfold\n",
        "\n",
        "skf = StratifiedKFold(n_splits=5)\n",
        "# skf.get_n_splits(X, y)\n",
        "score=[]\n",
        "AUC=[]\n",
        "AUPR=[]\n",
        "X= np.array(X)\n",
        "y=np.array(y)\n",
        "tprs = []\n",
        "aucs = []\n",
        "mean_fpr = np.linspace(0, 1, 100)\n",
        "fig, ax = plt.subplots()\n",
        "for train_index, test_index in skf.split(X, y):\n",
        "    #  print(\"TRAIN:\", train_index, \"TEST:\", test_index)\n",
        "     x_train, x_test = X[train_index], X[test_index]\n",
        "     y_train, y_test = y[train_index], y[test_index]\n",
        "     clf = LogisticRegression(solver=\"liblinear\", class_weight = 'balanced').fit(x_train, y_train)\n",
        "    #  clf = DecisionTreeClassifier().fit(x_train, y_train)\n",
        "    #  clf = svm.SVC(kernel=\"linear\", class_weight=\"balanced\").fit(x_train, y_train)\n",
        "    #  clf = RandomForestClassifier().fit(x_train, y_train)\n",
        "     viz = plot_roc_curve(clf, x_test, y_test,\n",
        "                         name='ROC fold {}'.format(i),\n",
        "                         alpha=0.3, lw=1, ax=ax)\n",
        "     interp_tpr = np.interp(mean_fpr, viz.fpr, viz.tpr)\n",
        "     interp_tpr[0] = 0.0\n",
        "     tprs.append(interp_tpr)\n",
        "     aucs.append(viz.roc_auc)\n",
        "     y_hat= clf.predict_proba(x_test)[:,1]\n",
        "    #  y_hat= clf.predict(x_test)\n",
        "     A = roc_auc_score(y_test, y_hat)\n",
        "    #  A = roc_auc_score(y_test, clf.decision_function(x_test))\n",
        "     AUC.append(A)\n",
        "     print(\"auc = \", A)\n",
        "     precision, recall, thresholds = precision_recall_curve(y_test, y_hat)\n",
        "    #  precision, recall, thresholds = precision_recall_curve(y_test, clf.decision_function(x_test))\n",
        "     PR = auc(recall, precision)\n",
        "     AUPR.append(PR)\n",
        "     print(\"aupr = \", PR)\n",
        "     sc= clf.score(x_test, y_test)\n",
        "     score.append(sc)\n",
        "     print(\"Score = \", sc)\n",
        "     print(\"_____________________\")\n",
        "\n",
        "print(\"Mean AUC:\",mean_cal(AUC))\n",
        "print(\"Mean AUPR:\",mean_cal(AUPR))\n",
        "print(\"Mean Score:\",mean_cal(score))\n",
        "print(\"________________________\")\n",
        "\n",
        "\n",
        "ax.plot([0, 1], [0, 1], linestyle='--', lw=2, color='r',\n",
        "        label='Chance', alpha=.8)\n",
        "\n",
        "mean_tpr = np.mean(tprs, axis=0)\n",
        "mean_tpr[-1] = 1.0\n",
        "mean_auc = auc(mean_fpr, mean_tpr)\n",
        "std_auc = np.std(aucs)\n",
        "ax.plot(mean_fpr, mean_tpr, color='b',\n",
        "        label=r'Mean ROC (AUC = %0.2f $\\pm$ %0.2f)' % (mean_auc, std_auc),\n",
        "        lw=2, alpha=.8)\n",
        "\n",
        "std_tpr = np.std(tprs, axis=0)\n",
        "tprs_upper = np.minimum(mean_tpr + std_tpr, 1)\n",
        "tprs_lower = np.maximum(mean_tpr - std_tpr, 0)\n",
        "ax.fill_between(mean_fpr, tprs_lower, tprs_upper, color='grey', alpha=.2,\n",
        "                label=r'$\\pm$ 1 std. dev.')\n",
        "\n",
        "ax.set(xlim=[-0.05, 1.05], ylim=[-0.05, 1.05],\n",
        "       title=\"Receiver operating characteristic example\")\n",
        "ax.legend(loc=\"lower right\")\n",
        "plt.show()"
      ]
    },
    {
      "cell_type": "code",
      "execution_count": null,
      "metadata": {
        "colab": {
          "base_uri": "https://localhost:8080/"
        },
        "id": "HDcAG6OP3AVj",
        "outputId": "446fb272-2d7a-412f-d64d-3d432ad6dcaf"
      },
      "outputs": [
        {
          "name": "stdout",
          "output_type": "stream",
          "text": [
            "auc-roc =  0.8773833004602235\n",
            "auc-pr =  0.8337218858767923\n",
            "0.8408956997865287\n",
            "Acc =  0.7884615384615384\n",
            "              precision    recall  f1-score   support\n",
            "\n",
            "           0       0.76      0.85      0.80        78\n",
            "           1       0.83      0.73      0.78        78\n",
            "\n",
            "    accuracy                           0.79       156\n",
            "   macro avg       0.79      0.79      0.79       156\n",
            "weighted avg       0.79      0.79      0.79       156\n",
            "\n"
          ]
        }
      ],
      "source": [
        "# the main test set\n",
        "X_me = []\n",
        "Y_me = []\n",
        "for a in A_test:\n",
        "  sample = a.split(\" \")\n",
        "  dname =sample[0]\n",
        "  disname = sample[2].split(\".\")\n",
        "  X_me.append(np.concatenate((model1[(dname.rstrip().lower())], model1[(disname[0].lstrip().lower())]), axis=None))\n",
        "  Y_me.append(1)\n",
        "for idx, i in I.iterrows():\n",
        "  X_me.append(np.concatenate((model1[i.drug_id.lower()], model1[i.ind_id.lower()]), axis=None))\n",
        "  # X_me.append((model1[i.drug_id.lower()]- model1[i.ind_id.lower()]))\n",
        "  Y_me.append(0)\n",
        "\n",
        "# trainng the model on the train set and evaluate on the test set\n",
        "\n",
        "\n",
        "clf = LogisticRegression(solver=\"sag\", class_weight = 'balanced', max_iter=10000, penalty='l2').fit(X, y) \n",
        "# clf = svm.SVC(kernel=\"linear\", class_weight=\"balanced\").fit(X, y)\n",
        "# clf = DecisionTreeClassifier().fit(X, y)\n",
        "# clf = RandomForestClassifier().fit(X, y)\n",
        "\n",
        "y_hat = clf.predict_proba(X_me)[:,1]\n",
        "A = roc_auc_score(Y_me, y_hat)\n",
        "\n",
        "#  A = roc_auc_score(y_test, clf.decision_function(x_test))\n",
        "print(\"auc-roc = \", A)\n",
        "precision, recall, thresholds = precision_recall_curve(Y_me, y_hat)\n",
        "\n",
        "#  precision, recall, thresholds = precision_recall_curve(y_test, clf.decision_function(x_test))\n",
        "PR = auc(recall, precision)\n",
        "\n",
        "print(\"auc-pr = \", PR)\n",
        "print(average_precision_score(Y_me, clf.predict_proba(X_me)[:,1]))\n",
        "sc= clf.score(X_me, Y_me)\n",
        "\n",
        "print(\"Acc = \", sc)\n",
        "print(classification_report(Y_me, clf.predict(X_me)))"
      ]
    },
    {
      "cell_type": "markdown",
      "metadata": {
        "id": "P7l7mXgEGB1x"
      },
      "source": [
        "## Undersampling negative data"
      ]
    },
    {
      "cell_type": "code",
      "execution_count": null,
      "metadata": {
        "id": "YpT4Nm9Wj0pA"
      },
      "outputs": [],
      "source": [
        "neg =hasnt.copy()\n",
        "neg = neg.sample(n = has.shape[0]) #undersampling negative data randomly for training the model\n",
        "frames = [has, neg]\n",
        "\n",
        "f = pd.concat(frames)\n",
        "X=[]\n",
        "for idx, row in f.iterrows():\n",
        "  X.append(np.concatenate((model1[(row.drug_id).lower()], model1[(row.ind_id).lower()]), axis=None))\n",
        "\n"
      ]
    },
    {
      "cell_type": "code",
      "execution_count": null,
      "metadata": {
        "id": "E5y06SsRj0pb"
      },
      "outputs": [],
      "source": [
        "y=np.zeros((len(X), ))\n",
        "\n",
        "for i in range(has.shape[0]):\n",
        "  y[i]=1\n"
      ]
    },
    {
      "cell_type": "code",
      "execution_count": null,
      "metadata": {
        "colab": {
          "base_uri": "https://localhost:8080/"
        },
        "id": "h39QApRoj0pd",
        "outputId": "6ca2a25b-f2b7-4d7d-97ca-e8757ac63eb2"
      },
      "outputs": [
        {
          "name": "stdout",
          "output_type": "stream",
          "text": [
            "auc =  0.8658217925267834\n",
            "aupr =  0.896046511627907\n",
            "auc =  0.8428571428571429\n",
            "aupr =  0.8884448462929475\n",
            "auc =  0.809065934065934\n",
            "aupr =  0.8654945054945056\n",
            "auc =  0.8625816993464052\n",
            "aupr =  0.9002869352869353\n",
            "auc =  0.8636170282386048\n",
            "aupr =  0.9063544106167056\n",
            "____________________\n",
            "Mean AUC: 0.8487887194069741 \n",
            " Mean aupr: 0.8913254418638002 \n",
            " Mean acc:  0.8485714285714285\n"
          ]
        }
      ],
      "source": [
        "\n",
        "sauc=[]\n",
        "sacc=[]\n",
        "spr=[]\n",
        "for i in range(5):\n",
        "  x_train, x_test, y_train, y_test = train_test_split(X, y)\n",
        "  clf = LogisticRegression(solver=\"liblinear\", max_iter=2000).fit(x_train, y_train)\n",
        "  # clf = svm.SVC(kernel=\"linear\", class_weight=\"balanced\").fit(x_train, y_train)\n",
        "  # clf = DecisionTreeClassifier().fit(x_train, y_train)\n",
        "  # clf = RandomForestClassifier().fit(x_train, y_train)\n",
        "  # y_hat= clf.predict_proba(x_test)[:, 1]\n",
        "  y_hat= clf.predict(x_test)\n",
        "  print(\"auc = \", roc_auc_score(y_test, y_hat))\n",
        "  sauc.append(roc_auc_score(y_test, y_hat))\n",
        "  # print(\"roc-auc:\",roc_auc_score(y_test, clf.decision_function(x_test)))\n",
        "  # precision, recall, thresholds = precision_recall_curve(y_test, clf.decision_function(x_test))\n",
        "  precision, recall, thresholds = precision_recall_curve(y_test, y_hat)\n",
        "  print(\"aupr = \", auc(recall, precision))\n",
        "  spr.append(auc(recall, precision))\n",
        "  sacc.append(clf.score(x_test, y_test))\n",
        "  clf.score(x_test, y_test)\n",
        "print(\"____________________\\nMean AUC:\", mean_cal(sauc), \"\\n Mean aupr:\",mean_cal(spr),\"\\n Mean acc: \", mean_cal(sacc))"
      ]
    },
    {
      "cell_type": "code",
      "execution_count": null,
      "metadata": {
        "colab": {
          "base_uri": "https://localhost:8080/",
          "height": 462
        },
        "id": "E3m1Awt0j0ph",
        "outputId": "508c7578-e2c9-4f17-b880-d83e0f958f6b"
      },
      "outputs": [
        {
          "name": "stdout",
          "output_type": "stream",
          "text": [
            "auc =  0.886530612244898\n",
            "aupr =  0.8724821017718907\n",
            "Score =  0.8107142857142857\n",
            "_____________________\n",
            "auc =  0.9093112244897958\n",
            "aupr =  0.904382534788369\n",
            "Score =  0.8178571428571428\n",
            "_____________________\n",
            "auc =  0.9353316326530612\n",
            "aupr =  0.9245916281579591\n",
            "Score =  0.8857142857142857\n",
            "_____________________\n",
            "auc =  0.926734693877551\n",
            "aupr =  0.9190167268371268\n",
            "Score =  0.8428571428571429\n",
            "_____________________\n",
            "auc =  0.937142857142857\n",
            "aupr =  0.9438944641092724\n",
            "Score =  0.875\n",
            "_____________________\n",
            "Mean Score: 0.8464285714285715\n",
            "Mean AUC: 0.9190102040816326\n",
            "Mean AUPR: 0.9128734911329236\n",
            "________________________\n"
          ]
        },
        {
          "data": {
            "image/png": "[encoded data removed]",
            "text/plain": [
              "<Figure size 432x288 with 1 Axes>"
            ]
          },
          "metadata": {},
          "output_type": "display_data"
        }
      ],
      "source": [
        "\n",
        "skf = StratifiedKFold(n_splits=5)\n",
        "# skf.get_n_splits(X, y)\n",
        "score=[]\n",
        "AUC=[]\n",
        "AUPR=[]\n",
        "X= np.array(X)\n",
        "y=np.array(y)\n",
        "tprs = []\n",
        "aucs = []\n",
        "mean_fpr = np.linspace(0, 1, 100)\n",
        "fig, ax = plt.subplots()\n",
        "for train_index, test_index in skf.split(X, y):\n",
        "    #  print(\"TRAIN:\", train_index, \"TEST:\", test_index)\n",
        "     x_train, x_test = X[train_index], X[test_index]\n",
        "     y_train, y_test = y[train_index], y[test_index]\n",
        "     clf = LogisticRegression(solver=\"liblinear\", class_weight = 'balanced').fit(x_train, y_train)\n",
        "    #  clf = svm.SVC(kernel=\"linear\", class_weight=\"balanced\").fit(x_train, y_train)\n",
        "    #  clf = DecisionTreeClassifier().fit(x_train, y_train)\n",
        "    #  clf = RandomForestClassifier().fit(x_train, y_train)\n",
        "     viz = plot_roc_curve(clf, x_test, y_test,\n",
        "                         name='ROC fold {}'.format(i),\n",
        "                         alpha=0.3, lw=1, ax=ax)\n",
        "     interp_tpr = np.interp(mean_fpr, viz.fpr, viz.tpr)\n",
        "     interp_tpr[0] = 0.0\n",
        "     tprs.append(interp_tpr)\n",
        "     aucs.append(viz.roc_auc)\n",
        "     y_hat= clf.predict_proba(x_test)[:,1]\n",
        "    #  y_hat= clf.predict(x_test)\n",
        "     A = roc_auc_score(y_test, y_hat)\n",
        "    #  A = roc_auc_score(y_test, clf.decision_function(x_test))\n",
        "     AUC.append(A)\n",
        "     print(\"auc = \", A)\n",
        "     precision, recall, thresholds = precision_recall_curve(y_test, y_hat)\n",
        "    #  precision, recall, thresholds = precision_recall_curve(y_test, clf.decision_function(x_test))\n",
        "     PR = auc(recall, precision)\n",
        "     AUPR.append(PR)\n",
        "     print(\"aupr = \", PR)\n",
        "     sc= clf.score(x_test, y_test)\n",
        "     score.append(sc)\n",
        "     print(\"Score = \", sc)\n",
        "     print(\"_____________________\")\n",
        "print(\"Mean Score:\",mean_cal(score))\n",
        "print(\"Mean AUC:\",mean_cal(AUC))\n",
        "print(\"Mean AUPR:\",mean_cal(AUPR))\n",
        "print(\"________________________\")\n",
        "\n",
        "\n",
        "ax.plot([0, 1], [0, 1], linestyle='--', lw=2, color='r',\n",
        "        label='Chance', alpha=.8)\n",
        "\n",
        "mean_tpr = np.mean(tprs, axis=0)\n",
        "mean_tpr[-1] = 1.0\n",
        "mean_auc = auc(mean_fpr, mean_tpr)\n",
        "std_auc = np.std(aucs)\n",
        "ax.plot(mean_fpr, mean_tpr, color='b',\n",
        "        label=r'Mean ROC (AUC = %0.2f $\\pm$ %0.2f)' % (mean_auc, std_auc),\n",
        "        lw=2, alpha=.8)\n",
        "\n",
        "std_tpr = np.std(tprs, axis=0)\n",
        "tprs_upper = np.minimum(mean_tpr + std_tpr, 1)\n",
        "tprs_lower = np.maximum(mean_tpr - std_tpr, 0)\n",
        "ax.fill_between(mean_fpr, tprs_lower, tprs_upper, color='grey', alpha=.2,\n",
        "                label=r'$\\pm$ 1 std. dev.')\n",
        "\n",
        "ax.set(xlim=[-0.05, 1.05], ylim=[-0.05, 1.05],\n",
        "       title=\"Receiver operating characteristic example\")\n",
        "ax.legend(loc=\"lower right\")\n",
        "plt.show()"
      ]
    },
    {
      "cell_type": "code",
      "execution_count": null,
      "metadata": {
        "id": "cLe8bNKy4HVM"
      },
      "outputs": [],
      "source": [
        "# the main test set\n",
        "X_me = []\n",
        "Y_me = []\n",
        "for a in A_test:\n",
        "  sample = a.split(\" \")\n",
        "  dname =sample[0]\n",
        "  disname = sample[2].split(\".\")\n",
        "  X_me.append(np.concatenate((model1[(dname.rstrip().lower())], model1[(disname[0].lstrip().lower())]), axis=None))\n",
        "  Y_me.append(1)\n",
        "for idx, i in I.iterrows():\n",
        "  X_me.append(np.concatenate((model1[i.drug_id.lower()], model1[i.ind_id.lower()]), axis=None))\n",
        "  # X_me.append((model1[i.drug_id.lower()]- model1[i.ind_id.lower()]))\n",
        "  Y_me.append(0)\n",
        "\n",
        "# trainng the model on the train set and evaluate on the test set\n",
        "\n",
        "\n",
        "clf = LogisticRegression(solver=\"sag\", class_weight = 'balanced', max_iter=10000, penalty='l2').fit(X, y) \n",
        "# clf = svm.SVC(kernel=\"linear\", class_weight=\"balanced\").fit(X, y)\n",
        "# clf = DecisionTreeClassifier().fit(X, y)\n",
        "# clf = RandomForestClassifier().fit(X, y)\n",
        "\n",
        "y_hat = clf.predict_proba(X_me)[:,1]\n",
        "A = roc_auc_score(Y_me, y_hat)\n",
        "\n",
        "#  A = roc_auc_score(y_test, clf.decision_function(x_test))\n",
        "print(\"auc-roc = \", A)\n",
        "precision, recall, thresholds = precision_recall_curve(Y_me, y_hat)\n",
        "\n",
        "#  precision, recall, thresholds = precision_recall_curve(y_test, clf.decision_function(x_test))\n",
        "PR = auc(recall, precision)\n",
        "\n",
        "print(\"auc-pr = \", PR)\n",
        "print(average_precision_score(Y_me, clf.predict_proba(X_me)[:,1]))\n",
        "sc= clf.score(X_me, Y_me)\n",
        "\n",
        "print(\"Acc = \", sc)\n",
        "print(classification_report(Y_me, clf.predict(X_me)))"
      ]
    },
    {
      "cell_type": "markdown",
      "metadata": {
        "id": "htEeiKjGBxLC"
      },
      "source": [
        "## Upsampling positive data"
      ]
    },
    {
      "cell_type": "code",
      "execution_count": null,
      "metadata": {
        "id": "9HEMz0JdCFOH"
      },
      "outputs": [],
      "source": [
        "\n",
        "frames = [has, hasnt]\n",
        "\n",
        "f = pd.concat(frames)\n",
        "X=[]\n",
        "for idx, row in f.iterrows():\n",
        "  X.append(np.concatenate((model1[(row.drug_id).lower()], model1[(row.ind_id).lower()]), axis=None))\n",
        "\n"
      ]
    },
    {
      "cell_type": "code",
      "execution_count": null,
      "metadata": {
        "id": "dmDjEzh8CFOV"
      },
      "outputs": [],
      "source": [
        "y=np.zeros((len(X), ))\n",
        "\n",
        "for i in range(has.shape[0]):\n",
        "  y[i]=1\n"
      ]
    },
    {
      "cell_type": "code",
      "execution_count": null,
      "metadata": {
        "id": "8TA_K9MjFMqG"
      },
      "outputs": [],
      "source": [
        "from imblearn.over_sampling import SMOTE, RandomOverSampler\n",
        "oversample = SMOTE() # over sampling positive by SMOTE\n",
        "# oversample = RandomOverSampler()\n",
        "X, y = oversample.fit_resample(X, y)"
      ]
    },
    {
      "cell_type": "code",
      "execution_count": null,
      "metadata": {
        "colab": {
          "base_uri": "https://localhost:8080/"
        },
        "id": "AyQ4Fb3oCFOX",
        "outputId": "a434f2da-200e-4a61-f817-3d1168b37d5d"
      },
      "outputs": [
        {
          "name": "stdout",
          "output_type": "stream",
          "text": [
            "auc =  0.9320404646270226\n",
            "aupr =  0.9360361522730384\n",
            "auc =  0.9395595775960988\n",
            "aupr =  0.9222376829984636\n",
            "auc =  0.9413940740209952\n",
            "aupr =  0.942806396986836\n",
            "auc =  0.9265233936564577\n",
            "aupr =  0.9206655049244393\n",
            "auc =  0.9302913551077759\n",
            "aupr =  0.920755103988498\n",
            "____________________\n",
            "Mean AUC: 0.93396177300167 \n",
            " Mean aupr: 0.928500168234255 \n",
            " Mean acc:  0.8553911205073996\n"
          ]
        }
      ],
      "source": [
        "\n",
        "\n",
        "sauc=[]\n",
        "sacc=[]\n",
        "spr=[]\n",
        "for i in range(5):\n",
        "  \n",
        "  x_train, x_test, y_train, y_test = train_test_split(X, y)\n",
        "  clf = LogisticRegression(solver=\"liblinear\", max_iter=2000).fit(x_train, y_train)\n",
        "  # clf = svm.SVC(kernel=\"linear\", class_weight=\"balanced\").fit(x_train, y_train)\n",
        "  # clf = DecisionTreeClassifier().fit(x_train, y_train)\n",
        "  # clf = RandomForestClassifier().fit(x_train, y_train)\n",
        "  y_hat= clf.predict_proba(x_test)[:, 1]\n",
        "  # y_hat= clf.predict(x_test)\n",
        "  print(\"auc = \", roc_auc_score(y_test, y_hat))\n",
        "  sauc.append(roc_auc_score(y_test, y_hat))\n",
        "  # print(\"roc-auc:\",roc_auc_score(y_test, clf.decision_function(x_test)))\n",
        "  # precision, recall, thresholds = precision_recall_curve(y_test, clf.decision_function(x_test))\n",
        "  precision, recall, thresholds = precision_recall_curve(y_test, y_hat)\n",
        "  print(\"aupr = \", auc(recall, precision))\n",
        "  spr.append(auc(recall, precision))\n",
        "  sacc.append(clf.score(x_test, y_test))\n",
        "  clf.score(x_test, y_test)\n",
        "print(\"____________________\\nMean AUC:\", mean_cal(sauc), \"\\n Mean aupr:\",mean_cal(spr),\"\\n Mean acc: \", mean_cal(sacc))"
      ]
    },
    {
      "cell_type": "code",
      "execution_count": null,
      "metadata": {
        "id": "UOzLOpbpCFOb"
      },
      "outputs": [],
      "source": [
        "skf = StratifiedKFold(n_splits=5)\n",
        "# skf.get_n_splits(X, y)\n",
        "score=[]\n",
        "AUC=[]\n",
        "AUPR=[]\n",
        "X= np.array(X)\n",
        "y=np.array(y)\n",
        "tprs = []\n",
        "aucs = []\n",
        "mean_fpr = np.linspace(0, 1, 100)\n",
        "fig, ax = plt.subplots()\n",
        "for train_index, test_index in skf.split(X, y):\n",
        "    #  print(\"TRAIN:\", train_index, \"TEST:\", test_index)\n",
        "     x_train, x_test = X[train_index], X[test_index]\n",
        "     y_train, y_test = y[train_index], y[test_index]\n",
        "     clf = LogisticRegression(solver=\"liblinear\", class_weight = 'balanced').fit(x_train, y_train)\n",
        "    #  clf = DecisionTreeClassifier().fit(x_train, y_train)\n",
        "    #  clf = svm.SVC(kernel=\"linear\", class_weight=\"balanced\").fit(x_train, y_train)\n",
        "    #  clf = RandomForestClassifier().fit(x_train, y_train)\n",
        "     viz = plot_roc_curve(clf, x_test, y_test,\n",
        "                         name='ROC fold {}'.format(i),\n",
        "                         alpha=0.3, lw=1, ax=ax)\n",
        "     interp_tpr = np.interp(mean_fpr, viz.fpr, viz.tpr)\n",
        "     interp_tpr[0] = 0.0\n",
        "     tprs.append(interp_tpr)\n",
        "     aucs.append(viz.roc_auc)\n",
        "     y_hat= clf.predict_proba(x_test)[:,1]\n",
        "    #  y_hat= clf.predict(x_test)\n",
        "     A = roc_auc_score(y_test, y_hat)\n",
        "    #  A = roc_auc_score(y_test, clf.decision_function(x_test))\n",
        "     AUC.append(A)\n",
        "     print(\"auc = \", A)\n",
        "     precision, recall, thresholds = precision_recall_curve(y_test, y_hat)\n",
        "    #  precision, recall, thresholds = precision_recall_curve(y_test, clf.decision_function(x_test))\n",
        "     PR = auc(recall, precision)\n",
        "     AUPR.append(PR)\n",
        "     print(\"aupr = \", PR)\n",
        "     sc= clf.score(x_test, y_test)\n",
        "     score.append(sc)\n",
        "     print(\"Score = \", sc)\n",
        "     print(\"_____________________\")\n",
        "print(\"Mean Score:\",mean_cal(score))\n",
        "print(\"Mean AUC:\",mean_cal(AUC))\n",
        "print(\"Mean AUPR:\",mean_cal(AUPR))\n",
        "print(\"________________________\")\n",
        "\n",
        "\n",
        "ax.plot([0, 1], [0, 1], linestyle='--', lw=2, color='r',\n",
        "        label='Chance', alpha=.8)\n",
        "\n",
        "mean_tpr = np.mean(tprs, axis=0)\n",
        "mean_tpr[-1] = 1.0\n",
        "mean_auc = auc(mean_fpr, mean_tpr)\n",
        "std_auc = np.std(aucs)\n",
        "ax.plot(mean_fpr, mean_tpr, color='b',\n",
        "        label=r'Mean ROC (AUC = %0.2f $\\pm$ %0.2f)' % (mean_auc, std_auc),\n",
        "        lw=2, alpha=.8)\n",
        "\n",
        "std_tpr = np.std(tprs, axis=0)\n",
        "tprs_upper = np.minimum(mean_tpr + std_tpr, 1)\n",
        "tprs_lower = np.maximum(mean_tpr - std_tpr, 0)\n",
        "ax.fill_between(mean_fpr, tprs_lower, tprs_upper, color='grey', alpha=.2,\n",
        "                label=r'$\\pm$ 1 std. dev.')\n",
        "\n",
        "ax.set(xlim=[-0.05, 1.05], ylim=[-0.05, 1.05],\n",
        "       title=\"Receiver operating characteristic example\")\n",
        "ax.legend(loc=\"lower right\")\n",
        "plt.show()"
      ]
    },
    {
      "cell_type": "code",
      "execution_count": null,
      "metadata": {
        "id": "wCTUv6z-47IT"
      },
      "outputs": [],
      "source": [
        "# the main test set\n",
        "X_me = []\n",
        "Y_me = []\n",
        "for a in A_test:\n",
        "  sample = a.split(\" \")\n",
        "  dname =sample[0]\n",
        "  disname = sample[2].split(\".\")\n",
        "  X_me.append(np.concatenate((model1[(dname.rstrip().lower())], model1[(disname[0].lstrip().lower())]), axis=None))\n",
        "  Y_me.append(1)\n",
        "for idx, i in I.iterrows():\n",
        "  X_me.append(np.concatenate((model1[i.drug_id.lower()], model1[i.ind_id.lower()]), axis=None))\n",
        "  # X_me.append((model1[i.drug_id.lower()]- model1[i.ind_id.lower()]))\n",
        "  Y_me.append(0)\n",
        "\n",
        "# trainng the model on the train set and evaluate on the test set\n",
        "\n",
        "\n",
        "clf = LogisticRegression(solver=\"sag\", class_weight = 'balanced', max_iter=10000, penalty='l2').fit(X, y) \n",
        "# clf = svm.SVC(kernel=\"linear\", class_weight=\"balanced\").fit(X, y)\n",
        "# clf = DecisionTreeClassifier().fit(X, y)\n",
        "# clf = RandomForestClassifier().fit(X, y)\n",
        "\n",
        "y_hat = clf.predict_proba(X_me)[:,1]\n",
        "A = roc_auc_score(Y_me, y_hat)\n",
        "\n",
        "#  A = roc_auc_score(y_test, clf.decision_function(x_test))\n",
        "print(\"auc-roc = \", A)\n",
        "precision, recall, thresholds = precision_recall_curve(Y_me, y_hat)\n",
        "\n",
        "#  precision, recall, thresholds = precision_recall_curve(y_test, clf.decision_function(x_test))\n",
        "PR = auc(recall, precision)\n",
        "\n",
        "print(\"auc-pr = \", PR)\n",
        "print(average_precision_score(Y_me, clf.predict_proba(X_me)[:,1]))\n",
        "sc= clf.score(X_me, Y_me)\n",
        "\n",
        "print(\"Acc = \", sc)\n",
        "print(classification_report(Y_me, clf.predict(X_me)))"
      ]
    },
    {
      "cell_type": "markdown",
      "metadata": {
        "id": "D1GhuQZ-I5-F"
      },
      "source": [
        "## First oversample, Next Undersample"
      ]
    },
    {
      "cell_type": "code",
      "execution_count": null,
      "metadata": {
        "id": "yK9NaneRI_t9"
      },
      "outputs": [],
      "source": [
        "\n",
        "frames = [has, hasnt]\n",
        "\n",
        "f = pd.concat(frames)\n",
        "X=[]\n",
        "for idx, row in f.iterrows():\n",
        "  X.append(np.concatenate((model1[(row.drug_id).lower()], model1[(row.ind_id).lower()]), axis=None))\n",
        "\n"
      ]
    },
    {
      "cell_type": "code",
      "execution_count": null,
      "metadata": {
        "id": "QSkx3VoFI_uA"
      },
      "outputs": [],
      "source": [
        "y=np.zeros((len(X), ))\n",
        "\n",
        "for i in range(has.shape[0]):\n",
        "  y[i]=1\n"
      ]
    },
    {
      "cell_type": "code",
      "execution_count": null,
      "metadata": {
        "id": "dkLSCcH4I_uB"
      },
      "outputs": [],
      "source": [
        "from imblearn.over_sampling import SMOTE, RandomOverSampler\n",
        "from imblearn.under_sampling import RandomUnderSampler\n",
        "over = SMOTE(0.9)\n",
        "# over = RandomOverSampler(0.9)\n",
        "under = RandomUnderSampler()\n",
        "X, y = over.fit_resample(X,y)\n",
        "print(len(X))\n",
        "X,y = under.fit_resample(X,y)\n",
        "print(len(X))"
      ]
    },
    {
      "cell_type": "code",
      "execution_count": null,
      "metadata": {
        "id": "zlwHR2XwI_uD"
      },
      "outputs": [],
      "source": [
        "sauc=[]\n",
        "sacc=[]\n",
        "spr=[]\n",
        "for i in range(5):\n",
        "  x_train, x_test, y_train, y_test = train_test_split(X, y)\n",
        "  clf = LogisticRegression(solver=\"sag\", max_iter=2000).fit(x_train, y_train)\n",
        "  # clf = svm.SVC(kernel=\"linear\", class_weight=\"balanced\").fit(x_train, y_train)\n",
        "  # clf = DecisionTreeClassifier().fit(x_train, y_train)\n",
        "  # clf = RandomForestClassifier().fit(x_train, y_train)\n",
        "  y_hat= clf.predict_proba(x_test)[:, 1]\n",
        "  # y_hat= clf.predict(x_test)\n",
        "  print(\"auc = \", roc_auc_score(y_test, y_hat))\n",
        "  sauc.append(roc_auc_score(y_test, y_hat))\n",
        "  # print(\"roc-auc:\",roc_auc_score(y_test, clf.decision_function(x_test)))\n",
        "  # precision, recall, thresholds = precision_recall_curve(y_test, clf.decision_function(x_test))\n",
        "  precision, recall, thresholds = precision_recall_curve(y_test, y_hat)\n",
        "  print(\"aupr = \", auc(recall, precision))\n",
        "  spr.append(auc(recall, precision))\n",
        "  sacc.append(clf.score(x_test, y_test))\n",
        "  clf.score(x_test, y_test)\n",
        "print(\"____________________\\nMean AUC:\", mean_cal(sauc), \"\\n Mean aupr:\",mean_cal(spr),\"\\n Mean acc: \", mean_cal(sacc))"
      ]
    },
    {
      "cell_type": "code",
      "execution_count": null,
      "metadata": {
        "colab": {
          "base_uri": "https://localhost:8080/",
          "height": 462
        },
        "id": "OFbASiedI_uF",
        "outputId": "0c72a4b4-f4d1-45f5-d9d8-6c04f5be08ad"
      },
      "outputs": [
        {
          "name": "stdout",
          "output_type": "stream",
          "text": [
            "auc =  0.9197688459548043\n",
            "aupr =  0.9149094591146093\n",
            "Score =  0.8340675477239354\n",
            "_____________________\n",
            "auc =  0.939878385371744\n",
            "aupr =  0.9358710569583854\n",
            "Score =  0.8707782672540382\n",
            "_____________________\n",
            "auc =  0.9458477508650519\n",
            "aupr =  0.9432159477564772\n",
            "Score =  0.8632352941176471\n",
            "_____________________\n",
            "auc =  0.9284429065743943\n",
            "aupr =  0.9230172070222364\n",
            "Score =  0.8573529411764705\n",
            "_____________________\n",
            "auc =  0.9325\n",
            "aupr =  0.9198595139432404\n",
            "Score =  0.8426470588235294\n",
            "_____________________\n",
            "Mean Score: 0.8536162218191242\n",
            "Mean AUC: 0.9332875777531988\n",
            "Mean AUPR: 0.9273746369589897\n",
            "________________________\n"
          ]
        },
        {
          "data": {
            "image/png": "[encoded data removed]",
            "text/plain": [
              "<Figure size 432x288 with 1 Axes>"
            ]
          },
          "metadata": {},
          "output_type": "display_data"
        }
      ],
      "source": [
        "skf = StratifiedKFold(n_splits=5)\n",
        "# skf.get_n_splits(X, y)\n",
        "score=[]\n",
        "AUC=[]\n",
        "AUPR=[]\n",
        "X= np.array(X)\n",
        "y=np.array(y)\n",
        "tprs = []\n",
        "aucs = []\n",
        "mean_fpr = np.linspace(0, 1, 100)\n",
        "fig, ax = plt.subplots()\n",
        "for train_index, test_index in skf.split(X, y):\n",
        "    #  print(\"TRAIN:\", train_index, \"TEST:\", test_index)\n",
        "     x_train, x_test = X[train_index], X[test_index]\n",
        "     y_train, y_test = y[train_index], y[test_index]\n",
        "     clf = LogisticRegression(solver=\"liblinear\", class_weight = 'balanced', max_iter=10000).fit(x_train, y_train)\n",
        "    #  clf = DecisionTreeClassifier().fit(x_train, y_train)\n",
        "    #  clf = svm.SVC(kernel=\"linear\", class_weight=\"balanced\").fit(x_train, y_train)\n",
        "    #  clf = RandomForestClassifier().fit(x_train, y_train)\n",
        "     viz = plot_roc_curve(clf, x_test, y_test,\n",
        "                         name='ROC fold {}'.format(i),\n",
        "                         alpha=0.3, lw=1, ax=ax)\n",
        "     interp_tpr = np.interp(mean_fpr, viz.fpr, viz.tpr)\n",
        "     interp_tpr[0] = 0.0\n",
        "     tprs.append(interp_tpr)\n",
        "     aucs.append(viz.roc_auc)\n",
        "     y_hat= clf.predict_proba(x_test)[:,1]\n",
        "    #  y_hat= clf.predict(x_test)\n",
        "     A = roc_auc_score(y_test, y_hat)\n",
        "    #  A = roc_auc_score(y_test, clf.decision_function(x_test))\n",
        "     AUC.append(A)\n",
        "     print(\"auc = \", A)\n",
        "     precision, recall, thresholds = precision_recall_curve(y_test, y_hat)\n",
        "    #  precision, recall, thresholds = precision_recall_curve(y_test, clf.decision_function(x_test))\n",
        "     PR = auc(recall, precision)\n",
        "     AUPR.append(PR)\n",
        "     print(\"aupr = \", PR)\n",
        "     sc= clf.score(x_test, y_test)\n",
        "     score.append(sc)\n",
        "     print(\"Score = \", sc)\n",
        "     print(\"_____________________\")\n",
        "print(\"Mean Score:\",mean_cal(score))\n",
        "print(\"Mean AUC:\",mean_cal(AUC))\n",
        "print(\"Mean AUPR:\",mean_cal(AUPR))\n",
        "print(\"________________________\")\n",
        "\n",
        "\n",
        "ax.plot([0, 1], [0, 1], linestyle='--', lw=2, color='r',\n",
        "        label='Chance', alpha=.8)\n",
        "\n",
        "mean_tpr = np.mean(tprs, axis=0)\n",
        "mean_tpr[-1] = 1.0\n",
        "mean_auc = auc(mean_fpr, mean_tpr)\n",
        "std_auc = np.std(aucs)\n",
        "ax.plot(mean_fpr, mean_tpr, color='b',\n",
        "        label=r'Mean ROC (AUC = %0.2f $\\pm$ %0.2f)' % (mean_auc, std_auc),\n",
        "        lw=2, alpha=.8)\n",
        "\n",
        "std_tpr = np.std(tprs, axis=0)\n",
        "tprs_upper = np.minimum(mean_tpr + std_tpr, 1)\n",
        "tprs_lower = np.maximum(mean_tpr - std_tpr, 0)\n",
        "ax.fill_between(mean_fpr, tprs_lower, tprs_upper, color='grey', alpha=.2,\n",
        "                label=r'$\\pm$ 1 std. dev.')\n",
        "\n",
        "ax.set(xlim=[-0.05, 1.05], ylim=[-0.05, 1.05],\n",
        "       title=\"Receiver operating characteristic example\")\n",
        "ax.legend(loc=\"lower right\")\n",
        "plt.show()"
      ]
    },
    {
      "cell_type": "code",
      "execution_count": null,
      "metadata": {
        "colab": {
          "base_uri": "https://localhost:8080/"
        },
        "id": "RCeuHVIM5cHE",
        "outputId": "8821582e-7684-47bc-a4d5-71cf9b4ef7fb"
      },
      "outputs": [
        {
          "name": "stdout",
          "output_type": "stream",
          "text": [
            "auc-roc =  0.8788625904010519\n",
            "auc-pr =  0.833675658852325\n",
            "0.8408655869538266\n",
            "Acc =  0.782051282051282\n",
            "              precision    recall  f1-score   support\n",
            "\n",
            "           0       0.76      0.83      0.79        78\n",
            "           1       0.81      0.73      0.77        78\n",
            "\n",
            "    accuracy                           0.78       156\n",
            "   macro avg       0.79      0.78      0.78       156\n",
            "weighted avg       0.79      0.78      0.78       156\n",
            "\n"
          ]
        }
      ],
      "source": [
        "# the main test set\n",
        "X_me = []\n",
        "Y_me = []\n",
        "for a in A_test:\n",
        "  sample = a.split(\" \")\n",
        "  dname =sample[0]\n",
        "  disname = sample[2].split(\".\")\n",
        "  X_me.append(np.concatenate((model1[(dname.rstrip().lower())], model1[(disname[0].lstrip().lower())]), axis=None))\n",
        "  Y_me.append(1)\n",
        "for idx, i in I.iterrows():\n",
        "  X_me.append(np.concatenate((model1[i.drug_id.lower()], model1[i.ind_id.lower()]), axis=None))\n",
        "  # X_me.append((model1[i.drug_id.lower()]- model1[i.ind_id.lower()]))\n",
        "  Y_me.append(0)\n",
        "\n",
        "# trainng the model on the train set and evaluate on the test set\n",
        "\n",
        "\n",
        "clf = LogisticRegression(solver=\"sag\", class_weight = 'balanced', max_iter=10000, penalty='l2').fit(X, y) \n",
        "# clf = svm.SVC(kernel=\"linear\", class_weight=\"balanced\").fit(X, y)\n",
        "# clf = DecisionTreeClassifier().fit(X, y)\n",
        "# clf = RandomForestClassifier().fit(X, y)\n",
        "\n",
        "y_hat = clf.predict_proba(X_me)[:,1]\n",
        "A = roc_auc_score(Y_me, y_hat)\n",
        "\n",
        "#  A = roc_auc_score(y_test, clf.decision_function(x_test))\n",
        "print(\"auc-roc = \", A)\n",
        "precision, recall, thresholds = precision_recall_curve(Y_me, y_hat)\n",
        "\n",
        "#  precision, recall, thresholds = precision_recall_curve(y_test, clf.decision_function(x_test))\n",
        "PR = auc(recall, precision)\n",
        "\n",
        "print(\"auc-pr = \", PR)\n",
        "print(average_precision_score(Y_me, clf.predict_proba(X_me)[:,1]))\n",
        "sc= clf.score(X_me, Y_me)\n",
        "\n",
        "print(\"Acc = \", sc)\n",
        "print(classification_report(Y_me, clf.predict(X_me)))"
      ]
    },
    {
      "cell_type": "markdown",
      "metadata": {
        "id": "EEqC_NBhyygv"
      },
      "source": [
        "#Test the model on \n",
        "rf+ovun+5+150+concat\n"
      ]
    },
    {
      "cell_type": "code",
      "execution_count": null,
      "metadata": {
        "id": "rbO4HZ52EDFB"
      },
      "outputs": [],
      "source": [
        "\n",
        "frames = [has, hasnt]\n",
        "\n",
        "f = pd.concat(frames)\n",
        "X=[]\n",
        "for idx, row in f.iterrows():\n",
        "  X.append(np.concatenate((model1[(row.drug_id).lower()], model1[(row.ind_id).lower()]), axis=None))\n",
        "\n"
      ]
    },
    {
      "cell_type": "code",
      "execution_count": null,
      "metadata": {
        "id": "47vDSGjzEDFC"
      },
      "outputs": [],
      "source": [
        "y=np.zeros((len(X), ))\n",
        "\n",
        "for i in range(has.shape[0]):\n",
        "  y[i]=1\n"
      ]
    },
    {
      "cell_type": "code",
      "execution_count": null,
      "metadata": {
        "colab": {
          "base_uri": "https://localhost:8080/"
        },
        "id": "BETCuayGEDFC",
        "outputId": "6a6d76df-0273-4524-c877-5e93028e01bd"
      },
      "outputs": [
        {
          "name": "stdout",
          "output_type": "stream",
          "text": [
            "3592\n",
            "3402\n"
          ]
        }
      ],
      "source": [
        "from imblearn.over_sampling import SMOTE, RandomOverSampler\n",
        "from imblearn.under_sampling import RandomUnderSampler\n",
        "over = SMOTE(0.9)\n",
        "# over = RandomOverSampler(0.9)\n",
        "under = RandomUnderSampler()\n",
        "X, y = over.fit_resample(X,y)\n",
        "print(len(X))\n",
        "X,y = under.fit_resample(X,y)\n",
        "print(len(X))"
      ]
    },
    {
      "cell_type": "code",
      "execution_count": null,
      "metadata": {
        "id": "S7H8tVRkKCU7"
      },
      "outputs": [],
      "source": [
        "X_me = []\n",
        "Y_me = []\n",
        "for a in A_test:\n",
        "  sample = a.split(\" \")\n",
        "  dname =sample[0]\n",
        "  disname = sample[2].split(\".\")\n",
        "  X_me.append(np.concatenate((model1[(dname.rstrip().lower())], model1[(disname[0].lstrip().lower())]), axis=None))\n",
        "  # X_me.append((model1[(dname.rstrip().lower())]- model1[(disname[0].lstrip().lower())]))\n",
        "  Y_me.append(1)\n",
        "for idx, i in I.iterrows():\n",
        "  X_me.append(np.concatenate((model1[i.drug_id.lower()], model1[i.ind_id.lower()]), axis=None))\n",
        "  # X_me.append((model1[i.drug_id.lower()]- model1[i.ind_id.lower()]))\n",
        "  Y_me.append(0)"
      ]
    },
    {
      "cell_type": "code",
      "execution_count": null,
      "metadata": {
        "colab": {
          "base_uri": "https://localhost:8080/"
        },
        "id": "Isru2QiuwOb4",
        "outputId": "fc2c56c3-ed1b-4843-ea1b-cd2593481811"
      },
      "outputs": [
        {
          "name": "stdout",
          "output_type": "stream",
          "text": [
            "auc =  0.8782051282051282\n",
            "aupr =  0.8343833283168789\n",
            "0.8415509167417345\n",
            "Score =  0.7948717948717948\n",
            "              precision    recall  f1-score   support\n",
            "\n",
            "           0       0.77      0.85      0.80        78\n",
            "           1       0.83      0.74      0.78        78\n",
            "\n",
            "    accuracy                           0.79       156\n",
            "   macro avg       0.80      0.79      0.79       156\n",
            "weighted avg       0.80      0.79      0.79       156\n",
            "\n"
          ]
        }
      ],
      "source": [
        "clf = LogisticRegression(solver=\"sag\", class_weight = 'balanced', max_iter=10000, penalty='l2').fit(X, y) # penalti should be changed\n",
        "# clf = svm.SVC(kernel=\"linear\", class_weight=\"balanced\").fit(X, y)\n",
        "# clf = DecisionTreeClassifier().fit(X, y)\n",
        "# clf = RandomForestClassifier().fit(X, y)\n",
        "\n",
        "y_hat = clf.predict_proba(X_me)[:,1]\n",
        "A = roc_auc_score(Y_me, y_hat)\n",
        "\n",
        "#  A = roc_auc_score(y_test, clf.decision_function(x_test))\n",
        "print(\"auc = \", A)\n",
        "precision, recall, thresholds = precision_recall_curve(Y_me, y_hat)\n",
        "\n",
        "#  precision, recall, thresholds = precision_recall_curve(y_test, clf.decision_function(x_test))\n",
        "PR = auc(recall, precision)\n",
        "\n",
        "print(\"aupr = \", PR)\n",
        "print(average_precision_score(Y_me, clf.predict_proba(X_me)[:,1]))\n",
        "sc= clf.score(X_me, Y_me)\n",
        "\n",
        "print(\"Score = \", sc)\n",
        "print(classification_report(Y_me, clf.predict(X_me)))"
      ]
    },
    {
      "cell_type": "code",
      "execution_count": null,
      "metadata": {
        "colab": {
          "base_uri": "https://localhost:8080/",
          "height": 1000
        },
        "id": "Tn-bqlCAFaqy",
        "outputId": "98f59b12-0def-4faf-dfc4-9d9e417e1f8b"
      },
      "outputs": [
        {
          "name": "stdout",
          "output_type": "stream",
          "text": [
            "auc =  0.8790269559500329\n",
            "aupr =  0.8366357006988545\n",
            "Score =  0.7884615384615384\n",
            "_____________________\n",
            "auc =  0.8782051282051282\n",
            "aupr =  0.8361861068845176\n",
            "Score =  0.782051282051282\n",
            "_____________________\n",
            "auc =  0.8800131492439185\n",
            "aupr =  0.8368043618774486\n",
            "Score =  0.7948717948717948\n",
            "_____________________\n",
            "auc =  0.8754109138724523\n",
            "aupr =  0.8342868654068767\n",
            "Score =  0.8012820512820513\n",
            "_____________________\n",
            "auc =  0.8791913214990138\n",
            "aupr =  0.8349816682940633\n",
            "Score =  0.7884615384615384\n",
            "_____________________\n",
            "auc =  0.8775476660092045\n",
            "aupr =  0.8338139409397762\n",
            "Score =  0.8012820512820513\n",
            "_____________________\n",
            "auc =  0.8780407626561473\n",
            "aupr =  0.8347037378335262\n",
            "Score =  0.7884615384615384\n",
            "_____________________\n",
            "auc =  0.8767258382642997\n",
            "aupr =  0.8338727169823523\n",
            "Score =  0.7884615384615384\n",
            "_____________________\n",
            "auc =  0.8767258382642998\n",
            "aupr =  0.8349353096805588\n",
            "Score =  0.7948717948717948\n",
            "_____________________\n",
            "auc =  0.8777120315581854\n",
            "aupr =  0.8349957473632158\n",
            "Score =  0.7756410256410257\n",
            "_____________________\n",
            "Mean Score: 0.7903846153846154\n",
            "Mean AUC: 0.8778599605522684\n",
            "Mean AUPR: 0.835121615596119\n",
            "________________________\n"
          ]
        },
        {
          "data": {
            "image/png": "[encoded data removed]",
            "text/plain": [
              "<Figure size 432x288 with 1 Axes>"
            ]
          },
          "metadata": {},
          "output_type": "display_data"
        }
      ],
      "source": [
        "skf = StratifiedKFold(n_splits=10)\n",
        "# skf.get_n_splits(X, y)\n",
        "score=[]\n",
        "AUC=[]\n",
        "AUPR=[]\n",
        "X= np.array(X)\n",
        "y=np.array(y)\n",
        "tprs = []\n",
        "aucs = []\n",
        "final_result = []\n",
        "mean_fpr = np.linspace(0, 1, 100)\n",
        "fig, ax = plt.subplots()\n",
        "for train_index, test_index in skf.split(X, y):\n",
        "    #  print(\"TRAIN:\", train_index, \"TEST:\", test_index)\n",
        "     x_train, x_test = X[train_index], X[test_index]\n",
        "     y_train, y_test = y[train_index], y[test_index]\n",
        "     clf = LogisticRegression(solver=\"sag\", class_weight = 'balanced', max_iter=10000).fit(x_train, y_train)\n",
        "    #  clf = DecisionTreeClassifier().fit(x_train, y_train)\n",
        "    #  clf = svm.SVC(kernel=\"linear\", class_weight=\"balanced\").fit(x_train, y_train)\n",
        "    #  clf = RandomForestClassifier().fit(x_train, y_train)\n",
        "     viz = plot_roc_curve(clf, X_me, Y_me,\n",
        "                         name='ROC fold {}'.format(i),\n",
        "                         alpha=0.3, lw=1, ax=ax)\n",
        "     interp_tpr = np.interp(mean_fpr, viz.fpr, viz.tpr)\n",
        "     interp_tpr[0] = 0.0\n",
        "     tprs.append(interp_tpr)\n",
        "     aucs.append(viz.roc_auc)\n",
        "     y_hat= clf.predict_proba(X_me)[:,1]\n",
        "    #  y_hat= clf.predict(X_me)\n",
        "     final_result.append(y_hat)\n",
        "     \n",
        "     A = roc_auc_score(Y_me, y_hat)\n",
        "    #  A = roc_auc_score(y_test, clf.decision_function(x_test))\n",
        "     AUC.append(A)\n",
        "     print(\"auc = \", A)\n",
        "     precision, recall, thresholds = precision_recall_curve(Y_me, y_hat)\n",
        "    #  precision, recall, thresholds = precision_recall_curve(y_test, clf.decision_function(x_test))\n",
        "     PR = auc(recall, precision)\n",
        "     AUPR.append(PR)\n",
        "     print(\"aupr = \", PR)\n",
        "     sc= clf.score(X_me, Y_me)\n",
        "     score.append(sc)\n",
        "     print(\"Score = \", sc)\n",
        "     print(\"_____________________\")\n",
        "print(\"Mean Score:\",mean_cal(score))\n",
        "print(\"Mean AUC:\",mean_cal(AUC))\n",
        "print(\"Mean AUPR:\",mean_cal(AUPR))\n",
        "print(\"________________________\")\n",
        "\n",
        "\n",
        "ax.plot([0, 1], [0, 1], linestyle='--', lw=2, color='r',\n",
        "        label='Chance', alpha=.8)\n",
        "\n",
        "mean_tpr = np.mean(tprs, axis=0)\n",
        "mean_tpr[-1] = 1.0\n",
        "mean_auc = auc(mean_fpr, mean_tpr)\n",
        "std_auc = np.std(aucs)\n",
        "ax.plot(mean_fpr, mean_tpr, color='b',\n",
        "        label=r'Mean ROC (AUC = %0.2f $\\pm$ %0.2f)'  % (mean_auc, std_auc),\n",
        "        lw=2, alpha=.8)\n",
        "\n",
        "std_tpr = np.std(tprs, axis=0)\n",
        "tprs_upper = np.minimum(mean_tpr + std_tpr, 1)\n",
        "tprs_lower = np.maximum(mean_tpr - std_tpr, 0)\n",
        "ax.fill_between(mean_fpr, tprs_lower, tprs_upper, color='grey', alpha=.2,\n",
        "                label=r'$\\pm$ 1 std. dev.')\n",
        "\n",
        "ax.set(xlim=[-0.05, 1.05], ylim=[-0.05, 1.05],\n",
        "       title=\"Receiver operating characteristic example\")\n",
        "ax.legend(loc=\"lower right\")\n",
        "plt.show()"
      ]
    },
    {
      "cell_type": "markdown",
      "metadata": {
        "id": "l6age1x3ZFpk"
      },
      "source": [
        "# Evaluation on Skin related disease"
      ]
    },
    {
      "cell_type": "markdown",
      "metadata": {
        "id": "TAaTaio1Zhgb"
      },
      "source": [
        "We consider atopic eczema and contact dermatities as test case to show how much it can generalized\n",
        "\n",
        "For this purpose, we should design our DDKG again without considering negative or positive associations"
      ]
    },
    {
      "cell_type": "code",
      "execution_count": 15,
      "metadata": {
        "id": "OcxulzRLaTKy"
      },
      "outputs": [],
      "source": [
        "skin_disease=['C0011615']\n",
        "# skin_disease=['C0011616']"
      ]
    },
    {
      "cell_type": "code",
      "execution_count": 16,
      "metadata": {
        "id": "NE1GWi7TZwuk"
      },
      "outputs": [],
      "source": [
        "ass = pd.read_csv(\"my_repodb.txt\") \n",
        "ass.set_index(\"Unnamed: 0\", inplace=True)\n",
        "\n",
        "# making the list of known drug-disease associations \n",
        "\n",
        "A=[]\n",
        "for ix, row in ass.iterrows():\n",
        "  text = str(row.drug_id)+\" has_indicated \"+str(row.ind_id)+\". \"\n",
        "  A.append(text)\n",
        "\n",
        "associations = A.copy()\n",
        "\n",
        "# making the drug and disease lists\n",
        "\n",
        "my_disease_list = list(set(ass.ind_id))\n",
        "my_drug_list = list(set(ass.drug_id))\n",
        "drugs=list(set(ass.drug_id))"
      ]
    },
    {
      "cell_type": "code",
      "execution_count": 17,
      "metadata": {
        "id": "0atxPcCKZwuo"
      },
      "outputs": [],
      "source": [
        "disease=pd.read_csv(\"/content/drive/MyDrive/RepoDB/DisGeNet/curated_gene_disease_associations.tsv\", delimiter=\"\\t\")\n",
        "database_disease_list= list(set(disease.diseaseId))\n",
        "\n",
        "# making the relation of diseases: has_geneid, has_class, has_semantic, has_type\n",
        "\n",
        "C=[]\n",
        "num1=0\n",
        "num2=0\n",
        "num3=0\n",
        "num4=0\n",
        "for idx, row in disease.iterrows():\n",
        "  if row.diseaseId in my_disease_list:\n",
        "      semtype = \"_\".join(row.diseaseSemanticType.split())\n",
        "      clas = row.diseaseClass.split(\";\")\n",
        "      text1 =str(row.diseaseId)+\" has_geneid \"+str(row.geneSymbol)+\". \"\n",
        "      num1+=1\n",
        "      text2 =str(row.diseaseId)+\" has_type \"+str(row.diseaseType)+\". \"\n",
        "      num2+=1\n",
        "      text3 =str(row.diseaseId)+\" has_semantic \"+str(semtype)+\". \"\n",
        "      num3+=1\n",
        "      C.append(text1)\n",
        "      C.append(text2)\n",
        "      C.append(text3)\n",
        "      num4+=len(clas)\n",
        "      for cl in clas:\n",
        "        text =str(row.diseaseId)+\" has_class \"+str(cl)+\". \"\n",
        "        C.append(text)\n",
        "\n",
        "Disease=\"\"\n",
        "for c in C:\n",
        "  Disease= Disease+c\n"
      ]
    },
    {
      "cell_type": "markdown",
      "metadata": {
        "id": "EcVOyJciZwup"
      },
      "source": [
        "making the drug relations: has_sideeffect, has_target, has_domain, has_atccode, has_chemicalstructure"
      ]
    },
    {
      "cell_type": "code",
      "execution_count": 18,
      "metadata": {
        "id": "mSCquXVHZwup"
      },
      "outputs": [],
      "source": [
        "# has_target relation. data is collected using DrugBank\n",
        "T=[]\n",
        "target= pd.read_csv(\"my_target.txt\")\n",
        "target.set_index(\"Unnamed: 0\", inplace=True)\n",
        "for idx, row in target.iterrows():\n",
        "  for c in target.columns:\n",
        "    if row[c] ==1 :\n",
        "      text =str(idx)+\" has_target \"+str(c)+\". \"\n",
        "      T.append(text)\n",
        "target=\"\"\n",
        "for c in T:\n",
        "  target= target+c"
      ]
    },
    {
      "cell_type": "code",
      "execution_count": 19,
      "metadata": {
        "id": "35vp3xXkZwup"
      },
      "outputs": [],
      "source": [
        "# has_domain relation. data is collected using UniProt\n",
        "D=[]\n",
        "dom= pd.read_csv(\"my_domain.txt\")\n",
        "dom.set_index(\"Unnamed: 0\", inplace=True)\n",
        "for idx, row in dom.iterrows():\n",
        "  for c in dom.columns:\n",
        "    if row[c] ==1 :\n",
        "      text =str(idx)+\" has_domain \"+str(c)+\". \"\n",
        "      D.append(text)\n",
        "\n",
        "domain=\"\"\n",
        "for c in D:\n",
        "  domain= domain+c"
      ]
    },
    {
      "cell_type": "code",
      "execution_count": 20,
      "metadata": {
        "id": "RlMeSKtDZwuq"
      },
      "outputs": [],
      "source": [
        "# has_chemical relation. data is collected using Pubchem\n",
        "C=[]\n",
        "finger= pd.read_csv(\"my_finger.txt\")\n",
        "finger.set_index(\"Unnamed: 0\", inplace=True)\n",
        "for idx, row in finger.iterrows():\n",
        "  for c in finger.columns:\n",
        "    if row[c] ==1 :\n",
        "      text =str(idx)+\" has_chemical S\"+str(c)+\". \"\n",
        "      C.append(text)\n",
        "chemical=\"\"\n",
        "for c in C:\n",
        "  chemical= chemical+c"
      ]
    },
    {
      "cell_type": "code",
      "execution_count": 21,
      "metadata": {
        "id": "1tlbGb9qZwuq"
      },
      "outputs": [],
      "source": [
        "# has_atc_code relation. data is collected using Sider4.1\n",
        "\n",
        "ATC=[]\n",
        "atc= pd.read_csv(\"my_ATC.txt\")\n",
        "atc.set_index(\"Unnamed: 0\", inplace=True)\n",
        "for idx, row in atc.iterrows():\n",
        "  for c in atc.columns:\n",
        "    if row[c] == 1 and (len(c)==4 or len(c)==1 or len(c)==3 or len(c)==5): # we consider first 4 level of ATC code\n",
        "      text =str(idx)+\" has_atc_code \"+str(c)+\". \"\n",
        "      ATC.append(text)\n",
        "atccode=\"\"\n",
        "for c in ATC:\n",
        "  atccode= atccode+c"
      ]
    },
    {
      "cell_type": "code",
      "execution_count": 22,
      "metadata": {
        "id": "_wu_MRZ2Zwur"
      },
      "outputs": [],
      "source": [
        "# has_sideeffect relation. Date is collected using Sider4.1\n",
        "S=[]\n",
        "side= pd.read_csv(\"my_sideeffect.txt\")\n",
        "side.set_index(\"Unnamed: 0\", inplace=True)\n",
        "for idx, row in side.iterrows():\n",
        "  for c in side.columns:\n",
        "    if row[c] ==1 :\n",
        "      text =str(idx)+\" has_sideeffect \"+str(c)+\". \"\n",
        "      S.append(text)"
      ]
    },
    {
      "cell_type": "markdown",
      "metadata": {
        "id": "WvKjvL_SZwus"
      },
      "source": [
        "Extracting drug-disease associations\n",
        "\n",
        "Positive data: Known drug-disease associations\n",
        "\n",
        "Negative data: a subset of unknown drug-disease associations that disease is an adverse drug reaction and common with our side effects"
      ]
    },
    {
      "cell_type": "code",
      "execution_count": 23,
      "metadata": {
        "id": "4pGcD1AsZwus"
      },
      "outputs": [],
      "source": [
        "has = pd.read_csv(\"my_repodb.txt\") # Positive data\n",
        "has.set_index(\"Unnamed: 0\", inplace=True)\n",
        "\n",
        "hasnt = pd.read_csv(\"my_only_negatives.txt\") # Negative data\n",
        "hasnt.set_index(\"Unnamed: 0\", inplace=True)"
      ]
    },
    {
      "cell_type": "code",
      "execution_count": 24,
      "metadata": {
        "id": "IqPDZ28LbFN4"
      },
      "outputs": [],
      "source": [
        "A_test=[]\n",
        "for d in my_drug_list:\n",
        "  text = str(d)+\" has_indicated C0011615. \" \n",
        "  if text in associations:\n",
        "    A.remove(text)\n",
        "    A_test.append(text)\n",
        "ass=\"\" # making the new associations for training the models\n",
        "for c in A:\n",
        "  ass= ass+c"
      ]
    },
    {
      "cell_type": "code",
      "execution_count": 25,
      "metadata": {
        "colab": {
          "base_uri": "https://localhost:8080/"
        },
        "id": "vSeYZ5SWZwus",
        "outputId": "6106fb6a-0b84-4adf-b867-fc38d9550250"
      },
      "outputs": [
        {
          "name": "stdout",
          "output_type": "stream",
          "text": [
            "The number of all known drug disease associations in our dataset:  (778, 2)\n",
            "The number of  known drug disease associations without positive test set: (763, 2)\n"
          ]
        }
      ],
      "source": [
        "has = has.drop(['drug_name', 'ind_name','NCT','status', 'phase',\n",
        "       'DetailedStatus'], axis=1)\n",
        "print(\"The number of all known drug disease associations in our dataset: \",(has.shape))\n",
        "\n",
        "I=[]\n",
        "for idx, row in has.iterrows():\n",
        "  text=str(row.drug_id)+\" has_indicated \"+str(row.ind_id)+\". \"\n",
        "  if text in A_test: # Extracting test associations from positive data\n",
        "    I.append(idx)\n",
        "has = has.drop(index=I, axis=0)\n",
        "print(\"The number of  known drug disease associations without positive test set:\",has.shape)"
      ]
    },
    {
      "cell_type": "code",
      "execution_count": 26,
      "metadata": {
        "id": "MWzS2KZwZwut"
      },
      "outputs": [],
      "source": [
        "hasnt = hasnt.rename(columns={\"Not_indicated_for\":\"ind_id\", \"Drug_id\": \"drug_id\"})\n",
        "\n",
        "I=[]\n",
        "u=0\n",
        "\n",
        "hasnt_test_idx=[]\n",
        "for idx, row in hasnt.iterrows():\n",
        " if row.ind_id == \"C0011615\":\n",
        "  #  print(row)\n",
        "   text = str(row.drug_id)+\" has_sideeffect C0011615. \"\n",
        "   if(text in S):\n",
        "     hasnt_test_idx.append(idx)\n",
        "     I.append(row)\n",
        "     S.remove(text)\n",
        "     u+=1\n",
        "\n",
        "hasnt = hasnt.drop(index=hasnt_test_idx, axis=0)\n",
        "hasnt.shape\n",
        "\n",
        "I=pd.DataFrame(I)\n",
        "\n",
        "side=\"\"\n",
        "for c in S:\n",
        "  side= side+c"
      ]
    },
    {
      "cell_type": "markdown",
      "metadata": {
        "id": "mRu0nRd5Zwut"
      },
      "source": [
        "##Word2Vec implementation\n"
      ]
    },
    {
      "cell_type": "markdown",
      "metadata": {
        "id": "-I8_qgMQZwut"
      },
      "source": [
        "first, we make the file of our DDKG\n"
      ]
    },
    {
      "cell_type": "code",
      "execution_count": 27,
      "metadata": {
        "id": "pV-w8qPdZwut"
      },
      "outputs": [],
      "source": [
        "data=[]\n",
        "sets=[chemical, target, side, domain, atccode, ass, Disease]\n",
        "\n",
        "for s in sets:\n",
        "  for i in sent_tokenize(s):\n",
        "      temp = []\n",
        "      # tokenize the sentence into words\n",
        "      for j in word_tokenize(i):\n",
        "          temp.append(j.lower())\n",
        "      data.append(temp)"
      ]
    },
    {
      "cell_type": "code",
      "execution_count": 28,
      "metadata": {
        "id": "N7GMlB5zZwuu"
      },
      "outputs": [],
      "source": [
        "model1 = gensim.models.Word2Vec(min_count = 1, alpha=0.001, size = 700, window = 2, iter=2000, sg=0)\n",
        "model1.build_vocab(data, progress_per=10000)\n",
        "model1.train(data, total_examples=model1.corpus_count, epochs=500, report_delay=1)\n",
        "model1.init_sims(replace=True)"
      ]
    },
    {
      "cell_type": "code",
      "execution_count": 29,
      "metadata": {
        "id": "yZ4YiUvSZwuu"
      },
      "outputs": [],
      "source": [
        "def mean_cal(K):\n",
        "  sum=0\n",
        "  for k in K:\n",
        "    sum= sum+k\n",
        "  return(sum/len(K))"
      ]
    },
    {
      "cell_type": "markdown",
      "metadata": {
        "id": "Dwxf6Lyydr8G"
      },
      "source": [
        "## training a logistic regression"
      ]
    },
    {
      "cell_type": "code",
      "execution_count": 30,
      "metadata": {
        "id": "YSPkCJpAeAHj"
      },
      "outputs": [],
      "source": [
        "frames = [has, hasnt]\n",
        "\n",
        "f = pd.concat(frames)\n",
        "X=[]\n",
        "for idx, row in f.iterrows():\n",
        "  X.append(np.concatenate((model1[(row.drug_id).lower()], model1[(row.ind_id).lower()]), axis=None))\n",
        "y=np.zeros((len(X), ))\n",
        "\n",
        "for i in range(has.shape[0]):\n",
        "  y[i]=1\n"
      ]
    },
    {
      "cell_type": "code",
      "execution_count": 31,
      "metadata": {
        "colab": {
          "base_uri": "https://localhost:8080/"
        },
        "id": "IxXEbRGVeAHm",
        "outputId": "2ecfb2a4-9e2d-43f4-faab-2a7ddf4a0096"
      },
      "outputs": [
        {
          "name": "stdout",
          "output_type": "stream",
          "text": [
            "3665\n",
            "3472\n"
          ]
        }
      ],
      "source": [
        "over = SMOTE(0.9)\n",
        "# over = RandomOverSampler(0.9)\n",
        "under = RandomUnderSampler()\n",
        "X, y = over.fit_resample(X,y)\n",
        "print(len(X))\n",
        "X,y = under.fit_resample(X,y)\n",
        "print(len(X))"
      ]
    },
    {
      "cell_type": "code",
      "execution_count": 32,
      "metadata": {
        "id": "TBWPVCy9eAHn"
      },
      "outputs": [],
      "source": [
        "X_me = []\n",
        "Y_me = []\n",
        "\n",
        "for a in A_test:\n",
        "  sample = a.split(\" \")\n",
        "  dname =sample[0]\n",
        "  disname = sample[2].split(\".\")\n",
        "  X_me.append(np.concatenate((model1[(dname.rstrip().lower())], model1[(disname[0].lstrip().lower())]), axis=None))\n",
        "  # X_me.append((model1[(dname.rstrip().lower())]- model1[(disname[0].lstrip().lower())]))\n",
        "  Y_me.append(1)\n",
        "for idx, i in I.iterrows():\n",
        "  X_me.append(np.concatenate((model1[i.drug_id.lower()], model1[i.ind_id.lower()]), axis=None))\n",
        "  # X_me.append((model1[i.drug_id.lower()]- model1[i.ind_id.lower()]))\n",
        "  Y_me.append(0)"
      ]
    },
    {
      "cell_type": "code",
      "execution_count": 35,
      "metadata": {
        "colab": {
          "base_uri": "https://localhost:8080/"
        },
        "id": "IUri3suxeAHn",
        "outputId": "8db944c2-05af-44ae-81cc-a41c64bf4e4f"
      },
      "outputs": [
        {
          "name": "stdout",
          "output_type": "stream",
          "text": [
            "auc =  0.9666666666666667\n",
            "aupr =  0.9053747287570817\n"
          ]
        }
      ],
      "source": [
        "clf = LogisticRegression(solver=\"sag\", class_weight = 'balanced', max_iter=10000, penalty='l2').fit(X, y) # penalti should be changed\n",
        "# clf = svm.SVC(kernel=\"linear\", class_weight=\"balanced\").fit(X, y)\n",
        "# clf = DecisionTreeClassifier().fit(X, y)\n",
        "# clf = RandomForestClassifier().fit(X, y)\n",
        "\n",
        "y_hat = clf.predict_proba(X_me)[:,1]\n",
        "A = roc_auc_score(Y_me, y_hat)\n",
        "\n",
        "#  A = roc_auc_score(y_test, clf.decision_function(x_test))\n",
        "print(\"auc = \", A)\n",
        "precision, recall, thresholds = precision_recall_curve(Y_me, y_hat)\n",
        "\n",
        "#  precision, recall, thresholds = precision_recall_curve(y_test, clf.decision_function(x_test))\n",
        "PR = auc(recall, precision)\n",
        "\n",
        "print(\"aupr = \", PR)\n"
      ]
    },
    {
      "cell_type": "markdown",
      "metadata": {
        "id": "uH_UQRWjHOm-"
      },
      "source": [
        "Now, we calculate the association score between our disease and all drugs to find the first 10 reltaed drugs to them"
      ]
    },
    {
      "cell_type": "code",
      "execution_count": 36,
      "metadata": {
        "id": "Np3OT4zwptoH"
      },
      "outputs": [],
      "source": [
        "skin_disease=['C0011615']\n",
        "\n",
        "SCOR_PD=pd.DataFrame(columns={\"Dis_id\", \"Drug_id\", \"Score\"}) # To save association score\n",
        "for dis in skin_disease:\n",
        "  for drug in my_drug_list:\n",
        "    x=np.concatenate((model1[(drug).lower()], model1[(dis).lower()]), axis=None)\n",
        "    # x= x.reshape(-1, 1)\n",
        "    s = clf.predict_proba([x])[:,1]\n",
        "    # s = clf.predict([x])\n",
        "    df2 = {\"Dis_id\":dis, \"Drug_id\":drug, \"Score\":s}\n",
        "    SCOR_PD = SCOR_PD.append(df2, ignore_index = True)\n"
      ]
    },
    {
      "cell_type": "code",
      "execution_count": 39,
      "metadata": {
        "colab": {
          "base_uri": "https://localhost:8080/"
        },
        "id": "-F-8rSUC7KJ2",
        "outputId": "6bd85cde-9508-406b-db47-bece49814682"
      },
      "outputs": [
        {
          "name": "stdout",
          "output_type": "stream",
          "text": [
            "All: 15 Sum: 6\n"
          ]
        }
      ],
      "source": [
        "top10_drugs=[]  \n",
        "for dis in skin_disease:\n",
        "  dis_pd = SCOR_PD[SCOR_PD.Dis_id == dis]\n",
        "  m = dis_pd.Score.max()\n",
        "  dis_pd = dis_pd.sort_values(by='Score', ascending=False) # First we sort the scores\n",
        "  dis_pd = dis_pd.head(10) # Extract the top 10\n",
        "  sum=0 \n",
        "  \n",
        "  for idx, row in dis_pd.iterrows():\n",
        "    text = str(row.Drug_id)+' has_indicated '+str(dis)+'. '   # Check is there any association between them in our dataset or not\n",
        "    if text in associations:\n",
        "      sum+=1 # if there is, we count it\n",
        "    all=0\n",
        "    for d in my_drug_list:  # Here we find the number of all related drugs to the disease\n",
        "      text = str(d)+' has_indicated '+str(dis)+'. '\n",
        "      if text in associations:\n",
        "        all+=1\n",
        "        # print(text)\n",
        "  if(all!=0):\n",
        "    print(\"All:\", all, \"Sum:\", sum)\n",
        "    if(all>10):\n",
        "      top10_drugs.append(sum/10)  \n",
        "    else:\n",
        "      top10_drugs.append(sum/all)\n",
        "  else:\n",
        "    top10_drugs.append(0)"
      ]
    },
    {
      "cell_type": "markdown",
      "metadata": {
        "id": "NvI90Bl8v8UC"
      },
      "source": [
        "###find unknown associations\n"
      ]
    },
    {
      "cell_type": "code",
      "execution_count": 44,
      "metadata": {
        "colab": {
          "base_uri": "https://localhost:8080/"
        },
        "id": "lMknmuOpqTNH",
        "outputId": "4980ed9c-3bc7-4ddb-cd1e-94ea59859682"
      },
      "outputs": [
        {
          "name": "stdout",
          "output_type": "stream",
          "text": [
            "DB00394 has_indicated C0011615. \n",
            "DB00324 has_indicated C0011615. \n",
            "DB01047 has_indicated C0011615. \n",
            "DB00838 has_indicated C0011615. \n"
          ]
        }
      ],
      "source": [
        "for id in skin_disease:\n",
        "  dis_pd = SCOR_PD[SCOR_PD.Dis_id==id]\n",
        "  dis_pd = dis_pd.sort_values(by='Score', ascending=False)\n",
        "  dis_pd = dis_pd.head(10)\n",
        "  for idx, row in dis_pd.iterrows():\n",
        "    text = str(row.Drug_id)+' has_indicated '+str(row.Dis_id)+'. '\n",
        "    if not(text in associations):\n",
        "      print(text)\n"
      ]
    }
  ],
  "metadata": {
    "colab": {
      "collapsed_sections": [
        "OZEjehlD9jb3",
        "E4DPQo6ciHJF",
        "4ocxfgkg4f73",
        "9_O6CwblyN-E",
        "a-FQltnkF8pd",
        "P7l7mXgEGB1x",
        "htEeiKjGBxLC",
        "D1GhuQZ-I5-F",
        "EEqC_NBhyygv",
        "l6age1x3ZFpk",
        "mRu0nRd5Zwut",
        "Dwxf6Lyydr8G"
      ],
      "provenance": []
    },
    "kernelspec": {
      "display_name": "Python 3",
      "name": "python3"
    },
    "language_info": {
      "name": "python"
    }
  },
  "nbformat": 4,
  "nbformat_minor": 0
}
